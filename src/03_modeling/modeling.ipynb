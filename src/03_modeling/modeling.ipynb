{
  "cells": [
    {
      "cell_type": "markdown",
      "metadata": {
        "id": "qV6r0oIPyMa-"
      },
      "source": [
        "----\n",
        "## Summary\n",
        "In the last notebook, I have prepared under sampled and over sampled dataset to check the accuracy of the CNN+MLP (Mixed Dataset) model. But before I ran the the model to classify cancer, I need to add density into list of features, where `0: 'Not Dense', 1: 'Dense'` since 50% of the patient's dataset was missing density classification. This should improve model prediction based on article [American Cancer Society](https://www.cancer.org/cancer/breast-cancer/screening-tests-and-early-detection/mammograms/breast-density-and-your-mammogram-report.html) and [National Library of Medicine](https://www.ncbi.nlm.nih.gov/pmc/articles/PMC6113143/#CR11) describing density classification improves the model prediction for particularly **MLO** view of the breast. This notebook has been ran on **Google Colab** "
      ]
    },
    {
      "cell_type": "code",
      "execution_count": 1,
      "metadata": {
        "colab": {
          "base_uri": "https://localhost:8080/"
        },
        "id": "W6PSSlVNkmfr",
        "outputId": "0e3c7563-7dbe-4b17-e238-6c2b3ed3752c"
      },
      "outputs": [
        {
          "name": "stdout",
          "output_type": "stream",
          "text": [
            "Mounted at /content/drive\n"
          ]
        }
      ],
      "source": [
        "# Mount google drive\n",
        "from google.colab import drive\n",
        "drive.mount('/content/drive')"
      ]
    },
    {
      "cell_type": "code",
      "execution_count": 1,
      "metadata": {
        "id": "fDL913KoHkLF"
      },
      "outputs": [],
      "source": [
        "# imports\n",
        "import matplotlib.pyplot as plt\n",
        "import numpy as np\n",
        "import os\n",
        "import pandas as pd\n",
        "\n",
        "from tensorflow.keras.layers import Dense, Dropout, Flatten, Conv2D, MaxPooling2D\n",
        "from tensorflow.keras.preprocessing import image_dataset_from_directory\n",
        "from tensorflow.keras import layers\n",
        "\n",
        "from sklearn.model_selection import train_test_split\n",
        "from tensorflow.keras.applications.xception import Xception, preprocess_input\n",
        "from tensorflow.keras.applications.resnet_v2 import ResNet50V2\n",
        "\n",
        "from tensorflow.keras.callbacks import EarlyStopping, ModelCheckpoint\n",
        "from tensorflow.keras.models import load_model, Model, Sequential\n",
        "from tensorflow.keras.optimizers import Adam\n",
        "\n",
        "from sklearn.metrics import (\n",
        "    confusion_matrix,\n",
        "    ConfusionMatrixDisplay,\n",
        "    classification_report,\n",
        "    RocCurveDisplay,\n",
        "    accuracy_score,\n",
        "    auc,\n",
        "    roc_curve\n",
        ")\n",
        "\n",
        "# For reproducibility\n",
        "np.random.seed(42)\n",
        "from scipy import sparse\n"
      ]
    },
    {
      "cell_type": "code",
      "execution_count": 2,
      "metadata": {
        "id": "aDiBV3lpJ7Ts"
      },
      "outputs": [],
      "source": [
        "# Set up base folder path \n",
        "base_path = '/content/drive/MyDrive/General Assembly/breast_cancer_project/'\n",
        "# Set up which resolution of mammogram needs to be picked\n",
        "image_folder = 'breast_imaging_300px'"
      ]
    },
    {
      "cell_type": "code",
      "execution_count": 4,
      "metadata": {
        "id": "Votyc5Q0wXcE"
      },
      "outputs": [],
      "source": [
        "# Load preprocessed Train, Test, Val dataset to classify density of the breast\n",
        "density_train = pd.read_csv(f'{base_path}model_data/density_train.csv')\n",
        "density_test = pd.read_csv(f'{base_path}model_data/density_test.csv')\n",
        "density_predict = pd.read_csv(f'{base_path}model_data/predict_density_df.csv')"
      ]
    },
    {
      "cell_type": "code",
      "execution_count": 5,
      "metadata": {
        "colab": {
          "base_uri": "https://localhost:8080/"
        },
        "id": "JtxgiQ4AI089",
        "outputId": "09e6d48f-cf8b-4a39-e05d-f795e56dab93"
      },
      "outputs": [
        {
          "data": {
            "text/plain": [
              "((20603, 13), (8830, 13), (25236, 13))"
            ]
          },
          "execution_count": 5,
          "metadata": {},
          "output_type": "execute_result"
        }
      ],
      "source": [
        "# Check dataset shapes\n",
        "density_train.shape, density_test.shape, density_predict.shape"
      ]
    },
    {
      "cell_type": "code",
      "execution_count": 39,
      "metadata": {
        "colab": {
          "base_uri": "https://localhost:8080/"
        },
        "id": "oAtIOZDByiLK",
        "outputId": "79ff885b-b96b-463e-d3c4-5ff57a6a8550"
      },
      "outputs": [
        {
          "name": "stdout",
          "output_type": "stream",
          "text": [
            "0    0.535144\n",
            "1    0.464856\n",
            "Name: density, dtype: float64\n"
          ]
        },
        {
          "data": {
            "text/plain": [
              "0    0.534665\n",
              "1    0.465335\n",
              "Name: density, dtype: float64"
            ]
          },
          "execution_count": 39,
          "metadata": {},
          "output_type": "execute_result"
        }
      ],
      "source": [
        "# baseline for density\n",
        "print(density_train['density'].map({0: 0, 1: 0, 2: 1, 3: 1}).value_counts(normalize=True))\n",
        "\n",
        "density_test['density'].map({0: 0, 1: 0, 2: 1, 3: 1}).value_counts(normalize=True)"
      ]
    },
    {
      "cell_type": "code",
      "execution_count": 6,
      "metadata": {
        "colab": {
          "base_uri": "https://localhost:8080/",
          "height": 145
        },
        "id": "U8Z-DMdkJvn-",
        "outputId": "0ace0f52-50bf-470b-97c9-03abd71634c9"
      },
      "outputs": [
        {
          "data": {
            "text/html": [
              "\n",
              "  <div id=\"df-d2659c96-da73-42b2-a217-b9eb0c002191\">\n",
              "    <div class=\"colab-df-container\">\n",
              "      <div>\n",
              "<style scoped>\n",
              "    .dataframe tbody tr th:only-of-type {\n",
              "        vertical-align: middle;\n",
              "    }\n",
              "\n",
              "    .dataframe tbody tr th {\n",
              "        vertical-align: top;\n",
              "    }\n",
              "\n",
              "    .dataframe thead th {\n",
              "        text-align: right;\n",
              "    }\n",
              "</style>\n",
              "<table border=\"1\" class=\"dataframe\">\n",
              "  <thead>\n",
              "    <tr style=\"text-align: right;\">\n",
              "      <th></th>\n",
              "      <th>site_id</th>\n",
              "      <th>patient_id</th>\n",
              "      <th>image_id</th>\n",
              "      <th>laterality</th>\n",
              "      <th>view</th>\n",
              "      <th>age</th>\n",
              "      <th>cancer</th>\n",
              "      <th>biopsy</th>\n",
              "      <th>invasive</th>\n",
              "      <th>BIRADS</th>\n",
              "      <th>implant</th>\n",
              "      <th>density</th>\n",
              "      <th>difficult_negative_case</th>\n",
              "    </tr>\n",
              "  </thead>\n",
              "  <tbody>\n",
              "    <tr>\n",
              "      <th>0</th>\n",
              "      <td>1</td>\n",
              "      <td>63286</td>\n",
              "      <td>268346882</td>\n",
              "      <td>R</td>\n",
              "      <td>CC</td>\n",
              "      <td>40.0</td>\n",
              "      <td>0</td>\n",
              "      <td>0</td>\n",
              "      <td>0</td>\n",
              "      <td>1</td>\n",
              "      <td>0</td>\n",
              "      <td>2.0</td>\n",
              "      <td>False</td>\n",
              "    </tr>\n",
              "  </tbody>\n",
              "</table>\n",
              "</div>\n",
              "      <button class=\"colab-df-convert\" onclick=\"convertToInteractive('df-d2659c96-da73-42b2-a217-b9eb0c002191')\"\n",
              "              title=\"Convert this dataframe to an interactive table.\"\n",
              "              style=\"display:none;\">\n",
              "        \n",
              "  <svg xmlns=\"http://www.w3.org/2000/svg\" height=\"24px\"viewBox=\"0 0 24 24\"\n",
              "       width=\"24px\">\n",
              "    <path d=\"M0 0h24v24H0V0z\" fill=\"none\"/>\n",
              "    <path d=\"M18.56 5.44l.94 2.06.94-2.06 2.06-.94-2.06-.94-.94-2.06-.94 2.06-2.06.94zm-11 1L8.5 8.5l.94-2.06 2.06-.94-2.06-.94L8.5 2.5l-.94 2.06-2.06.94zm10 10l.94 2.06.94-2.06 2.06-.94-2.06-.94-.94-2.06-.94 2.06-2.06.94z\"/><path d=\"M17.41 7.96l-1.37-1.37c-.4-.4-.92-.59-1.43-.59-.52 0-1.04.2-1.43.59L10.3 9.45l-7.72 7.72c-.78.78-.78 2.05 0 2.83L4 21.41c.39.39.9.59 1.41.59.51 0 1.02-.2 1.41-.59l7.78-7.78 2.81-2.81c.8-.78.8-2.07 0-2.86zM5.41 20L4 18.59l7.72-7.72 1.47 1.35L5.41 20z\"/>\n",
              "  </svg>\n",
              "      </button>\n",
              "      \n",
              "  <style>\n",
              "    .colab-df-container {\n",
              "      display:flex;\n",
              "      flex-wrap:wrap;\n",
              "      gap: 12px;\n",
              "    }\n",
              "\n",
              "    .colab-df-convert {\n",
              "      background-color: #E8F0FE;\n",
              "      border: none;\n",
              "      border-radius: 50%;\n",
              "      cursor: pointer;\n",
              "      display: none;\n",
              "      fill: #1967D2;\n",
              "      height: 32px;\n",
              "      padding: 0 0 0 0;\n",
              "      width: 32px;\n",
              "    }\n",
              "\n",
              "    .colab-df-convert:hover {\n",
              "      background-color: #E2EBFA;\n",
              "      box-shadow: 0px 1px 2px rgba(60, 64, 67, 0.3), 0px 1px 3px 1px rgba(60, 64, 67, 0.15);\n",
              "      fill: #174EA6;\n",
              "    }\n",
              "\n",
              "    [theme=dark] .colab-df-convert {\n",
              "      background-color: #3B4455;\n",
              "      fill: #D2E3FC;\n",
              "    }\n",
              "\n",
              "    [theme=dark] .colab-df-convert:hover {\n",
              "      background-color: #434B5C;\n",
              "      box-shadow: 0px 1px 3px 1px rgba(0, 0, 0, 0.15);\n",
              "      filter: drop-shadow(0px 1px 2px rgba(0, 0, 0, 0.3));\n",
              "      fill: #FFFFFF;\n",
              "    }\n",
              "  </style>\n",
              "\n",
              "      <script>\n",
              "        const buttonEl =\n",
              "          document.querySelector('#df-d2659c96-da73-42b2-a217-b9eb0c002191 button.colab-df-convert');\n",
              "        buttonEl.style.display =\n",
              "          google.colab.kernel.accessAllowed ? 'block' : 'none';\n",
              "\n",
              "        async function convertToInteractive(key) {\n",
              "          const element = document.querySelector('#df-d2659c96-da73-42b2-a217-b9eb0c002191');\n",
              "          const dataTable =\n",
              "            await google.colab.kernel.invokeFunction('convertToInteractive',\n",
              "                                                     [key], {});\n",
              "          if (!dataTable) return;\n",
              "\n",
              "          const docLinkHtml = 'Like what you see? Visit the ' +\n",
              "            '<a target=\"_blank\" href=https://colab.research.google.com/notebooks/data_table.ipynb>data table notebook</a>'\n",
              "            + ' to learn more about interactive tables.';\n",
              "          element.innerHTML = '';\n",
              "          dataTable['output_type'] = 'display_data';\n",
              "          await google.colab.output.renderOutput(dataTable, element);\n",
              "          const docLink = document.createElement('div');\n",
              "          docLink.innerHTML = docLinkHtml;\n",
              "          element.appendChild(docLink);\n",
              "        }\n",
              "      </script>\n",
              "    </div>\n",
              "  </div>\n",
              "  "
            ],
            "text/plain": [
              "   site_id  patient_id   image_id laterality view   age  cancer  biopsy  \\\n",
              "0        1       63286  268346882          R   CC  40.0       0       0   \n",
              "\n",
              "   invasive  BIRADS  implant  density  difficult_negative_case  \n",
              "0         0       1        0      2.0                    False  "
            ]
          },
          "execution_count": 6,
          "metadata": {},
          "output_type": "execute_result"
        }
      ],
      "source": [
        "# Check if columns align with what expected\n",
        "density_train.head(1)"
      ]
    },
    {
      "cell_type": "code",
      "execution_count": 7,
      "metadata": {
        "id": "MDypeP8fV4Ep"
      },
      "outputs": [],
      "source": [
        "# Convert Object column datatypes into integer representation for Train, Test, and Val\n",
        "density_train['laterality'] = density_train['laterality'].map({'L': 0, 'R': 1})\n",
        "density_train['view'] = density_train['view'].map({'CC': 0, 'MLO': 1})\n",
        "\n",
        "density_test['laterality'] = density_test['laterality'].map({'L': 0, 'R': 1})\n",
        "density_test['view'] = density_test['view'].map({'CC': 0, 'MLO': 1})\n",
        "\n",
        "density_predict['laterality'] = density_predict['laterality'].map({'L': 0, 'R': 1})\n",
        "density_predict['view'] = density_predict['view'].map({'CC': 0, 'MLO': 1})\n"
      ]
    },
    {
      "cell_type": "code",
      "execution_count": 8,
      "metadata": {
        "id": "-RNeKCeu9R41"
      },
      "outputs": [],
      "source": [
        "# Add new column image uri for Train, Test, and Val \n",
        "density_train['img_uri'] = ''\n",
        "density_test['img_uri'] = ''\n",
        "density_predict['img_uri'] = ''"
      ]
    },
    {
      "cell_type": "code",
      "execution_count": 9,
      "metadata": {
        "colab": {
          "base_uri": "https://localhost:8080/",
          "height": 145
        },
        "id": "ImjUDCD5WatC",
        "outputId": "ee5a17e6-94ca-4304-9716-ee7bf364da61"
      },
      "outputs": [
        {
          "data": {
            "text/html": [
              "\n",
              "  <div id=\"df-f2c314ef-4c17-4c1a-9511-26d9548316c8\">\n",
              "    <div class=\"colab-df-container\">\n",
              "      <div>\n",
              "<style scoped>\n",
              "    .dataframe tbody tr th:only-of-type {\n",
              "        vertical-align: middle;\n",
              "    }\n",
              "\n",
              "    .dataframe tbody tr th {\n",
              "        vertical-align: top;\n",
              "    }\n",
              "\n",
              "    .dataframe thead th {\n",
              "        text-align: right;\n",
              "    }\n",
              "</style>\n",
              "<table border=\"1\" class=\"dataframe\">\n",
              "  <thead>\n",
              "    <tr style=\"text-align: right;\">\n",
              "      <th></th>\n",
              "      <th>site_id</th>\n",
              "      <th>patient_id</th>\n",
              "      <th>image_id</th>\n",
              "      <th>laterality</th>\n",
              "      <th>view</th>\n",
              "      <th>age</th>\n",
              "      <th>cancer</th>\n",
              "      <th>biopsy</th>\n",
              "      <th>invasive</th>\n",
              "      <th>BIRADS</th>\n",
              "      <th>implant</th>\n",
              "      <th>density</th>\n",
              "      <th>difficult_negative_case</th>\n",
              "      <th>img_uri</th>\n",
              "    </tr>\n",
              "  </thead>\n",
              "  <tbody>\n",
              "    <tr>\n",
              "      <th>0</th>\n",
              "      <td>1</td>\n",
              "      <td>63286</td>\n",
              "      <td>268346882</td>\n",
              "      <td>1</td>\n",
              "      <td>0.0</td>\n",
              "      <td>40.0</td>\n",
              "      <td>0</td>\n",
              "      <td>0</td>\n",
              "      <td>0</td>\n",
              "      <td>1</td>\n",
              "      <td>0</td>\n",
              "      <td>2.0</td>\n",
              "      <td>False</td>\n",
              "      <td></td>\n",
              "    </tr>\n",
              "  </tbody>\n",
              "</table>\n",
              "</div>\n",
              "      <button class=\"colab-df-convert\" onclick=\"convertToInteractive('df-f2c314ef-4c17-4c1a-9511-26d9548316c8')\"\n",
              "              title=\"Convert this dataframe to an interactive table.\"\n",
              "              style=\"display:none;\">\n",
              "        \n",
              "  <svg xmlns=\"http://www.w3.org/2000/svg\" height=\"24px\"viewBox=\"0 0 24 24\"\n",
              "       width=\"24px\">\n",
              "    <path d=\"M0 0h24v24H0V0z\" fill=\"none\"/>\n",
              "    <path d=\"M18.56 5.44l.94 2.06.94-2.06 2.06-.94-2.06-.94-.94-2.06-.94 2.06-2.06.94zm-11 1L8.5 8.5l.94-2.06 2.06-.94-2.06-.94L8.5 2.5l-.94 2.06-2.06.94zm10 10l.94 2.06.94-2.06 2.06-.94-2.06-.94-.94-2.06-.94 2.06-2.06.94z\"/><path d=\"M17.41 7.96l-1.37-1.37c-.4-.4-.92-.59-1.43-.59-.52 0-1.04.2-1.43.59L10.3 9.45l-7.72 7.72c-.78.78-.78 2.05 0 2.83L4 21.41c.39.39.9.59 1.41.59.51 0 1.02-.2 1.41-.59l7.78-7.78 2.81-2.81c.8-.78.8-2.07 0-2.86zM5.41 20L4 18.59l7.72-7.72 1.47 1.35L5.41 20z\"/>\n",
              "  </svg>\n",
              "      </button>\n",
              "      \n",
              "  <style>\n",
              "    .colab-df-container {\n",
              "      display:flex;\n",
              "      flex-wrap:wrap;\n",
              "      gap: 12px;\n",
              "    }\n",
              "\n",
              "    .colab-df-convert {\n",
              "      background-color: #E8F0FE;\n",
              "      border: none;\n",
              "      border-radius: 50%;\n",
              "      cursor: pointer;\n",
              "      display: none;\n",
              "      fill: #1967D2;\n",
              "      height: 32px;\n",
              "      padding: 0 0 0 0;\n",
              "      width: 32px;\n",
              "    }\n",
              "\n",
              "    .colab-df-convert:hover {\n",
              "      background-color: #E2EBFA;\n",
              "      box-shadow: 0px 1px 2px rgba(60, 64, 67, 0.3), 0px 1px 3px 1px rgba(60, 64, 67, 0.15);\n",
              "      fill: #174EA6;\n",
              "    }\n",
              "\n",
              "    [theme=dark] .colab-df-convert {\n",
              "      background-color: #3B4455;\n",
              "      fill: #D2E3FC;\n",
              "    }\n",
              "\n",
              "    [theme=dark] .colab-df-convert:hover {\n",
              "      background-color: #434B5C;\n",
              "      box-shadow: 0px 1px 3px 1px rgba(0, 0, 0, 0.15);\n",
              "      filter: drop-shadow(0px 1px 2px rgba(0, 0, 0, 0.3));\n",
              "      fill: #FFFFFF;\n",
              "    }\n",
              "  </style>\n",
              "\n",
              "      <script>\n",
              "        const buttonEl =\n",
              "          document.querySelector('#df-f2c314ef-4c17-4c1a-9511-26d9548316c8 button.colab-df-convert');\n",
              "        buttonEl.style.display =\n",
              "          google.colab.kernel.accessAllowed ? 'block' : 'none';\n",
              "\n",
              "        async function convertToInteractive(key) {\n",
              "          const element = document.querySelector('#df-f2c314ef-4c17-4c1a-9511-26d9548316c8');\n",
              "          const dataTable =\n",
              "            await google.colab.kernel.invokeFunction('convertToInteractive',\n",
              "                                                     [key], {});\n",
              "          if (!dataTable) return;\n",
              "\n",
              "          const docLinkHtml = 'Like what you see? Visit the ' +\n",
              "            '<a target=\"_blank\" href=https://colab.research.google.com/notebooks/data_table.ipynb>data table notebook</a>'\n",
              "            + ' to learn more about interactive tables.';\n",
              "          element.innerHTML = '';\n",
              "          dataTable['output_type'] = 'display_data';\n",
              "          await google.colab.output.renderOutput(dataTable, element);\n",
              "          const docLink = document.createElement('div');\n",
              "          docLink.innerHTML = docLinkHtml;\n",
              "          element.appendChild(docLink);\n",
              "        }\n",
              "      </script>\n",
              "    </div>\n",
              "  </div>\n",
              "  "
            ],
            "text/plain": [
              "   site_id  patient_id   image_id  laterality  view   age  cancer  biopsy  \\\n",
              "0        1       63286  268346882           1   0.0  40.0       0       0   \n",
              "\n",
              "   invasive  BIRADS  implant  density  difficult_negative_case img_uri  \n",
              "0         0       1        0      2.0                    False          "
            ]
          },
          "execution_count": 9,
          "metadata": {},
          "output_type": "execute_result"
        }
      ],
      "source": [
        "# Check if newly added column exists\n",
        "density_train.head(1)"
      ]
    },
    {
      "cell_type": "code",
      "execution_count": 10,
      "metadata": {
        "id": "WLg8Pl7S8-UI"
      },
      "outputs": [],
      "source": [
        "# TEMP\n",
        "def extract_patient_image_file_path(\n",
        "    target_folder, df, base_path, \n",
        "    target_A, target_B, patient_col, \n",
        "    image_id_col, image_uri_col, is_test=False\n",
        "    ):\n",
        "  \n",
        "    if not is_test:\n",
        "      cancer_path = f'{target_folder}/{target_A}'\n",
        "      no_cancer_path = f'{target_folder}/{target_B}'\n",
        "    else:\n",
        "      test_path = f'{target_folder}/{target_A}'\n",
        "\n",
        "    count = 0\n",
        "    for index in df.index.tolist():\n",
        "      path = \"\"\n",
        "      img_prefix = \"\"\n",
        "      patient_id = df.loc[index, patient_col]\n",
        "\n",
        "      if not is_test:\n",
        "        if df.loc[index, target_A] == 0:\n",
        "          img_prefix = target_B\n",
        "          path = f\"{base_path}{no_cancer_path}/{patient_id}\"\n",
        "\n",
        "        else:\n",
        "          img_prefix = target_A\n",
        "          path = f\"{base_path}{cancer_path}/{patient_id}\"\n",
        "      else:\n",
        "        img_prefix = target_A\n",
        "        path = f\"{base_path}{test_path}/{patient_id}\"\n",
        "\n",
        "      patient_img_id = df.loc[index, image_id_col]\n",
        "\n",
        "      path = f\"{path}/{img_prefix}_{patient_id}_{patient_img_id}.npz\"\n",
        "\n",
        "      if os.path.exists(path):\n",
        "        df.loc[index, image_uri_col] = path\n",
        "    "
      ]
    },
    {
      "cell_type": "code",
      "execution_count": 13,
      "metadata": {
        "id": "qVJfH0l89Kv8"
      },
      "outputs": [],
      "source": [
        "# Extract image file path for each petient\n",
        "extract_patient_image_file_path(\n",
        "    image_folder, density_train, base_path, \n",
        "    'cancer', 'no_cancer', 'patient_id', 'image_id', 'img_uri')\n",
        "\n",
        "extract_patient_image_file_path(\n",
        "    image_folder, density_test, base_path, \n",
        "    'cancer', 'no_cancer', 'patient_id', 'image_id', 'img_uri')\n",
        "\n",
        "extract_patient_image_file_path(\n",
        "    image_folder, density_predict, base_path, \n",
        "    'cancer', 'no_cancer', 'patient_id', 'image_id', 'img_uri')\n"
      ]
    },
    {
      "cell_type": "code",
      "execution_count": 14,
      "metadata": {
        "id": "EoEMVbLkh1TV"
      },
      "outputs": [],
      "source": [
        "# Remove missing images\n",
        "density_train = density_train[density_train['img_uri'] != '']\n",
        "density_test = density_test[density_test['img_uri'] != '']\n",
        "density_predict = density_predict[density_predict['img_uri'] != '']"
      ]
    },
    {
      "cell_type": "code",
      "execution_count": 15,
      "metadata": {
        "id": "FkrmHpk46zmn"
      },
      "outputs": [],
      "source": [
        "def convert_image_to_3_channel(org_img):\n",
        "  # Initialize 3 channeled image template filled with 0\n",
        "  img = np.zeros( ( np.array(org_img).shape[0], np.array(org_img).shape[1], 3 ) )\n",
        "  \n",
        "  # same value in each channel\n",
        "  img[:,:,0] = org_img \n",
        "  img[:,:,1] = org_img\n",
        "  img[:,:,2] = org_img\n",
        "\n",
        "  return img"
      ]
    },
    {
      "cell_type": "code",
      "execution_count": 16,
      "metadata": {
        "id": "se_Ya3KHwXcF"
      },
      "outputs": [],
      "source": [
        "def construct_image_array(sparse_dir_list):\n",
        "    # Init list for image data\n",
        "    image_data = []\n",
        "\n",
        "    # Loop through directory list passed where sparse matrix stored\n",
        "    for sparse_path in sparse_dir_list:\n",
        "        # Load sparse matrix file\n",
        "        sparse_matrix = sparse.load_npz(sparse_path)\n",
        "        # Convert mammogram into 3 channeled image\n",
        "        three_channel_image = convert_image_to_3_channel(sparse_matrix.todense())\n",
        "        # Append new 3 channeled list into image data list\n",
        "        image_data.append(three_channel_image)\n",
        "\n",
        "    # Convert image data list into numpy array\n",
        "    image_data = np.array(image_data)\n",
        "    # Return the result\n",
        "    return image_data\n"
      ]
    },
    {
      "cell_type": "code",
      "execution_count": 17,
      "metadata": {
        "id": "EcAPgxE3H0CU"
      },
      "outputs": [],
      "source": [
        "def generate_model_chart(base_path, title, model_name, target, res):\n",
        "  # Set graph title\n",
        "  plt.title(f\"{title} - {model_name} - Accuracy\")\n",
        "  # Plot Train accuracy\n",
        "  plt.plot(res.history[\"acc\"], label=\"Train acc\")\n",
        "  # Plot Test accuracy\n",
        "  plt.plot(res.history[\"val_acc\"], label=\"Test acc\")\n",
        "  # Activate legends\n",
        "  plt.legend()\n",
        "  # Save the graph\n",
        "  plt.savefig(target)\n",
        "  # Display the graph\n",
        "  plt.show()\n",
        "\n",
        "  # Set graph title\n",
        "  plt.title(f\"{title} - {model_name} - Loss\")\n",
        "  # Plot Train accuracy\n",
        "  plt.plot(res.history[\"loss\"], label=\"Train Loss\")\n",
        "  # Plot Test accuracy\n",
        "  plt.plot(res.history[\"val_loss\"], label=\"Test Loss\")\n",
        "  # Activate legends\n",
        "  plt.legend()\n",
        "  # Save the graph\n",
        "  plt.savefig(target)\n",
        "  # Display the graph\n",
        "  plt.show()"
      ]
    },
    {
      "cell_type": "code",
      "execution_count": 72,
      "metadata": {
        "id": "Ac4tfJKGv0mr"
      },
      "outputs": [],
      "source": [
        "# Metrics functions\n",
        "\n",
        "def roc_curve_plot(y_test, y_pred, title, file_path):\n",
        "  # fpr, tpr, thresholds = roc_curve(y_test, y_pred)\n",
        "  # roc_auc = auc(fpr, tpr)\n",
        "  # RocCurveDisplay(fpr=fpr, tpr=tpr, roc_auc=roc_auc,\n",
        "  #                                  estimator_name=title)\n",
        "  RocCurveDisplay.from_predictions(y_test, y_pred, name=title)\n",
        "  plt.savefig(file_path)\n",
        "  plt.plot()\n",
        "\n",
        "def plot_confusion_matrix(y_test, y_preds, labels, file_path):\n",
        "    # View confusion matrix\n",
        "    cm = confusion_matrix(y_test, y_preds)\n",
        "    display = ConfusionMatrixDisplay(cm, display_labels=labels)\n",
        "    display.plot()\n",
        "    plt.title('XCEPTION model confusion matrics')\n",
        "    plt.tight_layout()\n",
        "    plt.savefig(file_path)\n",
        "    plt.show();\n",
        "\n",
        "def print_classification_report(y_test, pred_cross, labels):\n",
        "    print(\n",
        "        f\"Classifier Report:\\n{classification_report(y_test, pred_cross, labels=labels)}\"\n",
        "    )"
      ]
    },
    {
      "cell_type": "code",
      "execution_count": 19,
      "metadata": {
        "id": "wLLDofXVAjyw"
      },
      "outputs": [],
      "source": [
        "def xception_model_run(\n",
        "    img_shape, stats_shape, \n",
        "    X_train, X_test, y_train, \n",
        "    y_test, X_train_img, X_test_img, \n",
        "    version, target, title, base_path):\n",
        "    \"\"\"\n",
        "    XCEPTION FUNCTIONAL MODEL\n",
        "    \"\"\"\n",
        "    # Define the Picture (CNN) Stream\n",
        "    input_pic = layers.Input(shape=(img_shape, img_shape, 3))\n",
        "    x         = layers.Lambda(preprocess_input)(input_pic)\n",
        "    x         = Xception(input_shape=((img_shape, img_shape, 3)), include_top=False)(x)\n",
        "    x         = layers.GlobalAveragePooling2D()(x)\n",
        "    x         = layers.Dense(10, activation='relu')(x)\n",
        "    x         = Model(inputs=input_pic, outputs=x)\n",
        "\n",
        "    # Define the Stats (Feed-Forward) Stream\n",
        "    input_stats = layers.Input(shape=(stats_shape,))\n",
        "    y = layers.Dense(64, activation=\"relu\")(input_stats)\n",
        "    y = layers.Dense(10, activation=\"relu\")(y)\n",
        "    y = Model(inputs=input_stats, outputs=y)\n",
        "\n",
        "    # Concatenate the two streams together\n",
        "    combined = layers.concatenate([x.output, y.output])\n",
        "\n",
        "    # Define joined Feed-Forward Layer\n",
        "    z = layers.Dense(4, activation=\"relu\")(combined)\n",
        "\n",
        "    # Define output node of 1 linear neuron (regression task)\n",
        "    z = layers.Dense(1, activation=\"sigmoid\")(z)\n",
        "\n",
        "    # Define the final model\n",
        "    model = Model(inputs=[x.input, y.input], outputs=z)\n",
        "\n",
        "    # Optimizer\n",
        "    optimizer = Adam(learning_rate=0.001)\n",
        "\n",
        "    # Compile the model\n",
        "    model.compile(optimizer=optimizer, loss=\"bce\", metrics=[\"acc\"])\n",
        "\n",
        "    # Init early stopping point to 4 rounds\n",
        "    es = EarlyStopping(patience=4)\n",
        "\n",
        "    # Save best epoch for given \n",
        "    cp = ModelCheckpoint(\n",
        "        f\"{base_path}/models/{target}_xception_model_v{version}.h5\", \n",
        "        save_best_only=True)\n",
        "\n",
        "    # Fit the model to train\n",
        "    res = model.fit(\n",
        "        x=[X_train_img, X_train], \n",
        "        y=y_train, \n",
        "        validation_data=([X_test_img, X_test], y_test),\n",
        "        epochs=10, \n",
        "        callbacks=[es, cp],\n",
        "        verbose=0)\n",
        "    # Generate model performance graph\n",
        "    generate_model_chart(\n",
        "        base_path, \n",
        "        title, \n",
        "        'XCEPTION Model',\n",
        "        f\"{base_path}/model_performance/{target}_xception_acc_{version}.png\", \n",
        "        res,\n",
        "    )"
      ]
    },
    {
      "cell_type": "code",
      "execution_count": 20,
      "metadata": {
        "id": "WwC469LHYEcI"
      },
      "outputs": [],
      "source": [
        "def xception_model_load(\n",
        "    img_shape, stats_shape, \n",
        "    X_train, X_test, y_train, \n",
        "    y_test, X_train_img, X_test_img, \n",
        "    version, target, title, base_path):\n",
        "    # Get previous version number\n",
        "    prev_version = version - 1\n",
        "    # Load trained model\n",
        "    model = load_model(\n",
        "        f\"{base_path}/models/{target}_xception_model_v{prev_version}.h5\"\n",
        "    )\n",
        "    # Init early stopping point\n",
        "    es = EarlyStopping(patience=4)\n",
        "    # Save best epoch\n",
        "    cp = ModelCheckpoint(\n",
        "        f\"{base_path}/models/{target}_xception_model_v{version}.h5\", \n",
        "        save_best_only=True)\n",
        "    # Fit the model to continue training\n",
        "    res = model.fit(\n",
        "        x=[X_train_img, X_train], \n",
        "        y=y_train, \n",
        "        validation_data=([X_test_img, X_test], y_test),\n",
        "        epochs=10, \n",
        "        callbacks=[es, cp],\n",
        "        verbose=0\n",
        "        )\n",
        "    # Generate model performance graph\n",
        "    generate_model_chart(\n",
        "        base_path, \n",
        "        title, \n",
        "        'XCEPTION Model',\n",
        "        f\"{base_path}/model_performance/{target}_xception_acc_{version}.png\", \n",
        "        res,\n",
        "    )"
      ]
    },
    {
      "cell_type": "markdown",
      "metadata": {
        "id": "Gw47dlDLdotg"
      },
      "source": [
        "---\n",
        "Predict Breast Density "
      ]
    },
    {
      "cell_type": "code",
      "execution_count": 21,
      "metadata": {
        "id": "hXGpPclZGTJb"
      },
      "outputs": [],
      "source": [
        "# Density Prediction\n",
        "def prediction_model_run(\n",
        "    image_dimension, \n",
        "    batch_size, \n",
        "    train_df, \n",
        "    test_df, \n",
        "    title, \n",
        "    target, \n",
        "    features,\n",
        "    base_path, \n",
        "    image_path_column):\n",
        "  # Train batch size\n",
        "  TRAIN_BATCH = batch_size\n",
        "  # Test batch size\n",
        "  TEST_BATCH = test_df.shape[0] // (train_df.shape[0] // TRAIN_BATCH)\n",
        "  # Calculate rounds needs to be ran for given batch size\n",
        "  rounds = train_df.shape[0] // TRAIN_BATCH\n",
        "  # Train left index tracker\n",
        "  start_train = 0\n",
        "  # Train right index tracker\n",
        "  right_train = TRAIN_BATCH\n",
        "  # Test left index tracker\n",
        "  start_test = 0\n",
        "  # Test right index tracker\n",
        "  right_test = TEST_BATCH\n",
        "  # Init tracker to determine if loop is still in initial stage\n",
        "  is_initial_run = True\n",
        "  # Loop through rounds\n",
        "  for i in range(rounds):\n",
        "    # Prepare batch sized X_train, X_test, y_train, y_test\n",
        "    X_train = train_df.loc[start_train:right_train-1, features]\n",
        "    y_train = train_df.loc[start_train:right_train-1, target]\n",
        "    X_test = test_df.loc[start_test:right_test-1, features]\n",
        "    y_test = test_df.loc[start_test:right_test-1, target]\n",
        "    # Prepare X_train and X_test image numpy array \n",
        "    X_train_batched_image = construct_image_array(\n",
        "        train_df.loc[start_train:right_train-1, image_path_column].tolist()\n",
        "    )\n",
        "    X_test_batched_image = construct_image_array(\n",
        "        test_df.loc[start_test:right_test-1, image_path_column].tolist()\n",
        "    )\n",
        "    # If initial run, run brand new xception model\n",
        "    if is_initial_run:\n",
        "      xception_model_run(\n",
        "        image_dimension, X_train.shape[1], X_train, X_test, y_train, y_test, \n",
        "        X_train_batched_image, X_test_batched_image, i, target, title, base_path\n",
        "      )\n",
        "\n",
        "      is_initial_run = False\n",
        "    # If not initial run, run model that has been stored\n",
        "    else:\n",
        "      xception_model_load(\n",
        "        image_dimension, X_train.shape[1], X_train, X_test, y_train, y_test, \n",
        "        X_train_batched_image, X_test_batched_image, i, target, title, base_path\n",
        "      )\n",
        "\n",
        "    # Update Train left and right window tracker\n",
        "    start_train = right_train\n",
        "    right_train += TRAIN_BATCH\n",
        "    # Update Test left and right window tracker\n",
        "    start_test = right_test\n",
        "    right_test += TEST_BATCH\n",
        "\n",
        "    # Clear variables\n",
        "    del X_train\n",
        "    del X_test\n",
        "    del y_train\n",
        "    del y_test\n",
        "    del X_train_batched_image\n",
        "    del X_test_batched_image"
      ]
    },
    {
      "cell_type": "code",
      "execution_count": 77,
      "metadata": {
        "id": "wCzR00hX_-51"
      },
      "outputs": [],
      "source": [
        "# Density Prediction\n",
        "density_train = density_train['density'].map({0: 0, 1: 0, 2: 1, 3: 1})\n",
        "density_test = density_test['density'].map({0: 0, 1: 0, 2: 1, 3: 1})\n",
        "\n",
        "prediction_model_run(\n",
        "    image_dimension=300,\n",
        "    batch_size=500, \n",
        "    train_df=density_train, \n",
        "    test_df=density_test, \n",
        "    title='Density Prediction', \n",
        "    target='density', \n",
        "    features=['age', 'laterality', 'view'],\n",
        "    base_path=base_path,\n",
        "    image_path_column='img_uri'\n",
        "    )\n"
      ]
    },
    {
      "cell_type": "code",
      "execution_count": 23,
      "metadata": {
        "colab": {
          "base_uri": "https://localhost:8080/"
        },
        "id": "CdYG40xECMBg",
        "outputId": "6965beb4-ac99-4b3e-e3d6-fc7bc794aecc"
      },
      "outputs": [
        {
          "name": "stdout",
          "output_type": "stream",
          "text": [
            "63/63 [==============================] - 68s 1s/step\n",
            "63/63 [==============================] - 69s 1s/step\n",
            "63/63 [==============================] - 71s 1s/step\n",
            "63/63 [==============================] - 67s 1s/step\n",
            "63/63 [==============================] - 69s 1s/step\n",
            "63/63 [==============================] - 72s 1s/step\n",
            "63/63 [==============================] - 72s 1s/step\n",
            "63/63 [==============================] - 70s 1s/step\n",
            "63/63 [==============================] - 72s 1s/step\n",
            "63/63 [==============================] - 72s 1s/step\n",
            "63/63 [==============================] - 71s 1s/step\n",
            "63/63 [==============================] - 72s 1s/step\n"
          ]
        }
      ],
      "source": [
        "# Density prediction\n",
        "xception_model_density = load_model(f\"{base_path}/models/Density Model/density_xception_model_v40.h5\")\n",
        "\n",
        "# Density val dataframe batch size\n",
        "PRED_BATCH_SIZE = 2000\n",
        "# Number of rounds based on batch size\n",
        "rounds = density_predict.shape[0] // PRED_BATCH_SIZE\n",
        "# Left window tracker\n",
        "left = 0\n",
        "# Right window tracker\n",
        "right = PRED_BATCH_SIZE\n",
        "# Loop based on rounds\n",
        "for i in range(rounds):\n",
        "  # Prepare X_test and X_test_image\n",
        "  X_test = density_predict.loc[left:right, ['age', 'laterality', 'view']]\n",
        "  X_test_batched_image = construct_image_array(\n",
        "      density_predict.loc[left:right, 'img_uri'].tolist()\n",
        "  )\n",
        "  # Process prediction\n",
        "  density_predictions = xception_model_density.predict([X_test_batched_image, X_test]).flatten()\n",
        "  # Store predicted values\n",
        "  density_predict.loc[left:right, 'density'] = density_predictions.round(2)\n",
        "\n",
        "  # Update trackers\n",
        "  left = right\n",
        "  right += PRED_BATCH_SIZE"
      ]
    },
    {
      "cell_type": "code",
      "execution_count": 26,
      "metadata": {
        "colab": {
          "base_uri": "https://localhost:8080/"
        },
        "id": "QzI8P3unImnZ",
        "outputId": "064db308-b89a-4188-82a4-4d56fbbd66b6"
      },
      "outputs": [
        {
          "name": "stdout",
          "output_type": "stream",
          "text": [
            "32/32 [==============================] - 37s 1s/step\n"
          ]
        }
      ],
      "source": [
        "X_test = density_test.loc[0:1000, ['age', 'laterality', 'view']]\n",
        "X_test_batched_image = construct_image_array(\n",
        "    density_test.loc[0:1000, 'img_uri'].tolist()\n",
        ")\n",
        "# Process prediction\n",
        "density_predictions = xception_model_density.predict([X_test_batched_image, X_test]).flatten()\n",
        "# Store predicted values\n",
        "density_test.loc[0:1000, 'pred_density'] = density_predictions.round(2)"
      ]
    },
    {
      "cell_type": "code",
      "execution_count": 27,
      "metadata": {
        "id": "94DTrbuAwEPN"
      },
      "outputs": [],
      "source": [
        "# Drop missing predictions\n",
        "density_predict.dropna(inplace=True)"
      ]
    },
    {
      "cell_type": "code",
      "execution_count": 85,
      "metadata": {
        "id": "8MwM9A5dQM-a"
      },
      "outputs": [],
      "source": [
        "def threshold(val):\n",
        "  return 1 if val > .1 else 0"
      ]
    },
    {
      "cell_type": "code",
      "execution_count": 87,
      "metadata": {
        "colab": {
          "base_uri": "https://localhost:8080/",
          "height": 297
        },
        "id": "dbiMHZGYgeiE",
        "outputId": "43c8959f-57d3-4e15-8fff-12d5ba8e258d"
      },
      "outputs": [
        {
          "data": {
            "image/png": "[encoded data removed]",
            "text/plain": [
              "<Figure size 432x288 with 2 Axes>"
            ]
          },
          "metadata": {
            "needs_background": "light"
          },
          "output_type": "display_data"
        }
      ],
      "source": [
        "# Plot confusion matrix for predicted and true values\n",
        "plot_confusion_matrix(\n",
        "    density_test.loc[0:1000, 'density'].map({0: 0, 1: 0, 2: 1, 3: 1}), \n",
        "    density_test.loc[0:1000, 'pred_density'].map(threshold), \n",
        "    ['Not_Dense', 'Dense'],\n",
        "    f\"{base_path}/model_performance/density_confusion_matrix\"\n",
        "    )"
      ]
    },
    {
      "cell_type": "code",
      "execution_count": 86,
      "metadata": {
        "colab": {
          "base_uri": "https://localhost:8080/",
          "height": 279
        },
        "id": "-XDrPjxoTFjj",
        "outputId": "2d5ca411-c0b3-48ac-ce39-27a6c7ed3b8c"
      },
      "outputs": [
        {
          "data": {
            "image/png": "[encoded data removed]",
            "text/plain": [
              "<Figure size 432x288 with 1 Axes>"
            ]
          },
          "metadata": {
            "needs_background": "light"
          },
          "output_type": "display_data"
        }
      ],
      "source": [
        "# Plot ROC curve\n",
        "roc_curve_plot(\n",
        "    density_test.loc[0:1000, 'density'].map({0: 0, 1: 0, 2: 1, 3: 1}), \n",
        "    density_test.loc[0:1000, 'pred_density'].map(threshold), \n",
        "    'Density CNN + MLP Model',\n",
        "    f\"{base_path}/model_performance/density_roc_curve\"\n",
        "    )"
      ]
    },
    {
      "cell_type": "code",
      "execution_count": 88,
      "metadata": {
        "colab": {
          "base_uri": "https://localhost:8080/"
        },
        "id": "eMDyyZDbWHlk",
        "outputId": "9de90d0a-5f8a-4db0-871b-9fa707c8a2bf"
      },
      "outputs": [
        {
          "name": "stdout",
          "output_type": "stream",
          "text": [
            "Classifier Report:\n",
            "              precision    recall  f1-score   support\n",
            "\n",
            "           1       0.84      0.87      0.85       471\n",
            "           0       0.88      0.85      0.86       526\n",
            "\n",
            "    accuracy                           0.86       997\n",
            "   macro avg       0.86      0.86      0.86       997\n",
            "weighted avg       0.86      0.86      0.86       997\n",
            "\n"
          ]
        }
      ],
      "source": [
        "print_classification_report(\n",
        "    density_test.loc[0:1000, 'density'].map({0: 0, 1: 0, 2: 1, 3: 1}), \n",
        "    density_test.loc[0:1000, 'pred_density'].map(threshold),\n",
        "    [1, 0])"
      ]
    },
    {
      "cell_type": "code",
      "execution_count": null,
      "metadata": {
        "id": "X07MXzXMlMoP"
      },
      "outputs": [],
      "source": [
        "# Store predicted values to csv \n",
        "density_predict.to_csv(f'{base_path}/density_with_preds.csv', index=False)"
      ]
    },
    {
      "cell_type": "code",
      "execution_count": null,
      "metadata": {
        "id": "g2FWi_RmlwV1"
      },
      "outputs": [],
      "source": [
        "# Merge all density dataframes\n",
        "merged_df = pd.concat([\n",
        "    density_train, \n",
        "    density_test, \n",
        "    density_predict\n",
        "])"
      ]
    },
    {
      "cell_type": "code",
      "execution_count": 76,
      "metadata": {
        "colab": {
          "base_uri": "https://localhost:8080/",
          "height": 282
        },
        "id": "7poVVDZSCius",
        "outputId": "080db978-995b-41ec-b80a-35ace89ef125"
      },
      "outputs": [
        {
          "data": {
            "text/plain": [
              "<AxesSubplot:ylabel='Frequency'>"
            ]
          },
          "execution_count": 76,
          "metadata": {},
          "output_type": "execute_result"
        },
        {
          "data": {
            "image/png": "[encoded data removed]",
            "text/plain": [
              "<Figure size 432x288 with 1 Axes>"
            ]
          },
          "metadata": {
            "needs_background": "light"
          },
          "output_type": "display_data"
        }
      ],
      "source": [
        "# Plot density distribution\n",
        "merged_df['density'].round(0).map({0: 1, 1: 0, 2: 1, 3: 1}).plot(kind='hist')"
      ]
    },
    {
      "cell_type": "code",
      "execution_count": null,
      "metadata": {
        "id": "L6ePQkUAojZS"
      },
      "outputs": [],
      "source": [
        "# Save merged dataframe containing density\n",
        "merged_df.to_csv(f'{base_path}/density_df.csv', index=False)"
      ]
    },
    {
      "cell_type": "code",
      "execution_count": 171,
      "metadata": {
        "id": "34VcQzw82BWH"
      },
      "outputs": [],
      "source": [
        "# Read dataframe containing density\n",
        "merged_df = pd.read_csv(f'{base_path}/density_df.csv')"
      ]
    },
    {
      "cell_type": "code",
      "execution_count": 172,
      "metadata": {
        "id": "FQO_95noDUOp"
      },
      "outputs": [],
      "source": [
        "# Round density values\n",
        "merged_df['density'] = merged_df['density'].map(threshold)"
      ]
    },
    {
      "cell_type": "markdown",
      "metadata": {
        "id": "Qiz4-MtQiSxT"
      },
      "source": [
        "----\n",
        "Cancer Prediction - Under Sampled Dataset"
      ]
    },
    {
      "cell_type": "code",
      "execution_count": 91,
      "metadata": {
        "id": "6e_Z0z7EiWRO"
      },
      "outputs": [],
      "source": [
        "# Load under sampled dataframes\n",
        "train_df = pd.read_csv(f'{base_path}/model_data/under_train.csv')\n",
        "test_df = pd.read_csv(f'{base_path}/model_data/under_test.csv')\n",
        "val_df = pd.read_csv(f'{base_path}/model_data/under_val.csv')"
      ]
    },
    {
      "cell_type": "code",
      "execution_count": 92,
      "metadata": {
        "colab": {
          "base_uri": "https://localhost:8080/",
          "height": 81
        },
        "id": "0UHbf197iYTx",
        "outputId": "cc60d121-a4da-4a25-9c0c-b029115b28d4"
      },
      "outputs": [
        {
          "data": {
            "text/html": [
              "\n",
              "  <div id=\"df-0ce40bd5-5e0e-499f-a056-51f9226e6497\">\n",
              "    <div class=\"colab-df-container\">\n",
              "      <div>\n",
              "<style scoped>\n",
              "    .dataframe tbody tr th:only-of-type {\n",
              "        vertical-align: middle;\n",
              "    }\n",
              "\n",
              "    .dataframe tbody tr th {\n",
              "        vertical-align: top;\n",
              "    }\n",
              "\n",
              "    .dataframe thead th {\n",
              "        text-align: right;\n",
              "    }\n",
              "</style>\n",
              "<table border=\"1\" class=\"dataframe\">\n",
              "  <thead>\n",
              "    <tr style=\"text-align: right;\">\n",
              "      <th></th>\n",
              "      <th>index</th>\n",
              "      <th>patient_id</th>\n",
              "      <th>image_id</th>\n",
              "      <th>laterality</th>\n",
              "      <th>view</th>\n",
              "      <th>age</th>\n",
              "      <th>cancer</th>\n",
              "    </tr>\n",
              "  </thead>\n",
              "  <tbody>\n",
              "    <tr>\n",
              "      <th>0</th>\n",
              "      <td>344</td>\n",
              "      <td>11265</td>\n",
              "      <td>213091987</td>\n",
              "      <td>0</td>\n",
              "      <td>1</td>\n",
              "      <td>72.0</td>\n",
              "      <td>0</td>\n",
              "    </tr>\n",
              "  </tbody>\n",
              "</table>\n",
              "</div>\n",
              "      <button class=\"colab-df-convert\" onclick=\"convertToInteractive('df-0ce40bd5-5e0e-499f-a056-51f9226e6497')\"\n",
              "              title=\"Convert this dataframe to an interactive table.\"\n",
              "              style=\"display:none;\">\n",
              "        \n",
              "  <svg xmlns=\"http://www.w3.org/2000/svg\" height=\"24px\"viewBox=\"0 0 24 24\"\n",
              "       width=\"24px\">\n",
              "    <path d=\"M0 0h24v24H0V0z\" fill=\"none\"/>\n",
              "    <path d=\"M18.56 5.44l.94 2.06.94-2.06 2.06-.94-2.06-.94-.94-2.06-.94 2.06-2.06.94zm-11 1L8.5 8.5l.94-2.06 2.06-.94-2.06-.94L8.5 2.5l-.94 2.06-2.06.94zm10 10l.94 2.06.94-2.06 2.06-.94-2.06-.94-.94-2.06-.94 2.06-2.06.94z\"/><path d=\"M17.41 7.96l-1.37-1.37c-.4-.4-.92-.59-1.43-.59-.52 0-1.04.2-1.43.59L10.3 9.45l-7.72 7.72c-.78.78-.78 2.05 0 2.83L4 21.41c.39.39.9.59 1.41.59.51 0 1.02-.2 1.41-.59l7.78-7.78 2.81-2.81c.8-.78.8-2.07 0-2.86zM5.41 20L4 18.59l7.72-7.72 1.47 1.35L5.41 20z\"/>\n",
              "  </svg>\n",
              "      </button>\n",
              "      \n",
              "  <style>\n",
              "    .colab-df-container {\n",
              "      display:flex;\n",
              "      flex-wrap:wrap;\n",
              "      gap: 12px;\n",
              "    }\n",
              "\n",
              "    .colab-df-convert {\n",
              "      background-color: #E8F0FE;\n",
              "      border: none;\n",
              "      border-radius: 50%;\n",
              "      cursor: pointer;\n",
              "      display: none;\n",
              "      fill: #1967D2;\n",
              "      height: 32px;\n",
              "      padding: 0 0 0 0;\n",
              "      width: 32px;\n",
              "    }\n",
              "\n",
              "    .colab-df-convert:hover {\n",
              "      background-color: #E2EBFA;\n",
              "      box-shadow: 0px 1px 2px rgba(60, 64, 67, 0.3), 0px 1px 3px 1px rgba(60, 64, 67, 0.15);\n",
              "      fill: #174EA6;\n",
              "    }\n",
              "\n",
              "    [theme=dark] .colab-df-convert {\n",
              "      background-color: #3B4455;\n",
              "      fill: #D2E3FC;\n",
              "    }\n",
              "\n",
              "    [theme=dark] .colab-df-convert:hover {\n",
              "      background-color: #434B5C;\n",
              "      box-shadow: 0px 1px 3px 1px rgba(0, 0, 0, 0.15);\n",
              "      filter: drop-shadow(0px 1px 2px rgba(0, 0, 0, 0.3));\n",
              "      fill: #FFFFFF;\n",
              "    }\n",
              "  </style>\n",
              "\n",
              "      <script>\n",
              "        const buttonEl =\n",
              "          document.querySelector('#df-0ce40bd5-5e0e-499f-a056-51f9226e6497 button.colab-df-convert');\n",
              "        buttonEl.style.display =\n",
              "          google.colab.kernel.accessAllowed ? 'block' : 'none';\n",
              "\n",
              "        async function convertToInteractive(key) {\n",
              "          const element = document.querySelector('#df-0ce40bd5-5e0e-499f-a056-51f9226e6497');\n",
              "          const dataTable =\n",
              "            await google.colab.kernel.invokeFunction('convertToInteractive',\n",
              "                                                     [key], {});\n",
              "          if (!dataTable) return;\n",
              "\n",
              "          const docLinkHtml = 'Like what you see? Visit the ' +\n",
              "            '<a target=\"_blank\" href=https://colab.research.google.com/notebooks/data_table.ipynb>data table notebook</a>'\n",
              "            + ' to learn more about interactive tables.';\n",
              "          element.innerHTML = '';\n",
              "          dataTable['output_type'] = 'display_data';\n",
              "          await google.colab.output.renderOutput(dataTable, element);\n",
              "          const docLink = document.createElement('div');\n",
              "          docLink.innerHTML = docLinkHtml;\n",
              "          element.appendChild(docLink);\n",
              "        }\n",
              "      </script>\n",
              "    </div>\n",
              "  </div>\n",
              "  "
            ],
            "text/plain": [
              "   index  patient_id   image_id  laterality  view   age  cancer\n",
              "0    344       11265  213091987           0     1  72.0       0"
            ]
          },
          "execution_count": 92,
          "metadata": {},
          "output_type": "execute_result"
        }
      ],
      "source": [
        "# Check columns\n",
        "train_df.head(1)"
      ]
    },
    {
      "cell_type": "code",
      "execution_count": null,
      "metadata": {
        "id": "wi_Jxqgaa0WY"
      },
      "outputs": [],
      "source": [
        "# Baseline for cancer under sampled dataset\n",
        "print(train_df['cancer'].value_counts(normalize=True))\n",
        "test_df['cancer'].value_counts(normalize=True)"
      ]
    },
    {
      "cell_type": "code",
      "execution_count": 93,
      "metadata": {
        "id": "uO4cbNRMiZtW"
      },
      "outputs": [],
      "source": [
        "# Set the target\n",
        "target_column = 'cancer'"
      ]
    },
    {
      "cell_type": "code",
      "execution_count": 94,
      "metadata": {
        "colab": {
          "base_uri": "https://localhost:8080/"
        },
        "id": "sPHod3pDial9",
        "outputId": "685ac258-0255-4879-9950-cec02835509b"
      },
      "outputs": [
        {
          "data": {
            "text/plain": [
              "((1618, 7), (347, 7), (347, 7))"
            ]
          },
          "execution_count": 94,
          "metadata": {},
          "output_type": "execute_result"
        }
      ],
      "source": [
        "# Check shapes of dataframes\n",
        "train_df.shape, test_df.shape, val_df.shape"
      ]
    },
    {
      "cell_type": "code",
      "execution_count": 95,
      "metadata": {
        "id": "W_hzLPHeicLZ"
      },
      "outputs": [],
      "source": [
        "# Merge with density dataset\n",
        "train_df = train_df.merge(\n",
        "    merged_df[['patient_id', 'image_id', 'img_uri', 'density', 'implant']], \n",
        "    on=['patient_id', 'image_id'])\n",
        "\n",
        "test_df = test_df.merge(\n",
        "    merged_df[['patient_id', 'image_id', 'img_uri', 'density', 'implant']], \n",
        "    on=['patient_id', 'image_id'])\n",
        "\n",
        "val_df = val_df.merge(\n",
        "    merged_df[['patient_id', 'image_id', 'img_uri', 'density', 'implant']], \n",
        "    on=['patient_id', 'image_id'])"
      ]
    },
    {
      "cell_type": "code",
      "execution_count": 96,
      "metadata": {
        "colab": {
          "base_uri": "https://localhost:8080/",
          "height": 142
        },
        "id": "g0pCKBfVFebi",
        "outputId": "794571df-e0e2-4539-d001-715b70ac19ff"
      },
      "outputs": [
        {
          "data": {
            "text/html": [
              "\n",
              "  <div id=\"df-6eb8514f-5503-43bd-b8f1-5883b8181650\">\n",
              "    <div class=\"colab-df-container\">\n",
              "      <div>\n",
              "<style scoped>\n",
              "    .dataframe tbody tr th:only-of-type {\n",
              "        vertical-align: middle;\n",
              "    }\n",
              "\n",
              "    .dataframe tbody tr th {\n",
              "        vertical-align: top;\n",
              "    }\n",
              "\n",
              "    .dataframe thead th {\n",
              "        text-align: right;\n",
              "    }\n",
              "</style>\n",
              "<table border=\"1\" class=\"dataframe\">\n",
              "  <thead>\n",
              "    <tr style=\"text-align: right;\">\n",
              "      <th></th>\n",
              "      <th>index</th>\n",
              "      <th>patient_id</th>\n",
              "      <th>image_id</th>\n",
              "      <th>laterality</th>\n",
              "      <th>view</th>\n",
              "      <th>age</th>\n",
              "      <th>cancer</th>\n",
              "      <th>img_uri</th>\n",
              "      <th>density</th>\n",
              "      <th>implant</th>\n",
              "    </tr>\n",
              "  </thead>\n",
              "  <tbody>\n",
              "    <tr>\n",
              "      <th>0</th>\n",
              "      <td>344</td>\n",
              "      <td>11265</td>\n",
              "      <td>213091987</td>\n",
              "      <td>0</td>\n",
              "      <td>1</td>\n",
              "      <td>72.0</td>\n",
              "      <td>0</td>\n",
              "      <td>/content/drive/MyDrive/General Assembly/breast...</td>\n",
              "      <td>0</td>\n",
              "      <td>0</td>\n",
              "    </tr>\n",
              "  </tbody>\n",
              "</table>\n",
              "</div>\n",
              "      <button class=\"colab-df-convert\" onclick=\"convertToInteractive('df-6eb8514f-5503-43bd-b8f1-5883b8181650')\"\n",
              "              title=\"Convert this dataframe to an interactive table.\"\n",
              "              style=\"display:none;\">\n",
              "        \n",
              "  <svg xmlns=\"http://www.w3.org/2000/svg\" height=\"24px\"viewBox=\"0 0 24 24\"\n",
              "       width=\"24px\">\n",
              "    <path d=\"M0 0h24v24H0V0z\" fill=\"none\"/>\n",
              "    <path d=\"M18.56 5.44l.94 2.06.94-2.06 2.06-.94-2.06-.94-.94-2.06-.94 2.06-2.06.94zm-11 1L8.5 8.5l.94-2.06 2.06-.94-2.06-.94L8.5 2.5l-.94 2.06-2.06.94zm10 10l.94 2.06.94-2.06 2.06-.94-2.06-.94-.94-2.06-.94 2.06-2.06.94z\"/><path d=\"M17.41 7.96l-1.37-1.37c-.4-.4-.92-.59-1.43-.59-.52 0-1.04.2-1.43.59L10.3 9.45l-7.72 7.72c-.78.78-.78 2.05 0 2.83L4 21.41c.39.39.9.59 1.41.59.51 0 1.02-.2 1.41-.59l7.78-7.78 2.81-2.81c.8-.78.8-2.07 0-2.86zM5.41 20L4 18.59l7.72-7.72 1.47 1.35L5.41 20z\"/>\n",
              "  </svg>\n",
              "      </button>\n",
              "      \n",
              "  <style>\n",
              "    .colab-df-container {\n",
              "      display:flex;\n",
              "      flex-wrap:wrap;\n",
              "      gap: 12px;\n",
              "    }\n",
              "\n",
              "    .colab-df-convert {\n",
              "      background-color: #E8F0FE;\n",
              "      border: none;\n",
              "      border-radius: 50%;\n",
              "      cursor: pointer;\n",
              "      display: none;\n",
              "      fill: #1967D2;\n",
              "      height: 32px;\n",
              "      padding: 0 0 0 0;\n",
              "      width: 32px;\n",
              "    }\n",
              "\n",
              "    .colab-df-convert:hover {\n",
              "      background-color: #E2EBFA;\n",
              "      box-shadow: 0px 1px 2px rgba(60, 64, 67, 0.3), 0px 1px 3px 1px rgba(60, 64, 67, 0.15);\n",
              "      fill: #174EA6;\n",
              "    }\n",
              "\n",
              "    [theme=dark] .colab-df-convert {\n",
              "      background-color: #3B4455;\n",
              "      fill: #D2E3FC;\n",
              "    }\n",
              "\n",
              "    [theme=dark] .colab-df-convert:hover {\n",
              "      background-color: #434B5C;\n",
              "      box-shadow: 0px 1px 3px 1px rgba(0, 0, 0, 0.15);\n",
              "      filter: drop-shadow(0px 1px 2px rgba(0, 0, 0, 0.3));\n",
              "      fill: #FFFFFF;\n",
              "    }\n",
              "  </style>\n",
              "\n",
              "      <script>\n",
              "        const buttonEl =\n",
              "          document.querySelector('#df-6eb8514f-5503-43bd-b8f1-5883b8181650 button.colab-df-convert');\n",
              "        buttonEl.style.display =\n",
              "          google.colab.kernel.accessAllowed ? 'block' : 'none';\n",
              "\n",
              "        async function convertToInteractive(key) {\n",
              "          const element = document.querySelector('#df-6eb8514f-5503-43bd-b8f1-5883b8181650');\n",
              "          const dataTable =\n",
              "            await google.colab.kernel.invokeFunction('convertToInteractive',\n",
              "                                                     [key], {});\n",
              "          if (!dataTable) return;\n",
              "\n",
              "          const docLinkHtml = 'Like what you see? Visit the ' +\n",
              "            '<a target=\"_blank\" href=https://colab.research.google.com/notebooks/data_table.ipynb>data table notebook</a>'\n",
              "            + ' to learn more about interactive tables.';\n",
              "          element.innerHTML = '';\n",
              "          dataTable['output_type'] = 'display_data';\n",
              "          await google.colab.output.renderOutput(dataTable, element);\n",
              "          const docLink = document.createElement('div');\n",
              "          docLink.innerHTML = docLinkHtml;\n",
              "          element.appendChild(docLink);\n",
              "        }\n",
              "      </script>\n",
              "    </div>\n",
              "  </div>\n",
              "  "
            ],
            "text/plain": [
              "   index  patient_id   image_id  laterality  view   age  cancer  \\\n",
              "0    344       11265  213091987           0     1  72.0       0   \n",
              "\n",
              "                                             img_uri  density  implant  \n",
              "0  /content/drive/MyDrive/General Assembly/breast...        0        0  "
            ]
          },
          "execution_count": 96,
          "metadata": {},
          "output_type": "execute_result"
        }
      ],
      "source": [
        "# Check columns after merge\n",
        "train_df.head(1)"
      ]
    },
    {
      "cell_type": "code",
      "execution_count": null,
      "metadata": {
        "colab": {
          "base_uri": "https://localhost:8080/",
          "height": 1000
        },
        "id": "W06O9xpBid0t",
        "outputId": "5a875651-9129-47da-cf5d-c62eef0893df"
      },
      "outputs": [
        {
          "data": {
            "image/png": "[encoded data removed]",
            "text/plain": [
              "<Figure size 432x288 with 1 Axes>"
            ]
          },
          "metadata": {},
          "output_type": "display_data"
        },
        {
          "data": {
            "image/png": "[encoded data removed]",
            "text/plain": [
              "<Figure size 432x288 with 1 Axes>"
            ]
          },
          "metadata": {},
          "output_type": "display_data"
        },
        {
          "data": {
            "image/png": "[encoded data removed]",
            "text/plain": [
              "<Figure size 432x288 with 1 Axes>"
            ]
          },
          "metadata": {},
          "output_type": "display_data"
        },
        {
          "data": {
            "image/png": "[encoded data removed]",
            "text/plain": [
              "<Figure size 432x288 with 1 Axes>"
            ]
          },
          "metadata": {},
          "output_type": "display_data"
        },
        {
          "data": {
            "image/png": "[encoded data removed]",
            "text/plain": [
              "<Figure size 432x288 with 1 Axes>"
            ]
          },
          "metadata": {},
          "output_type": "display_data"
        },
        {
          "data": {
            "image/png": "[encoded data removed]",
            "text/plain": [
              "<Figure size 432x288 with 1 Axes>"
            ]
          },
          "metadata": {},
          "output_type": "display_data"
        }
      ],
      "source": [
        "# Run prediction model(s)\n",
        "prediction_model_run(\n",
        "    image_dimension=300,\n",
        "    batch_size=400, \n",
        "    train_df=train_df, \n",
        "    test_df=test_df, \n",
        "    title='Cancer Prediction', \n",
        "    target='cancer',\n",
        "    features=['age', 'laterality', 'view', 'density'],\n",
        "    base_path=base_path,\n",
        "    image_path_column='img_uri'\n",
        "    )"
      ]
    },
    {
      "cell_type": "code",
      "execution_count": 97,
      "metadata": {
        "colab": {
          "base_uri": "https://localhost:8080/"
        },
        "id": "aieeYFiFXwLh",
        "outputId": "8b4241ca-bade-4aa3-d077-293dd1d8598d"
      },
      "outputs": [
        {
          "name": "stdout",
          "output_type": "stream",
          "text": [
            "11/11 [==============================] - 13s 1s/step\n"
          ]
        }
      ],
      "source": [
        "# Cancer prediction\n",
        "xception_model_cancer = load_model(f\"{base_path}/models/Under Sampled Dataset/cancer_xception_model_v2.h5\")\n",
        "X_test = val_df[['age', 'laterality', 'view', 'density']]\n",
        "\n",
        "X_test_batched_image = construct_image_array(\n",
        "    val_df['img_uri'].tolist()\n",
        ")\n",
        "\n",
        "cancer_predictions = xception_model_cancer.predict([X_test_batched_image, X_test]).flatten()\n",
        "\n",
        "val_df['cancer_pred'] = cancer_predictions.round(16)"
      ]
    },
    {
      "cell_type": "code",
      "execution_count": 135,
      "metadata": {
        "id": "GZaBjDGXZFyF"
      },
      "outputs": [],
      "source": [
        "def threshold(val):\n",
        "  return 1 if val > .49 else 0"
      ]
    },
    {
      "cell_type": "code",
      "execution_count": 136,
      "metadata": {
        "colab": {
          "base_uri": "https://localhost:8080/",
          "height": 297
        },
        "id": "C9qPK7TBZQ_s",
        "outputId": "eafabba1-0127-47e1-a773-bcb182bc901d"
      },
      "outputs": [
        {
          "data": {
            "image/png": "[encoded data removed]",
            "text/plain": [
              "<Figure size 432x288 with 2 Axes>"
            ]
          },
          "metadata": {
            "needs_background": "light"
          },
          "output_type": "display_data"
        }
      ],
      "source": [
        "# Plot confusion matrix for predicted and true values\n",
        "plot_confusion_matrix(\n",
        "    val_df['cancer'], \n",
        "    val_df['cancer_pred'].map(threshold), \n",
        "    ['No_Cancer', 'Cancer'],\n",
        "    f\"{base_path}/model_performance/cancer_confusion_matrix_after_adjustment\"\n",
        "    )"
      ]
    },
    {
      "cell_type": "code",
      "execution_count": 137,
      "metadata": {
        "colab": {
          "base_uri": "https://localhost:8080/",
          "height": 279
        },
        "id": "UAfppGGbaSc5",
        "outputId": "0f8722e5-0f53-467c-a7d2-84fab9f54967"
      },
      "outputs": [
        {
          "data": {
            "image/png": "[encoded data removed]",
            "text/plain": [
              "<Figure size 432x288 with 1 Axes>"
            ]
          },
          "metadata": {
            "needs_background": "light"
          },
          "output_type": "display_data"
        }
      ],
      "source": [
        "# Plot ROC curve\n",
        "roc_curve_plot(\n",
        "    val_df['cancer'],\n",
        "    val_df['cancer_pred'].map(threshold), \n",
        "    'Under Sample CNN + MLP Model',\n",
        "    f\"{base_path}/model_performance/cancer_roc_curve_after_adjutment\"\n",
        "    )"
      ]
    },
    {
      "cell_type": "code",
      "execution_count": 138,
      "metadata": {
        "colab": {
          "base_uri": "https://localhost:8080/"
        },
        "id": "MNqc3lgUEoIl",
        "outputId": "939497c9-8e98-46a3-ed7b-8737c9930f3a"
      },
      "outputs": [
        {
          "name": "stdout",
          "output_type": "stream",
          "text": [
            "Classifier Report:\n",
            "              precision    recall  f1-score   support\n",
            "\n",
            "           0       0.61      0.12      0.20       161\n",
            "           1       0.53      0.93      0.67       171\n",
            "\n",
            "    accuracy                           0.54       332\n",
            "   macro avg       0.57      0.52      0.44       332\n",
            "weighted avg       0.57      0.54      0.44       332\n",
            "\n"
          ]
        }
      ],
      "source": [
        "# Plot classifier report\n",
        "print_classification_report(val_df['cancer'], val_df['cancer_pred'].map(threshold), [0, 1])"
      ]
    },
    {
      "cell_type": "markdown",
      "metadata": {
        "id": "XuQDqNB2N9pP"
      },
      "source": [
        "----\n",
        "Cancer Prediction - Over Sampled Dataset"
      ]
    },
    {
      "cell_type": "code",
      "execution_count": 173,
      "metadata": {
        "id": "V1qJL9XDIpB3"
      },
      "outputs": [],
      "source": [
        "# Load over sampled dataframes\n",
        "train_df = pd.read_csv(f'{base_path}/model_data/over_train.csv')\n",
        "test_df = pd.read_csv(f'{base_path}/model_data/over_test.csv')\n",
        "val_df = pd.read_csv(f'{base_path}/model_data/over_val.csv')"
      ]
    },
    {
      "cell_type": "code",
      "execution_count": 174,
      "metadata": {
        "colab": {
          "base_uri": "https://localhost:8080/",
          "height": 81
        },
        "id": "e8d7Ml2sN7Gz",
        "outputId": "3db94bcd-818a-4146-8510-b026fa917e9f"
      },
      "outputs": [
        {
          "data": {
            "text/html": [
              "\n",
              "  <div id=\"df-6e9968b5-ab0c-4f66-8e89-23d9f376c71b\">\n",
              "    <div class=\"colab-df-container\">\n",
              "      <div>\n",
              "<style scoped>\n",
              "    .dataframe tbody tr th:only-of-type {\n",
              "        vertical-align: middle;\n",
              "    }\n",
              "\n",
              "    .dataframe tbody tr th {\n",
              "        vertical-align: top;\n",
              "    }\n",
              "\n",
              "    .dataframe thead th {\n",
              "        text-align: right;\n",
              "    }\n",
              "</style>\n",
              "<table border=\"1\" class=\"dataframe\">\n",
              "  <thead>\n",
              "    <tr style=\"text-align: right;\">\n",
              "      <th></th>\n",
              "      <th>index</th>\n",
              "      <th>patient_id</th>\n",
              "      <th>image_id</th>\n",
              "      <th>laterality</th>\n",
              "      <th>view</th>\n",
              "      <th>age</th>\n",
              "      <th>cancer</th>\n",
              "    </tr>\n",
              "  </thead>\n",
              "  <tbody>\n",
              "    <tr>\n",
              "      <th>0</th>\n",
              "      <td>44731</td>\n",
              "      <td>38561</td>\n",
              "      <td>468334037</td>\n",
              "      <td>1</td>\n",
              "      <td>0</td>\n",
              "      <td>68.0</td>\n",
              "      <td>0</td>\n",
              "    </tr>\n",
              "  </tbody>\n",
              "</table>\n",
              "</div>\n",
              "      <button class=\"colab-df-convert\" onclick=\"convertToInteractive('df-6e9968b5-ab0c-4f66-8e89-23d9f376c71b')\"\n",
              "              title=\"Convert this dataframe to an interactive table.\"\n",
              "              style=\"display:none;\">\n",
              "        \n",
              "  <svg xmlns=\"http://www.w3.org/2000/svg\" height=\"24px\"viewBox=\"0 0 24 24\"\n",
              "       width=\"24px\">\n",
              "    <path d=\"M0 0h24v24H0V0z\" fill=\"none\"/>\n",
              "    <path d=\"M18.56 5.44l.94 2.06.94-2.06 2.06-.94-2.06-.94-.94-2.06-.94 2.06-2.06.94zm-11 1L8.5 8.5l.94-2.06 2.06-.94-2.06-.94L8.5 2.5l-.94 2.06-2.06.94zm10 10l.94 2.06.94-2.06 2.06-.94-2.06-.94-.94-2.06-.94 2.06-2.06.94z\"/><path d=\"M17.41 7.96l-1.37-1.37c-.4-.4-.92-.59-1.43-.59-.52 0-1.04.2-1.43.59L10.3 9.45l-7.72 7.72c-.78.78-.78 2.05 0 2.83L4 21.41c.39.39.9.59 1.41.59.51 0 1.02-.2 1.41-.59l7.78-7.78 2.81-2.81c.8-.78.8-2.07 0-2.86zM5.41 20L4 18.59l7.72-7.72 1.47 1.35L5.41 20z\"/>\n",
              "  </svg>\n",
              "      </button>\n",
              "      \n",
              "  <style>\n",
              "    .colab-df-container {\n",
              "      display:flex;\n",
              "      flex-wrap:wrap;\n",
              "      gap: 12px;\n",
              "    }\n",
              "\n",
              "    .colab-df-convert {\n",
              "      background-color: #E8F0FE;\n",
              "      border: none;\n",
              "      border-radius: 50%;\n",
              "      cursor: pointer;\n",
              "      display: none;\n",
              "      fill: #1967D2;\n",
              "      height: 32px;\n",
              "      padding: 0 0 0 0;\n",
              "      width: 32px;\n",
              "    }\n",
              "\n",
              "    .colab-df-convert:hover {\n",
              "      background-color: #E2EBFA;\n",
              "      box-shadow: 0px 1px 2px rgba(60, 64, 67, 0.3), 0px 1px 3px 1px rgba(60, 64, 67, 0.15);\n",
              "      fill: #174EA6;\n",
              "    }\n",
              "\n",
              "    [theme=dark] .colab-df-convert {\n",
              "      background-color: #3B4455;\n",
              "      fill: #D2E3FC;\n",
              "    }\n",
              "\n",
              "    [theme=dark] .colab-df-convert:hover {\n",
              "      background-color: #434B5C;\n",
              "      box-shadow: 0px 1px 3px 1px rgba(0, 0, 0, 0.15);\n",
              "      filter: drop-shadow(0px 1px 2px rgba(0, 0, 0, 0.3));\n",
              "      fill: #FFFFFF;\n",
              "    }\n",
              "  </style>\n",
              "\n",
              "      <script>\n",
              "        const buttonEl =\n",
              "          document.querySelector('#df-6e9968b5-ab0c-4f66-8e89-23d9f376c71b button.colab-df-convert');\n",
              "        buttonEl.style.display =\n",
              "          google.colab.kernel.accessAllowed ? 'block' : 'none';\n",
              "\n",
              "        async function convertToInteractive(key) {\n",
              "          const element = document.querySelector('#df-6e9968b5-ab0c-4f66-8e89-23d9f376c71b');\n",
              "          const dataTable =\n",
              "            await google.colab.kernel.invokeFunction('convertToInteractive',\n",
              "                                                     [key], {});\n",
              "          if (!dataTable) return;\n",
              "\n",
              "          const docLinkHtml = 'Like what you see? Visit the ' +\n",
              "            '<a target=\"_blank\" href=https://colab.research.google.com/notebooks/data_table.ipynb>data table notebook</a>'\n",
              "            + ' to learn more about interactive tables.';\n",
              "          element.innerHTML = '';\n",
              "          dataTable['output_type'] = 'display_data';\n",
              "          await google.colab.output.renderOutput(dataTable, element);\n",
              "          const docLink = document.createElement('div');\n",
              "          docLink.innerHTML = docLinkHtml;\n",
              "          element.appendChild(docLink);\n",
              "        }\n",
              "      </script>\n",
              "    </div>\n",
              "  </div>\n",
              "  "
            ],
            "text/plain": [
              "   index  patient_id   image_id  laterality  view   age  cancer\n",
              "0  44731       38561  468334037           1     0  68.0       0"
            ]
          },
          "execution_count": 174,
          "metadata": {},
          "output_type": "execute_result"
        }
      ],
      "source": [
        "# Check columns\n",
        "train_df.head(1)"
      ]
    },
    {
      "cell_type": "code",
      "execution_count": 175,
      "metadata": {
        "colab": {
          "base_uri": "https://localhost:8080/"
        },
        "id": "BLJk3sQPam4o",
        "outputId": "303f3d89-7531-4b1f-efb8-bb01708c99be"
      },
      "outputs": [
        {
          "name": "stdout",
          "output_type": "stream",
          "text": [
            "1    0.500394\n",
            "0    0.499606\n",
            "Name: cancer, dtype: float64\n"
          ]
        },
        {
          "data": {
            "text/plain": [
              "0    0.504207\n",
              "1    0.495793\n",
              "Name: cancer, dtype: float64"
            ]
          },
          "execution_count": 175,
          "metadata": {},
          "output_type": "execute_result"
        }
      ],
      "source": [
        "# Baseline for Cancer Over Sampled Dataset\n",
        "print(train_df['cancer'].value_counts(normalize=True))\n",
        "test_df['cancer'].value_counts(normalize=True)"
      ]
    },
    {
      "cell_type": "code",
      "execution_count": 176,
      "metadata": {
        "id": "c6RMc6roKdh5"
      },
      "outputs": [],
      "source": [
        "# Set target\n",
        "target_column = 'cancer'"
      ]
    },
    {
      "cell_type": "code",
      "execution_count": 177,
      "metadata": {
        "colab": {
          "base_uri": "https://localhost:8080/"
        },
        "id": "0zYh1plHI92F",
        "outputId": "5cd7a8cd-701d-45cc-ab02-908c3ce26ea8"
      },
      "outputs": [
        {
          "data": {
            "text/plain": [
              "((74865, 7), (16043, 7), (16042, 7))"
            ]
          },
          "execution_count": 177,
          "metadata": {},
          "output_type": "execute_result"
        }
      ],
      "source": [
        "# Check shapes\n",
        "train_df.shape, test_df.shape, val_df.shape"
      ]
    },
    {
      "cell_type": "code",
      "execution_count": 178,
      "metadata": {
        "id": "yRhCcd98NoCW"
      },
      "outputs": [],
      "source": [
        "# Merge with density dataset\n",
        "train_df = train_df.merge(\n",
        "    merged_df[['patient_id', 'image_id', 'img_uri', 'density']], \n",
        "    on=['patient_id', 'image_id'])\n",
        "\n",
        "test_df = test_df.merge(\n",
        "    merged_df[['patient_id', 'image_id', 'img_uri', 'density']], \n",
        "    on=['patient_id', 'image_id'])\n",
        "\n",
        "val_df = val_df.merge(\n",
        "    merged_df[['patient_id', 'image_id', 'img_uri', 'density']], \n",
        "    on=['patient_id', 'image_id'])"
      ]
    },
    {
      "cell_type": "code",
      "execution_count": 3,
      "metadata": {
        "colab": {
          "base_uri": "https://localhost:8080/",
          "height": 1000
        },
        "id": "1-b4sfGdLRCU",
        "outputId": "19028c3c-1ca0-4992-8900-258e14b53384"
      },
      "outputs": [],
      "source": [
        "# Run prediction model\n",
        "prediction_model_run(\n",
        "    image_dimension=300,\n",
        "    batch_size=400, \n",
        "    train_df=train_df, \n",
        "    test_df=test_df, \n",
        "    title='Cancer Prediction', \n",
        "    target='cancer',\n",
        "    features=['age', 'laterality', 'view', 'density'],\n",
        "    base_path=base_path,\n",
        "    image_path_column='img_uri'\n",
        "    )"
      ]
    },
    {
      "cell_type": "code",
      "execution_count": 179,
      "metadata": {
        "colab": {
          "base_uri": "https://localhost:8080/"
        },
        "id": "YCoUkONR2jxg",
        "outputId": "6b3313c4-a964-4009-b592-a38f38a4aba5"
      },
      "outputs": [
        {
          "name": "stdout",
          "output_type": "stream",
          "text": [
            "63/63 [==============================] - 77s 1s/step\n",
            "63/63 [==============================] - 73s 1s/step\n",
            "63/63 [==============================] - 74s 1s/step\n",
            "63/63 [==============================] - 72s 1s/step\n",
            "63/63 [==============================] - 73s 1s/step\n",
            "63/63 [==============================] - 72s 1s/step\n",
            "63/63 [==============================] - 74s 1s/step\n"
          ]
        }
      ],
      "source": [
        "# Cancer prediction\n",
        "xception_model_cancer = load_model(f\"{base_path}/models/Over Sampled Dataset/cancer_xception_model_v57.h5\")\n",
        "\n",
        "# Cancer val dataframe batch size\n",
        "PRED_BATCH_SIZE = 2000\n",
        "# Number of rounds based on batch size\n",
        "rounds = val_df.shape[0] // PRED_BATCH_SIZE\n",
        "# Left window tracker\n",
        "left = 0\n",
        "# Right window tracker\n",
        "right = PRED_BATCH_SIZE\n",
        "# Loop based on rounds\n",
        "for i in range(rounds):\n",
        "  # Prepare X_test and X_test_image for given batch size\n",
        "  X_test = val_df.loc[left:right, ['age', 'laterality', 'view', 'density']]\n",
        "\n",
        "  X_test_batched_image = construct_image_array(\n",
        "      val_df.loc[left:right, 'img_uri'].tolist()\n",
        "  )\n",
        "  # Get predictions\n",
        "  cancer_predictions = xception_model_cancer.predict([X_test_batched_image, X_test]).flatten()\n",
        "  # Store predictions\n",
        "  val_df.loc[left:right, 'cancer_pred'] = cancer_predictions.round(16)\n",
        "\n",
        "  # Update trackers\n",
        "  left = right\n",
        "  right += PRED_BATCH_SIZE"
      ]
    },
    {
      "cell_type": "code",
      "execution_count": 180,
      "metadata": {
        "id": "Ox7-j29QyAIu"
      },
      "outputs": [],
      "source": [
        "# Drop missing predictions\n",
        "val_df.dropna(inplace=True)"
      ]
    },
    {
      "cell_type": "code",
      "execution_count": 181,
      "metadata": {
        "colab": {
          "base_uri": "https://localhost:8080/"
        },
        "id": "L4gHTcbZzvpI",
        "outputId": "24e0dffa-ebcd-4fba-e9be-296bb97f1fd3"
      },
      "outputs": [
        {
          "data": {
            "text/plain": [
              "1    0.559389\n",
              "0    0.440611\n",
              "Name: cancer, dtype: float64"
            ]
          },
          "execution_count": 181,
          "metadata": {},
          "output_type": "execute_result"
        }
      ],
      "source": [
        "# Check true value balance\n",
        "val_df['cancer'].value_counts(normalize=True)"
      ]
    },
    {
      "cell_type": "code",
      "execution_count": 182,
      "metadata": {
        "colab": {
          "base_uri": "https://localhost:8080/"
        },
        "id": "GwHl4kMbzqH4",
        "outputId": "ac5a4a2a-d40c-4958-9c3a-a2c6986f5c6d"
      },
      "outputs": [
        {
          "data": {
            "text/plain": [
              "1.0    0.999071\n",
              "0.0    0.000929\n",
              "Name: cancer_pred, dtype: float64"
            ]
          },
          "execution_count": 182,
          "metadata": {},
          "output_type": "execute_result"
        }
      ],
      "source": [
        "# Check prediction value balance\n",
        "val_df['cancer_pred'].round().value_counts(normalize=True)"
      ]
    },
    {
      "cell_type": "code",
      "execution_count": 189,
      "metadata": {
        "id": "qLb4qzItbuzs"
      },
      "outputs": [],
      "source": [
        "def threshold(val):\n",
        "  return 1 if val > .95 else 0"
      ]
    },
    {
      "cell_type": "code",
      "execution_count": 192,
      "metadata": {
        "colab": {
          "base_uri": "https://localhost:8080/",
          "height": 297
        },
        "id": "nMw115ZH2dwJ",
        "outputId": "e11c1fec-c01b-4550-d0d8-fba218f59cf4"
      },
      "outputs": [
        {
          "data": {
            "image/png": "[encoded data removed]",
            "text/plain": [
              "<Figure size 432x288 with 2 Axes>"
            ]
          },
          "metadata": {
            "needs_background": "light"
          },
          "output_type": "display_data"
        }
      ],
      "source": [
        "# Plot confusion matrix\n",
        "plot_confusion_matrix(\n",
        "    val_df['cancer'], \n",
        "    val_df['cancer_pred'].map(threshold), \n",
        "    ['No_Cancer', 'Cancer'],\n",
        "    f\"{base_path}/model_performance/cancer_confusion_matrix_after_adjustment\"\n",
        "    )"
      ]
    },
    {
      "cell_type": "code",
      "execution_count": 193,
      "metadata": {
        "colab": {
          "base_uri": "https://localhost:8080/",
          "height": 279
        },
        "id": "lpiwurid2giF",
        "outputId": "2b39c63e-42eb-496f-e0f9-510f0f4e494f"
      },
      "outputs": [
        {
          "data": {
            "image/png": "[encoded data removed]",
            "text/plain": [
              "<Figure size 432x288 with 1 Axes>"
            ]
          },
          "metadata": {
            "needs_background": "light"
          },
          "output_type": "display_data"
        }
      ],
      "source": [
        "# Plot rock curve\n",
        "roc_curve_plot(\n",
        "    val_df['cancer'], \n",
        "    val_df['cancer_pred'].map(threshold), \n",
        "    'Over Sample CNN + MLP Model',\n",
        "    f\"{base_path}/model_performance/cancer_roc_curve_after_adjutment\"\n",
        "    )"
      ]
    },
    {
      "cell_type": "code",
      "execution_count": 186,
      "metadata": {
        "colab": {
          "base_uri": "https://localhost:8080/"
        },
        "id": "289WkyfqkT3a",
        "outputId": "72034afb-d203-4ed7-9cc9-49dd9cfdc499"
      },
      "outputs": [
        {
          "name": "stdout",
          "output_type": "stream",
          "text": [
            "Classifier Report:\n",
            "              precision    recall  f1-score   support\n",
            "\n",
            "           1       0.63      0.70      0.66      7832\n",
            "           0       0.56      0.49      0.52      6169\n",
            "\n",
            "    accuracy                           0.61     14001\n",
            "   macro avg       0.60      0.59      0.59     14001\n",
            "weighted avg       0.60      0.61      0.60     14001\n",
            "\n"
          ]
        }
      ],
      "source": [
        "# Display classification report\n",
        "print_classification_report(\n",
        "    val_df['cancer'], \n",
        "    val_df['cancer_pred'].map(threshold), \n",
        "    [1, 0])"
      ]
    }
  ],
  "metadata": {
    "accelerator": "TPU",
    "colab": {
      "machine_shape": "hm",
      "provenance": []
    },
    "gpuClass": "premium",
    "kernelspec": {
      "display_name": "Python 3",
      "language": "python",
      "name": "python3"
    },
    "language_info": {
      "codemirror_mode": {
        "name": "ipython",
        "version": 3
      },
      "file_extension": ".py",
      "mimetype": "text/x-python",
      "name": "python",
      "nbconvert_exporter": "python",
      "pygments_lexer": "ipython3",
      "version": "3.9.13"
    },
    "vscode": {
      "interpreter": {
        "hash": "7af3ebbd7de8183e54c3a867989fd0d9f9e8343647e0895fccfd06c308b7a095"
      }
    }
  },
  "nbformat": 4,
  "nbformat_minor": 0
}
