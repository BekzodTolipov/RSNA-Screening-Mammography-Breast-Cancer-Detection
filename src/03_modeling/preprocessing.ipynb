{
 "cells": [
  {
   "cell_type": "code",
   "execution_count": 6,
   "metadata": {},
   "outputs": [],
   "source": [
    "# imports\n",
    "import matplotlib.pyplot as plt\n",
    "import numpy as np\n",
    "import os\n",
    "import pandas as pd\n",
    "\n",
    "import tensorflow as tf\n",
    "from tensorflow.keras.layers import Dense, Dropout, Flatten, Conv2D, MaxPooling2D\n",
    "from tensorflow.keras.models import Sequential\n",
    "from tensorflow.keras.preprocessing import image_dataset_from_directory\n",
    "from tensorflow.keras import layers\n",
    "from tensorflow.keras.preprocessing.image import img_to_array, load_img, smart_resize\n",
    "from tensorflow.keras.callbacks import EarlyStopping\n",
    "\n",
    "from tensorflow.keras.regularizers import l2\n",
    "\n",
    "# For reproducibility\n",
    "np.random.seed(42)"
   ]
  },
  {
   "cell_type": "code",
   "execution_count": 2,
   "metadata": {},
   "outputs": [
    {
     "name": "stdout",
     "output_type": "stream",
     "text": [
      "Found 0 files belonging to 2 classes.\n",
      "Using 0 files for training.\n"
     ]
    },
    {
     "ename": "ValueError",
     "evalue": "No images found in directory ../../data/breast_imaging. Allowed formats: ('.bmp', '.gif', '.jpeg', '.jpg', '.png')",
     "output_type": "error",
     "traceback": [
      "\u001b[1;31m---------------------------------------------------------------------------\u001b[0m",
      "\u001b[1;31mValueError\u001b[0m                                Traceback (most recent call last)",
      "\u001b[1;32me:\\Bek Docs\\Job Prep Class\\General Assembly Bootcamp\\Projects\\capstone\\src\\02_preprocessing\\preprocessing.ipynb Cell 2\u001b[0m in \u001b[0;36m<cell line: 1>\u001b[1;34m()\u001b[0m\n\u001b[1;32m----> <a href='vscode-notebook-cell:/e%3A/Bek%20Docs/Job%20Prep%20Class/General%20Assembly%20Bootcamp/Projects/capstone/src/02_preprocessing/preprocessing.ipynb#W1sZmlsZQ%3D%3D?line=0'>1</a>\u001b[0m train_ds \u001b[39m=\u001b[39m image_dataset_from_directory(\n\u001b[0;32m      <a href='vscode-notebook-cell:/e%3A/Bek%20Docs/Job%20Prep%20Class/General%20Assembly%20Bootcamp/Projects/capstone/src/02_preprocessing/preprocessing.ipynb#W1sZmlsZQ%3D%3D?line=1'>2</a>\u001b[0m   \u001b[39m'\u001b[39;49m\u001b[39m../../data/breast_imaging\u001b[39;49m\u001b[39m'\u001b[39;49m,\n\u001b[0;32m      <a href='vscode-notebook-cell:/e%3A/Bek%20Docs/Job%20Prep%20Class/General%20Assembly%20Bootcamp/Projects/capstone/src/02_preprocessing/preprocessing.ipynb#W1sZmlsZQ%3D%3D?line=2'>3</a>\u001b[0m   image_size\u001b[39m=\u001b[39;49m(\u001b[39m4500\u001b[39;49m, \u001b[39m4500\u001b[39;49m),\n\u001b[0;32m      <a href='vscode-notebook-cell:/e%3A/Bek%20Docs/Job%20Prep%20Class/General%20Assembly%20Bootcamp/Projects/capstone/src/02_preprocessing/preprocessing.ipynb#W1sZmlsZQ%3D%3D?line=3'>4</a>\u001b[0m   batch_size\u001b[39m=\u001b[39;49m\u001b[39m32\u001b[39;49m,\n\u001b[0;32m      <a href='vscode-notebook-cell:/e%3A/Bek%20Docs/Job%20Prep%20Class/General%20Assembly%20Bootcamp/Projects/capstone/src/02_preprocessing/preprocessing.ipynb#W1sZmlsZQ%3D%3D?line=4'>5</a>\u001b[0m   seed\u001b[39m=\u001b[39;49m\u001b[39m42\u001b[39;49m,\n\u001b[0;32m      <a href='vscode-notebook-cell:/e%3A/Bek%20Docs/Job%20Prep%20Class/General%20Assembly%20Bootcamp/Projects/capstone/src/02_preprocessing/preprocessing.ipynb#W1sZmlsZQ%3D%3D?line=5'>6</a>\u001b[0m   validation_split\u001b[39m=\u001b[39;49m\u001b[39m.2\u001b[39;49m,\n\u001b[0;32m      <a href='vscode-notebook-cell:/e%3A/Bek%20Docs/Job%20Prep%20Class/General%20Assembly%20Bootcamp/Projects/capstone/src/02_preprocessing/preprocessing.ipynb#W1sZmlsZQ%3D%3D?line=6'>7</a>\u001b[0m   subset\u001b[39m=\u001b[39;49m\u001b[39m'\u001b[39;49m\u001b[39mtraining\u001b[39;49m\u001b[39m'\u001b[39;49m,\n\u001b[0;32m      <a href='vscode-notebook-cell:/e%3A/Bek%20Docs/Job%20Prep%20Class/General%20Assembly%20Bootcamp/Projects/capstone/src/02_preprocessing/preprocessing.ipynb#W1sZmlsZQ%3D%3D?line=7'>8</a>\u001b[0m   label_mode\u001b[39m=\u001b[39;49m\u001b[39m'\u001b[39;49m\u001b[39mbinary\u001b[39;49m\u001b[39m'\u001b[39;49m,\n\u001b[0;32m      <a href='vscode-notebook-cell:/e%3A/Bek%20Docs/Job%20Prep%20Class/General%20Assembly%20Bootcamp/Projects/capstone/src/02_preprocessing/preprocessing.ipynb#W1sZmlsZQ%3D%3D?line=8'>9</a>\u001b[0m \n\u001b[0;32m     <a href='vscode-notebook-cell:/e%3A/Bek%20Docs/Job%20Prep%20Class/General%20Assembly%20Bootcamp/Projects/capstone/src/02_preprocessing/preprocessing.ipynb#W1sZmlsZQ%3D%3D?line=9'>10</a>\u001b[0m )\n\u001b[0;32m     <a href='vscode-notebook-cell:/e%3A/Bek%20Docs/Job%20Prep%20Class/General%20Assembly%20Bootcamp/Projects/capstone/src/02_preprocessing/preprocessing.ipynb#W1sZmlsZQ%3D%3D?line=11'>12</a>\u001b[0m val_ds \u001b[39m=\u001b[39m image_dataset_from_directory(\n\u001b[0;32m     <a href='vscode-notebook-cell:/e%3A/Bek%20Docs/Job%20Prep%20Class/General%20Assembly%20Bootcamp/Projects/capstone/src/02_preprocessing/preprocessing.ipynb#W1sZmlsZQ%3D%3D?line=12'>13</a>\u001b[0m   \u001b[39m'\u001b[39m\u001b[39m../../data/breast_imaging\u001b[39m\u001b[39m'\u001b[39m,\n\u001b[0;32m     <a href='vscode-notebook-cell:/e%3A/Bek%20Docs/Job%20Prep%20Class/General%20Assembly%20Bootcamp/Projects/capstone/src/02_preprocessing/preprocessing.ipynb#W1sZmlsZQ%3D%3D?line=13'>14</a>\u001b[0m   image_size\u001b[39m=\u001b[39m(\u001b[39m4500\u001b[39m, \u001b[39m4500\u001b[39m),\n\u001b[1;32m   (...)\u001b[0m\n\u001b[0;32m     <a href='vscode-notebook-cell:/e%3A/Bek%20Docs/Job%20Prep%20Class/General%20Assembly%20Bootcamp/Projects/capstone/src/02_preprocessing/preprocessing.ipynb#W1sZmlsZQ%3D%3D?line=19'>20</a>\u001b[0m   \n\u001b[0;32m     <a href='vscode-notebook-cell:/e%3A/Bek%20Docs/Job%20Prep%20Class/General%20Assembly%20Bootcamp/Projects/capstone/src/02_preprocessing/preprocessing.ipynb#W1sZmlsZQ%3D%3D?line=20'>21</a>\u001b[0m )\n",
      "File \u001b[1;32m~\\AppData\\Local\\Packages\\PythonSoftwareFoundation.Python.3.9_qbz5n2kfra8p0\\LocalCache\\local-packages\\Python39\\site-packages\\keras\\utils\\image_dataset.py:294\u001b[0m, in \u001b[0;36mimage_dataset_from_directory\u001b[1;34m(directory, labels, label_mode, class_names, color_mode, batch_size, image_size, shuffle, seed, validation_split, subset, interpolation, follow_links, crop_to_aspect_ratio, **kwargs)\u001b[0m\n\u001b[0;32m    290\u001b[0m image_paths, labels \u001b[39m=\u001b[39m dataset_utils\u001b[39m.\u001b[39mget_training_or_validation_split(\n\u001b[0;32m    291\u001b[0m     image_paths, labels, validation_split, subset\n\u001b[0;32m    292\u001b[0m )\n\u001b[0;32m    293\u001b[0m \u001b[39mif\u001b[39;00m \u001b[39mnot\u001b[39;00m image_paths:\n\u001b[1;32m--> 294\u001b[0m     \u001b[39mraise\u001b[39;00m \u001b[39mValueError\u001b[39;00m(\n\u001b[0;32m    295\u001b[0m         \u001b[39mf\u001b[39m\u001b[39m\"\u001b[39m\u001b[39mNo images found in directory \u001b[39m\u001b[39m{\u001b[39;00mdirectory\u001b[39m}\u001b[39;00m\u001b[39m. \u001b[39m\u001b[39m\"\u001b[39m\n\u001b[0;32m    296\u001b[0m         \u001b[39mf\u001b[39m\u001b[39m\"\u001b[39m\u001b[39mAllowed formats: \u001b[39m\u001b[39m{\u001b[39;00mALLOWLIST_FORMATS\u001b[39m}\u001b[39;00m\u001b[39m\"\u001b[39m\n\u001b[0;32m    297\u001b[0m     )\n\u001b[0;32m    299\u001b[0m dataset \u001b[39m=\u001b[39m paths_and_labels_to_dataset(\n\u001b[0;32m    300\u001b[0m     image_paths\u001b[39m=\u001b[39mimage_paths,\n\u001b[0;32m    301\u001b[0m     image_size\u001b[39m=\u001b[39mimage_size,\n\u001b[1;32m   (...)\u001b[0m\n\u001b[0;32m    307\u001b[0m     crop_to_aspect_ratio\u001b[39m=\u001b[39mcrop_to_aspect_ratio,\n\u001b[0;32m    308\u001b[0m )\n\u001b[0;32m    309\u001b[0m dataset \u001b[39m=\u001b[39m dataset\u001b[39m.\u001b[39mprefetch(tf\u001b[39m.\u001b[39mdata\u001b[39m.\u001b[39mAUTOTUNE)\n",
      "\u001b[1;31mValueError\u001b[0m: No images found in directory ../../data/breast_imaging. Allowed formats: ('.bmp', '.gif', '.jpeg', '.jpg', '.png')"
     ]
    }
   ],
   "source": [
    "train_ds = image_dataset_from_directory(\n",
    "  '../../data/breast_imaging',\n",
    "  image_size=(4500, 4500),\n",
    "  batch_size=32,\n",
    "  seed=42,\n",
    "  validation_split=.2,\n",
    "  subset='training',\n",
    "  label_mode='binary',\n",
    "\n",
    ")\n",
    "\n",
    "val_ds = image_dataset_from_directory(\n",
    "  '../../data/breast_imaging',\n",
    "  image_size=(4500, 4500),\n",
    "  batch_size=32,\n",
    "  seed=42,\n",
    "  validation_split=0.2,\n",
    "  subset='validation',\n",
    "  label_mode='binary',\n",
    "  \n",
    ")"
   ]
  },
  {
   "attachments": {},
   "cell_type": "markdown",
   "metadata": {},
   "source": [
    "----\n",
    "XCEPTION Modeling"
   ]
  },
  {
   "cell_type": "code",
   "execution_count": null,
   "metadata": {},
   "outputs": [],
   "source": [
    "model_builder = keras.applications.xception.Xception\n",
    "hxception = model_builder(\n",
    "    include_top=False,\n",
    "    weights=\"imagenet\",\n",
    "    input_shape=(299,299,3),\n",
    "    classes=2,\n",
    "    classifier_activation=\"softmax\",\n",
    ")\n",
    "\n",
    "hxception.trainable = False\n",
    "\n",
    "hxception_model = Sequential()\n",
    "\n",
    "hxception_model.add(hxception)\n",
    "hxception_model.add(layers.GlobalAveragePooling2D())\n",
    "\n",
    "#Just use a single output layer\n",
    "hxception_model.add(Dense(1, activation='sigmoid'))\n",
    "\n",
    "\n",
    "#Compile the model\n",
    "hxception_model.compile(optimizer='adam',\n",
    "              loss='bce',\n",
    "              metrics=['acc'])"
   ]
  },
  {
   "cell_type": "code",
   "execution_count": null,
   "metadata": {},
   "outputs": [],
   "source": [
    "es = EarlyStopping( patience = 4)\n",
    "\n",
    "\n",
    "hxceptoin_history = hxception_model.fit(train_ds,\n",
    "                epochs = 15,\n",
    "                validation_data = val_ds,\n",
    "                verbose = 1,\n",
    "                callbacks = [es]   #Can add a checkpoint here to avoid losing progress if booted\n",
    "                )"
   ]
  },
  {
   "attachments": {},
   "cell_type": "markdown",
   "metadata": {},
   "source": [
    "----\n",
    "VGG16 Modeling"
   ]
  },
  {
   "cell_type": "code",
   "execution_count": null,
   "metadata": {},
   "outputs": [],
   "source": [
    "model_builder = keras.applications.VGG16\n",
    "vgg16 = model_builder(\n",
    "    include_top=False,\n",
    "    weights=\"imagenet\",\n",
    "    input_shape=(299,299,3),\n",
    "    classes=2,\n",
    "    classifier_activation=\"softmax\",\n",
    ")\n",
    "\n",
    "vgg16.trainable = False\n",
    "\n",
    "vgg16_model = Sequential()\n",
    "\n",
    "vgg16_model.add(vgg16)\n",
    "vgg16_model.add(layers.GlobalAveragePooling2D())\n",
    "\n",
    "#Just use a single output layer\n",
    "vgg16_model.add(Dense(1, activation='sigmoid'))\n",
    "\n",
    "\n",
    "#Compile the model\n",
    "vgg16_model.compile(optimizer='adam',\n",
    "              loss='bce',\n",
    "              metrics=['acc'])"
   ]
  },
  {
   "cell_type": "code",
   "execution_count": null,
   "metadata": {},
   "outputs": [],
   "source": [
    "es = EarlyStopping( patience = 4)\n",
    "\n",
    "\n",
    "vgg16_history = vgg16_model.fit(train_ds,\n",
    "                epochs = 15,\n",
    "                validation_data = val_ds,\n",
    "                verbose = 1,\n",
    "                callbacks = [es]   #Can add a checkpoint here to avoid losing progress if booted\n",
    "                )"
   ]
  },
  {
   "cell_type": "code",
   "execution_count": null,
   "metadata": {},
   "outputs": [],
   "source": [
    "vgg16_model.save('vgg16.h5')"
   ]
  },
  {
   "cell_type": "code",
   "execution_count": 5,
   "metadata": {},
   "outputs": [],
   "source": [
    "# plt.plot(h.history['loss'], label = 'Train Loss')\n",
    "# plt.plot(h.history['val_loss'], label = 'Test Loss')\n",
    "# plt.legend();"
   ]
  },
  {
   "cell_type": "code",
   "execution_count": 4,
   "metadata": {},
   "outputs": [],
   "source": [
    "# plt.plot(h.history['accuracy'], label = 'Train Acc')\n",
    "# plt.plot(h.history['val_accuracy'], label = 'Test Acc')\n",
    "# plt.legend();"
   ]
  },
  {
   "cell_type": "code",
   "execution_count": null,
   "metadata": {},
   "outputs": [],
   "source": []
  }
 ],
 "metadata": {
  "kernelspec": {
   "display_name": "Python 3",
   "language": "python",
   "name": "python3"
  },
  "language_info": {
   "codemirror_mode": {
    "name": "ipython",
    "version": 3
   },
   "file_extension": ".py",
   "mimetype": "text/x-python",
   "name": "python",
   "nbconvert_exporter": "python",
   "pygments_lexer": "ipython3",
   "version": "3.9.13"
  },
  "orig_nbformat": 4,
  "vscode": {
   "interpreter": {
    "hash": "7af3ebbd7de8183e54c3a867989fd0d9f9e8343647e0895fccfd06c308b7a095"
   }
  }
 },
 "nbformat": 4,
 "nbformat_minor": 2
}
