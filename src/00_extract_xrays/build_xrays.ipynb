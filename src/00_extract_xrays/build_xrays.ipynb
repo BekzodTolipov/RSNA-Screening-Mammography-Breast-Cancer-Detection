{
 "cells": [
  {
   "attachments": {},
   "cell_type": "markdown",
   "metadata": {},
   "source": [
    "----\n",
    "## Summary\n",
    "This is initial notebook and the code below crawl through image folders per patient's mammograms dicom file:\n",
    "- Converts dicom to 3 channel array with given pixel resized representation and normalizes it\n",
    "- Converts image into sparse matrix representation and stores is into *cancer* or *no_cancer* folders\n",
    "<br/><br/>\n",
    "This preparation will be used to transfer into **Google Colab** for model training"
   ]
  },
  {
   "cell_type": "code",
   "execution_count": 2,
   "metadata": {},
   "outputs": [],
   "source": [
    "# imports\n",
    "import pandas as pd\n",
    "import pydicom\n",
    "\n",
    "import numpy as np\n",
    "from scipy import sparse\n",
    "\n",
    "import os\n",
    "from skimage.transform import resize\n"
   ]
  },
  {
   "cell_type": "code",
   "execution_count": 7,
   "metadata": {},
   "outputs": [],
   "source": [
    "# Read in patients data where mammogram ids linked\n",
    "df = pd.read_csv(\"../../data/train.csv\")\n"
   ]
  },
  {
   "cell_type": "code",
   "execution_count": 6,
   "metadata": {},
   "outputs": [],
   "source": [
    "def image_single_to_three_channel(arr):\n",
    "    \"\"\"Create 3 channeled imaging \n",
    "\n",
    "    Args:\n",
    "        arr (list): Image as list\n",
    "\n",
    "    Returns:\n",
    "        image: Converted single channel image to 3 channeled\n",
    "    \"\"\"\n",
    "    # Create 3 channeled numpy array with image dimensions and fill them with zeros\n",
    "    image = np.zeros((np.array(arr).shape[0], np.array(arr).shape[1], 3))\n",
    "    # Store same value in each channel\n",
    "    image[:, :, 0] = arr  \n",
    "    image[:, :, 1] = arr\n",
    "    image[:, :, 2] = arr\n",
    "\n",
    "    # Return converted image\n",
    "    return image\n",
    "\n",
    "\n",
    "def read_xray(path, channels):\n",
    "    \"\"\"Read x-rays on given path\n",
    "\n",
    "    Args:\n",
    "        path (string): Path to x-ray\n",
    "        channels (int): Number of channels\n",
    "\n",
    "    Returns:\n",
    "        list: Returns normalized image array with given number of channels\n",
    "    \"\"\"\n",
    "    # Read .dcm image using pydicom library\n",
    "    dicom = pydicom.read_file(path)\n",
    "\n",
    "    # Get numpy array representation\n",
    "    image = dicom.pixel_array\n",
    "\n",
    "    # Check if channels need to be added\n",
    "    if channels == 3:\n",
    "        image = image_single_to_three_channel(image)\n",
    "\n",
    "    # Return normalized pixel image array\n",
    "    return image / 255\n",
    "\n",
    "\n",
    "def create_directory(path):\n",
    "    \"\"\"Creates a directory on given path\n",
    "\n",
    "    Args:\n",
    "        path (string): Directory path\n",
    "    \"\"\"\n",
    "    # Check if directory already exists\n",
    "    if not os.path.exists(path):\n",
    "        # Create directory\n",
    "        os.mkdir(path)\n"
   ]
  },
  {
   "attachments": {},
   "cell_type": "markdown",
   "metadata": {},
   "source": [
    "----\n",
    "Store sparse matrix with `1000` pxl size and `1000` records each"
   ]
  },
  {
   "cell_type": "code",
   "execution_count": 5,
   "metadata": {},
   "outputs": [],
   "source": [
    "def save_processed_images(\n",
    "    df, original_path, target_path, target_folder, IMG_PX_SIZE, channels=1\n",
    "):\n",
    "    \"\"\"Extracts patient and image ids from given dataframe, finds the x-ray and\n",
    "    stores sparse matrix representation to save storage room\n",
    "\n",
    "    Args:\n",
    "        df (DataFrame): Pandas dataframe\n",
    "        original_path (string): Source path where x-rays stored\n",
    "        target_path (string): Base path to store all processed x-rays\n",
    "        target_folder (string): Folder name to stored processed x-rays\n",
    "        IMG_PX_SIZE (int): Image dimension to convert\n",
    "        channels (int, optional): Image will get converted to 3 channels. Defaults to 1.\n",
    "    \"\"\"\n",
    "    # Create base path folder\n",
    "    create_directory(target_path[0 : len(target_path) - 1])\n",
    "    # Create target folder\n",
    "    create_directory(target_path + target_folder)\n",
    "\n",
    "    # Loop through rows in dataframe\n",
    "    for index in df.index.tolist():\n",
    "        # Get patient id\n",
    "        pat_id = df.iloc[index, 1]\n",
    "        # Get image id\n",
    "        image_id = df.iloc[index, 2]\n",
    "\n",
    "        # Create path to store sparse matrix\n",
    "        path = f\"{target_path}{target_folder}/{pat_id}/\"\n",
    "\n",
    "        if not os.path.exists(f\"{path}{target_folder}_{pat_id}_{image_id}.npz\"):\n",
    "            # Build path to find dicom mammogram\n",
    "            o_path = f\"{original_path}{str(pat_id)}/{str(image_id)}.dcm\"\n",
    "\n",
    "            # Load dicom image\n",
    "            loaded_image = read_xray(o_path, channels)\n",
    "\n",
    "            # Change image dimensions\n",
    "            reshaped_image = resize(\n",
    "                loaded_image, (IMG_PX_SIZE, IMG_PX_SIZE), anti_aliasing=True\n",
    "            )\n",
    "\n",
    "            # Convert numpy array of image to sparse matrix\n",
    "            sparse_matrix = sparse.csr_matrix(np.array(reshaped_image))\n",
    "\n",
    "            # temp\n",
    "            if os.path.isfile(f\"{path}{target_folder}_{pat_id}_{index}.npz\"):\n",
    "                continue\n",
    "\n",
    "            # Create a directory to store sparse matrix\n",
    "            create_directory(path)\n",
    "\n",
    "            # Save sparse matrix\n",
    "            sparse.save_npz(f\"{path}{target_folder}_{pat_id}_{image_id}.npz\", sparse_matrix)\n"
   ]
  },
  {
   "cell_type": "code",
   "execution_count": 8,
   "metadata": {},
   "outputs": [],
   "source": [
    "# Get cancer only patients from dataframe\n",
    "cancer_only = df[df[\"cancer\"] == 1][[\"patient_id\", \"image_id\"]]\n",
    "cancer_only.reset_index(inplace=True)\n",
    "\n",
    "# Get non cancer only patients from dataframe\n",
    "no_cancer_only = df[df[\"cancer\"] == 0][[\"patient_id\", \"image_id\"]]\n",
    "no_cancer_only.reset_index(inplace=True)\n"
   ]
  },
  {
   "cell_type": "code",
   "execution_count": 64,
   "metadata": {},
   "outputs": [],
   "source": [
    "# Save 1000x1000 image sparse matrix for cancer only patients\n",
    "target_path = \"../../data/breast_imaging/\"\n",
    "target_folder = \"cancer\"\n",
    "original_path = \"../../data/train_images/\"\n",
    "\n",
    "save_processed_images(\n",
    "    cancer_only, original_path, target_path, target_folder, IMG_PX_SIZE=1000\n",
    ")\n"
   ]
  },
  {
   "cell_type": "code",
   "execution_count": 5,
   "metadata": {},
   "outputs": [],
   "source": [
    "# Save 1000x1000 image sparse matrix for no cancer only patients\n",
    "target_path = \"../../data/breast_imaging/\"\n",
    "target_folder = \"no_cancer\"\n",
    "original_path = \"../../data/train_images/\"\n",
    "\n",
    "save_processed_images(\n",
    "    no_cancer_only, original_path, target_path, target_folder, IMG_PX_SIZE=1000\n",
    ")\n"
   ]
  },
  {
   "attachments": {},
   "cell_type": "markdown",
   "metadata": {},
   "source": [
    "----\n",
    "Store sparse matrix with `340` pxl size and `all` records each"
   ]
  },
  {
   "cell_type": "code",
   "execution_count": 94,
   "metadata": {},
   "outputs": [],
   "source": [
    "# Save 340x340 image sparse matrix for cancer only patients\n",
    "target_path = \"../../data/breast_imaging_340px/\"\n",
    "target_folder = \"cancer\"\n",
    "original_path = \"../../data/train_images/\"\n",
    "\n",
    "save_processed_images(\n",
    "    cancer_only, original_path, target_path, target_folder, IMG_PX_SIZE=340\n",
    ")\n"
   ]
  },
  {
   "cell_type": "code",
   "execution_count": 100,
   "metadata": {},
   "outputs": [],
   "source": [
    "temp_df = pd.read_csv('./no_dubs.csv')\n",
    "temp_df.head()\n",
    "no_cancer_only = temp_df[temp_df['cancer'] == 0]"
   ]
  },
  {
   "cell_type": "code",
   "execution_count": 109,
   "metadata": {},
   "outputs": [],
   "source": [
    "# Save 340x340 image sparse matrix for no cancer only patients\n",
    "target_path = \"../../data/breast_imaging_340px/\"\n",
    "target_folder = \"no_cancer\"\n",
    "original_path = \"../../data/train_images/\"\n",
    "\n",
    "save_processed_images(\n",
    "    no_cancer_only, original_path, target_path, target_folder, IMG_PX_SIZE=340\n",
    ")\n"
   ]
  },
  {
   "attachments": {},
   "cell_type": "markdown",
   "metadata": {},
   "source": [
    "----\n",
    "Under Sample dataset: Prepare higher resolution pictures for under sampled dataset in order to check if higher resolution yields better result"
   ]
  },
  {
   "cell_type": "code",
   "execution_count": 14,
   "metadata": {},
   "outputs": [
    {
     "data": {
      "text/html": [
       "<div>\n",
       "<style scoped>\n",
       "    .dataframe tbody tr th:only-of-type {\n",
       "        vertical-align: middle;\n",
       "    }\n",
       "\n",
       "    .dataframe tbody tr th {\n",
       "        vertical-align: top;\n",
       "    }\n",
       "\n",
       "    .dataframe thead th {\n",
       "        text-align: right;\n",
       "    }\n",
       "</style>\n",
       "<table border=\"1\" class=\"dataframe\">\n",
       "  <thead>\n",
       "    <tr style=\"text-align: right;\">\n",
       "      <th></th>\n",
       "      <th>patient_id</th>\n",
       "      <th>image_id</th>\n",
       "      <th>laterality</th>\n",
       "      <th>view</th>\n",
       "      <th>age</th>\n",
       "      <th>cancer</th>\n",
       "    </tr>\n",
       "  </thead>\n",
       "  <tbody>\n",
       "    <tr>\n",
       "      <th>0</th>\n",
       "      <td>31046</td>\n",
       "      <td>147041592</td>\n",
       "      <td>0</td>\n",
       "      <td>0</td>\n",
       "      <td>58.0</td>\n",
       "      <td>0</td>\n",
       "    </tr>\n",
       "    <tr>\n",
       "      <th>1</th>\n",
       "      <td>10445</td>\n",
       "      <td>1559303163</td>\n",
       "      <td>0</td>\n",
       "      <td>1</td>\n",
       "      <td>57.0</td>\n",
       "      <td>0</td>\n",
       "    </tr>\n",
       "    <tr>\n",
       "      <th>2</th>\n",
       "      <td>36254</td>\n",
       "      <td>1559338389</td>\n",
       "      <td>1</td>\n",
       "      <td>1</td>\n",
       "      <td>70.0</td>\n",
       "      <td>0</td>\n",
       "    </tr>\n",
       "    <tr>\n",
       "      <th>3</th>\n",
       "      <td>27903</td>\n",
       "      <td>1559292995</td>\n",
       "      <td>0</td>\n",
       "      <td>1</td>\n",
       "      <td>47.0</td>\n",
       "      <td>0</td>\n",
       "    </tr>\n",
       "    <tr>\n",
       "      <th>4</th>\n",
       "      <td>43563</td>\n",
       "      <td>212890197</td>\n",
       "      <td>1</td>\n",
       "      <td>0</td>\n",
       "      <td>53.0</td>\n",
       "      <td>0</td>\n",
       "    </tr>\n",
       "  </tbody>\n",
       "</table>\n",
       "</div>"
      ],
      "text/plain": [
       "   patient_id    image_id  laterality  view   age  cancer\n",
       "0       31046   147041592           0     0  58.0       0\n",
       "1       10445  1559303163           0     1  57.0       0\n",
       "2       36254  1559338389           1     1  70.0       0\n",
       "3       27903  1559292995           0     1  47.0       0\n",
       "4       43563   212890197           1     0  53.0       0"
      ]
     },
     "execution_count": 14,
     "metadata": {},
     "output_type": "execute_result"
    }
   ],
   "source": [
    "under_df = pd.read_csv('../../data/under_sampling_train.csv')\n",
    "under_df.head()"
   ]
  },
  {
   "cell_type": "code",
   "execution_count": 15,
   "metadata": {},
   "outputs": [
    {
     "data": {
      "text/plain": [
       "(2312, 6)"
      ]
     },
     "execution_count": 15,
     "metadata": {},
     "output_type": "execute_result"
    }
   ],
   "source": [
    "under_df.shape"
   ]
  },
  {
   "cell_type": "code",
   "execution_count": 16,
   "metadata": {},
   "outputs": [],
   "source": [
    "# Get cancer only patients from dataframe\n",
    "cancer_only = under_df[under_df[\"cancer\"] == 1][[\"patient_id\", \"image_id\"]]\n",
    "cancer_only.reset_index(inplace=True)\n",
    "\n",
    "# Get non cancer only patients from dataframe\n",
    "no_cancer_only = under_df[under_df[\"cancer\"] == 0][[\"patient_id\", \"image_id\"]]\n",
    "no_cancer_only.reset_index(inplace=True)\n"
   ]
  },
  {
   "cell_type": "code",
   "execution_count": 17,
   "metadata": {},
   "outputs": [],
   "source": [
    "# Save 600x600 image sparse matrix for cancer only patients\n",
    "target_path = \"../../data/breast_imaging_600px/\"\n",
    "target_folder = \"cancer\"\n",
    "original_path = \"../../data/train_images/\"\n",
    "\n",
    "save_processed_images(\n",
    "    cancer_only, original_path, target_path, target_folder, IMG_PX_SIZE=600\n",
    ")\n"
   ]
  },
  {
   "cell_type": "code",
   "execution_count": 18,
   "metadata": {},
   "outputs": [],
   "source": [
    "# Save 600x600 image sparse matrix for no cancer only patients\n",
    "target_path = \"../../data/breast_imaging_600px/\"\n",
    "target_folder = \"no_cancer\"\n",
    "original_path = \"../../data/train_images/\"\n",
    "\n",
    "save_processed_images(\n",
    "    no_cancer_only, original_path, target_path, target_folder, IMG_PX_SIZE=600\n",
    ")\n"
   ]
  },
  {
   "attachments": {},
   "cell_type": "markdown",
   "metadata": {},
   "source": [
    "-----\n",
    "Over Sampling: Opposite to under sampling, over sampling also been picked to check if model does better accuracy and loss metrics compare to under sampling"
   ]
  },
  {
   "cell_type": "code",
   "execution_count": 19,
   "metadata": {},
   "outputs": [
    {
     "data": {
      "text/html": [
       "<div>\n",
       "<style scoped>\n",
       "    .dataframe tbody tr th:only-of-type {\n",
       "        vertical-align: middle;\n",
       "    }\n",
       "\n",
       "    .dataframe tbody tr th {\n",
       "        vertical-align: top;\n",
       "    }\n",
       "\n",
       "    .dataframe thead th {\n",
       "        text-align: right;\n",
       "    }\n",
       "</style>\n",
       "<table border=\"1\" class=\"dataframe\">\n",
       "  <thead>\n",
       "    <tr style=\"text-align: right;\">\n",
       "      <th></th>\n",
       "      <th>patient_id</th>\n",
       "      <th>image_id</th>\n",
       "      <th>laterality</th>\n",
       "      <th>view</th>\n",
       "      <th>age</th>\n",
       "      <th>cancer</th>\n",
       "    </tr>\n",
       "  </thead>\n",
       "  <tbody>\n",
       "    <tr>\n",
       "      <th>0</th>\n",
       "      <td>29919</td>\n",
       "      <td>1361547019</td>\n",
       "      <td>1</td>\n",
       "      <td>0</td>\n",
       "      <td>58.0</td>\n",
       "      <td>1</td>\n",
       "    </tr>\n",
       "    <tr>\n",
       "      <th>1</th>\n",
       "      <td>65492</td>\n",
       "      <td>1186509485</td>\n",
       "      <td>0</td>\n",
       "      <td>1</td>\n",
       "      <td>59.0</td>\n",
       "      <td>1</td>\n",
       "    </tr>\n",
       "    <tr>\n",
       "      <th>2</th>\n",
       "      <td>14941</td>\n",
       "      <td>303808170</td>\n",
       "      <td>1</td>\n",
       "      <td>1</td>\n",
       "      <td>68.0</td>\n",
       "      <td>1</td>\n",
       "    </tr>\n",
       "    <tr>\n",
       "      <th>3</th>\n",
       "      <td>42160</td>\n",
       "      <td>684267184</td>\n",
       "      <td>1</td>\n",
       "      <td>1</td>\n",
       "      <td>68.0</td>\n",
       "      <td>1</td>\n",
       "    </tr>\n",
       "    <tr>\n",
       "      <th>4</th>\n",
       "      <td>55095</td>\n",
       "      <td>864613243</td>\n",
       "      <td>1</td>\n",
       "      <td>0</td>\n",
       "      <td>75.0</td>\n",
       "      <td>1</td>\n",
       "    </tr>\n",
       "  </tbody>\n",
       "</table>\n",
       "</div>"
      ],
      "text/plain": [
       "   patient_id    image_id  laterality  view   age  cancer\n",
       "0       29919  1361547019           1     0  58.0       1\n",
       "1       65492  1186509485           0     1  59.0       1\n",
       "2       14941   303808170           1     1  68.0       1\n",
       "3       42160   684267184           1     1  68.0       1\n",
       "4       55095   864613243           1     0  75.0       1"
      ]
     },
     "execution_count": 19,
     "metadata": {},
     "output_type": "execute_result"
    }
   ],
   "source": [
    "# Read over sampled train dataset\n",
    "over_df = pd.read_csv('../../data/over_sampling_train.csv')\n",
    "over_df.head()"
   ]
  },
  {
   "cell_type": "code",
   "execution_count": 20,
   "metadata": {},
   "outputs": [
    {
     "data": {
      "text/plain": [
       "(106950, 6)"
      ]
     },
     "execution_count": 20,
     "metadata": {},
     "output_type": "execute_result"
    }
   ],
   "source": [
    "# Check shape of the dataset\n",
    "over_df.shape"
   ]
  },
  {
   "cell_type": "code",
   "execution_count": 21,
   "metadata": {},
   "outputs": [],
   "source": [
    "# Get cancer only patients from dataframe\n",
    "cancer_only = over_df[over_df[\"cancer\"] == 1][[\"patient_id\", \"image_id\"]]\n",
    "cancer_only.reset_index(inplace=True)\n",
    "\n",
    "# Get non cancer only patients from dataframe\n",
    "no_cancer_only = over_df[over_df[\"cancer\"] == 0][[\"patient_id\", \"image_id\"]]\n",
    "no_cancer_only.reset_index(inplace=True)\n"
   ]
  },
  {
   "cell_type": "code",
   "execution_count": 31,
   "metadata": {},
   "outputs": [],
   "source": [
    "# Save 300x300 image sparse matrix for cancer only patients\n",
    "target_path = \"../../data/breast_imaging_300px/\"\n",
    "target_folder = \"cancer\"\n",
    "original_path = \"../../data/train_images/\"\n",
    "\n",
    "save_processed_images(\n",
    "    cancer_only, original_path, target_path, target_folder, IMG_PX_SIZE=300\n",
    ")\n"
   ]
  },
  {
   "cell_type": "code",
   "execution_count": 32,
   "metadata": {},
   "outputs": [],
   "source": [
    "# Save 300x300 image sparse matrix for no cancer only patients\n",
    "target_path = \"../../data/breast_imaging_300px/\"\n",
    "target_folder = \"no_cancer\"\n",
    "original_path = \"../../data/train_images/\"\n",
    "\n",
    "save_processed_images(\n",
    "    no_cancer_only, original_path, target_path, target_folder, IMG_PX_SIZE=300\n",
    ")\n"
   ]
  },
  {
   "attachments": {},
   "cell_type": "markdown",
   "metadata": {},
   "source": [
    "----\n",
    "Kaggle Test Images"
   ]
  },
  {
   "cell_type": "code",
   "execution_count": 3,
   "metadata": {},
   "outputs": [
    {
     "data": {
      "text/html": [
       "<div>\n",
       "<style scoped>\n",
       "    .dataframe tbody tr th:only-of-type {\n",
       "        vertical-align: middle;\n",
       "    }\n",
       "\n",
       "    .dataframe tbody tr th {\n",
       "        vertical-align: top;\n",
       "    }\n",
       "\n",
       "    .dataframe thead th {\n",
       "        text-align: right;\n",
       "    }\n",
       "</style>\n",
       "<table border=\"1\" class=\"dataframe\">\n",
       "  <thead>\n",
       "    <tr style=\"text-align: right;\">\n",
       "      <th></th>\n",
       "      <th>site_id</th>\n",
       "      <th>patient_id</th>\n",
       "      <th>image_id</th>\n",
       "      <th>laterality</th>\n",
       "      <th>view</th>\n",
       "      <th>age</th>\n",
       "      <th>implant</th>\n",
       "      <th>machine_id</th>\n",
       "      <th>prediction_id</th>\n",
       "    </tr>\n",
       "  </thead>\n",
       "  <tbody>\n",
       "    <tr>\n",
       "      <th>0</th>\n",
       "      <td>2</td>\n",
       "      <td>10008</td>\n",
       "      <td>736471439</td>\n",
       "      <td>L</td>\n",
       "      <td>MLO</td>\n",
       "      <td>81</td>\n",
       "      <td>0</td>\n",
       "      <td>21</td>\n",
       "      <td>10008_L</td>\n",
       "    </tr>\n",
       "    <tr>\n",
       "      <th>1</th>\n",
       "      <td>2</td>\n",
       "      <td>10008</td>\n",
       "      <td>1591370361</td>\n",
       "      <td>L</td>\n",
       "      <td>CC</td>\n",
       "      <td>81</td>\n",
       "      <td>0</td>\n",
       "      <td>21</td>\n",
       "      <td>10008_L</td>\n",
       "    </tr>\n",
       "    <tr>\n",
       "      <th>2</th>\n",
       "      <td>2</td>\n",
       "      <td>10008</td>\n",
       "      <td>68070693</td>\n",
       "      <td>R</td>\n",
       "      <td>MLO</td>\n",
       "      <td>81</td>\n",
       "      <td>0</td>\n",
       "      <td>21</td>\n",
       "      <td>10008_R</td>\n",
       "    </tr>\n",
       "    <tr>\n",
       "      <th>3</th>\n",
       "      <td>2</td>\n",
       "      <td>10008</td>\n",
       "      <td>361203119</td>\n",
       "      <td>R</td>\n",
       "      <td>CC</td>\n",
       "      <td>81</td>\n",
       "      <td>0</td>\n",
       "      <td>21</td>\n",
       "      <td>10008_R</td>\n",
       "    </tr>\n",
       "  </tbody>\n",
       "</table>\n",
       "</div>"
      ],
      "text/plain": [
       "   site_id  patient_id    image_id laterality view  age  implant  machine_id  \\\n",
       "0        2       10008   736471439          L  MLO   81        0          21   \n",
       "1        2       10008  1591370361          L   CC   81        0          21   \n",
       "2        2       10008    68070693          R  MLO   81        0          21   \n",
       "3        2       10008   361203119          R   CC   81        0          21   \n",
       "\n",
       "  prediction_id  \n",
       "0       10008_L  \n",
       "1       10008_L  \n",
       "2       10008_R  \n",
       "3       10008_R  "
      ]
     },
     "execution_count": 3,
     "metadata": {},
     "output_type": "execute_result"
    }
   ],
   "source": [
    "# Read over sampled train dataset\n",
    "test_df = pd.read_csv('../../data/test.csv')\n",
    "test_df.head()"
   ]
  },
  {
   "cell_type": "code",
   "execution_count": 7,
   "metadata": {},
   "outputs": [],
   "source": [
    "# Save 300x300 image sparse matrix for cancer only patients\n",
    "target_path = \"../../data/test_breast_imaging_300px/\"\n",
    "target_folder = \"is_cancer\"\n",
    "original_path = \"../../data/test_images/\"\n",
    "\n",
    "save_processed_images(\n",
    "    test_df, original_path, target_path, target_folder, IMG_PX_SIZE=300\n",
    ")\n"
   ]
  },
  {
   "cell_type": "code",
   "execution_count": null,
   "metadata": {},
   "outputs": [],
   "source": []
  }
 ],
 "metadata": {
  "kernelspec": {
   "display_name": "Python 3",
   "language": "python",
   "name": "python3"
  },
  "language_info": {
   "codemirror_mode": {
    "name": "ipython",
    "version": 3
   },
   "file_extension": ".py",
   "mimetype": "text/x-python",
   "name": "python",
   "nbconvert_exporter": "python",
   "pygments_lexer": "ipython3",
   "version": "3.9.13"
  },
  "orig_nbformat": 4,
  "vscode": {
   "interpreter": {
    "hash": "7af3ebbd7de8183e54c3a867989fd0d9f9e8343647e0895fccfd06c308b7a095"
   }
  }
 },
 "nbformat": 4,
 "nbformat_minor": 2
}
