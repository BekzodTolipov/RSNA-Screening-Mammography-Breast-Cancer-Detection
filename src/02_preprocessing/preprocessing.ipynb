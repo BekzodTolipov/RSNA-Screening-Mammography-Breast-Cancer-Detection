{
 "cells": [
  {
   "attachments": {},
   "cell_type": "markdown",
   "metadata": {},
   "source": [
    "## Summary\n"
   ]
  },
  {
   "cell_type": "code",
   "execution_count": 103,
   "metadata": {},
   "outputs": [],
   "source": [
    "# Import libraries\n",
    "import pandas as pd\n",
    "import numpy as np\n",
    "import collections\n",
    "import matplotlib.pyplot as plt\n",
    "import seaborn as sns\n",
    "\n",
    "from imblearn.under_sampling import NearMiss\n",
    "from imblearn.over_sampling import RandomOverSampler\n",
    "from collections import Counter\n",
    "\n",
    "from sklearn.model_selection import train_test_split\n"
   ]
  },
  {
   "attachments": {},
   "cell_type": "markdown",
   "metadata": {},
   "source": [
    "---\n",
    "\n",
    "Density\n"
   ]
  },
  {
   "cell_type": "code",
   "execution_count": 144,
   "metadata": {},
   "outputs": [
    {
     "data": {
      "text/html": [
       "<div>\n",
       "<style scoped>\n",
       "    .dataframe tbody tr th:only-of-type {\n",
       "        vertical-align: middle;\n",
       "    }\n",
       "\n",
       "    .dataframe tbody tr th {\n",
       "        vertical-align: top;\n",
       "    }\n",
       "\n",
       "    .dataframe thead th {\n",
       "        text-align: right;\n",
       "    }\n",
       "</style>\n",
       "<table border=\"1\" class=\"dataframe\">\n",
       "  <thead>\n",
       "    <tr style=\"text-align: right;\">\n",
       "      <th></th>\n",
       "      <th>site_id</th>\n",
       "      <th>patient_id</th>\n",
       "      <th>image_id</th>\n",
       "      <th>laterality</th>\n",
       "      <th>view</th>\n",
       "      <th>age</th>\n",
       "      <th>cancer</th>\n",
       "      <th>biopsy</th>\n",
       "      <th>invasive</th>\n",
       "      <th>BIRADS</th>\n",
       "      <th>implant</th>\n",
       "      <th>density</th>\n",
       "      <th>difficult_negative_case</th>\n",
       "    </tr>\n",
       "  </thead>\n",
       "  <tbody>\n",
       "    <tr>\n",
       "      <th>0</th>\n",
       "      <td>2</td>\n",
       "      <td>10006</td>\n",
       "      <td>462822612</td>\n",
       "      <td>L</td>\n",
       "      <td>CC</td>\n",
       "      <td>61.0</td>\n",
       "      <td>0</td>\n",
       "      <td>0</td>\n",
       "      <td>0</td>\n",
       "      <td>2</td>\n",
       "      <td>0</td>\n",
       "      <td>NaN</td>\n",
       "      <td>False</td>\n",
       "    </tr>\n",
       "    <tr>\n",
       "      <th>1</th>\n",
       "      <td>2</td>\n",
       "      <td>10006</td>\n",
       "      <td>1459541791</td>\n",
       "      <td>L</td>\n",
       "      <td>MLO</td>\n",
       "      <td>61.0</td>\n",
       "      <td>0</td>\n",
       "      <td>0</td>\n",
       "      <td>0</td>\n",
       "      <td>2</td>\n",
       "      <td>0</td>\n",
       "      <td>NaN</td>\n",
       "      <td>False</td>\n",
       "    </tr>\n",
       "    <tr>\n",
       "      <th>2</th>\n",
       "      <td>2</td>\n",
       "      <td>10006</td>\n",
       "      <td>1864590858</td>\n",
       "      <td>R</td>\n",
       "      <td>MLO</td>\n",
       "      <td>61.0</td>\n",
       "      <td>0</td>\n",
       "      <td>0</td>\n",
       "      <td>0</td>\n",
       "      <td>2</td>\n",
       "      <td>0</td>\n",
       "      <td>NaN</td>\n",
       "      <td>False</td>\n",
       "    </tr>\n",
       "    <tr>\n",
       "      <th>3</th>\n",
       "      <td>2</td>\n",
       "      <td>10006</td>\n",
       "      <td>1874946579</td>\n",
       "      <td>R</td>\n",
       "      <td>CC</td>\n",
       "      <td>61.0</td>\n",
       "      <td>0</td>\n",
       "      <td>0</td>\n",
       "      <td>0</td>\n",
       "      <td>2</td>\n",
       "      <td>0</td>\n",
       "      <td>NaN</td>\n",
       "      <td>False</td>\n",
       "    </tr>\n",
       "    <tr>\n",
       "      <th>4</th>\n",
       "      <td>2</td>\n",
       "      <td>10011</td>\n",
       "      <td>220375232</td>\n",
       "      <td>L</td>\n",
       "      <td>CC</td>\n",
       "      <td>55.0</td>\n",
       "      <td>0</td>\n",
       "      <td>0</td>\n",
       "      <td>0</td>\n",
       "      <td>0</td>\n",
       "      <td>0</td>\n",
       "      <td>NaN</td>\n",
       "      <td>True</td>\n",
       "    </tr>\n",
       "  </tbody>\n",
       "</table>\n",
       "</div>"
      ],
      "text/plain": [
       "   site_id  patient_id    image_id laterality view   age  cancer  biopsy  \\\n",
       "0        2       10006   462822612          L   CC  61.0       0       0   \n",
       "1        2       10006  1459541791          L  MLO  61.0       0       0   \n",
       "2        2       10006  1864590858          R  MLO  61.0       0       0   \n",
       "3        2       10006  1874946579          R   CC  61.0       0       0   \n",
       "4        2       10011   220375232          L   CC  55.0       0       0   \n",
       "\n",
       "   invasive  BIRADS  implant  density  difficult_negative_case  \n",
       "0         0       2        0      NaN                    False  \n",
       "1         0       2        0      NaN                    False  \n",
       "2         0       2        0      NaN                    False  \n",
       "3         0       2        0      NaN                    False  \n",
       "4         0       0        0      NaN                     True  "
      ]
     },
     "execution_count": 144,
     "metadata": {},
     "output_type": "execute_result"
    }
   ],
   "source": [
    "# Import density related dataframe\n",
    "df = pd.read_csv(\"../../data/density_train_df.csv\")\n",
    "df.head()\n"
   ]
  },
  {
   "cell_type": "code",
   "execution_count": 145,
   "metadata": {},
   "outputs": [],
   "source": [
    "# Get density non null rows\n",
    "density_df = df[~df[\"density\"].isna()]\n",
    "# Get density null rows\n",
    "null_density_df = df[df[\"density\"].isna()]\n"
   ]
  },
  {
   "cell_type": "code",
   "execution_count": 146,
   "metadata": {},
   "outputs": [
    {
     "data": {
      "text/plain": [
       "site_id                    0\n",
       "patient_id                 0\n",
       "image_id                   0\n",
       "laterality                 0\n",
       "view                       0\n",
       "age                        0\n",
       "cancer                     0\n",
       "biopsy                     0\n",
       "invasive                   0\n",
       "BIRADS                     0\n",
       "implant                    0\n",
       "density                    0\n",
       "difficult_negative_case    0\n",
       "dtype: int64"
      ]
     },
     "execution_count": 146,
     "metadata": {},
     "output_type": "execute_result"
    }
   ],
   "source": [
    "# Check if density non null rows missing any other values\n",
    "density_df.isna().sum()\n"
   ]
  },
  {
   "cell_type": "code",
   "execution_count": 147,
   "metadata": {},
   "outputs": [
    {
     "data": {
      "text/plain": [
       "site_id                        0\n",
       "patient_id                     0\n",
       "image_id                       0\n",
       "laterality                     0\n",
       "view                           0\n",
       "age                            0\n",
       "cancer                         0\n",
       "biopsy                         0\n",
       "invasive                       0\n",
       "BIRADS                         0\n",
       "implant                        0\n",
       "density                    25236\n",
       "difficult_negative_case        0\n",
       "dtype: int64"
      ]
     },
     "execution_count": 147,
     "metadata": {},
     "output_type": "execute_result"
    }
   ],
   "source": [
    "# Check density null rows\n",
    "null_density_df.isna().sum()\n"
   ]
  },
  {
   "cell_type": "code",
   "execution_count": 148,
   "metadata": {},
   "outputs": [],
   "source": [
    "# Train test split density dataframe for non null density rows\n",
    "df_train, df_test = train_test_split(density_df, random_state=42, test_size=0.3)\n",
    "# Prepare dataframe to predict null density dataframe\n",
    "df_to_predict = null_density_df\n"
   ]
  },
  {
   "cell_type": "code",
   "execution_count": 150,
   "metadata": {},
   "outputs": [],
   "source": [
    "# Save dataframes into csv files\n",
    "df_train.to_csv(\"../../data/density_train.csv\", index=False)\n",
    "df_test.to_csv(\"../../data/density_test.csv\", index=False)\n",
    "df_to_predict.to_csv(\"../../data/predict_density_df.csv\", index=False)\n"
   ]
  },
  {
   "cell_type": "code",
   "execution_count": 110,
   "metadata": {},
   "outputs": [
    {
     "data": {
      "text/html": [
       "<div>\n",
       "<style scoped>\n",
       "    .dataframe tbody tr th:only-of-type {\n",
       "        vertical-align: middle;\n",
       "    }\n",
       "\n",
       "    .dataframe tbody tr th {\n",
       "        vertical-align: top;\n",
       "    }\n",
       "\n",
       "    .dataframe thead th {\n",
       "        text-align: right;\n",
       "    }\n",
       "</style>\n",
       "<table border=\"1\" class=\"dataframe\">\n",
       "  <thead>\n",
       "    <tr style=\"text-align: right;\">\n",
       "      <th></th>\n",
       "      <th>site_id</th>\n",
       "      <th>patient_id</th>\n",
       "      <th>image_id</th>\n",
       "      <th>laterality</th>\n",
       "      <th>view</th>\n",
       "      <th>age</th>\n",
       "      <th>cancer</th>\n",
       "      <th>biopsy</th>\n",
       "      <th>invasive</th>\n",
       "      <th>BIRADS</th>\n",
       "      <th>implant</th>\n",
       "      <th>density</th>\n",
       "      <th>difficult_negative_case</th>\n",
       "      <th>custom_id</th>\n",
       "    </tr>\n",
       "  </thead>\n",
       "  <tbody>\n",
       "    <tr>\n",
       "      <th>0</th>\n",
       "      <td>1</td>\n",
       "      <td>29919</td>\n",
       "      <td>1361547019</td>\n",
       "      <td>1</td>\n",
       "      <td>0</td>\n",
       "      <td>58.0</td>\n",
       "      <td>1</td>\n",
       "      <td>1</td>\n",
       "      <td>1</td>\n",
       "      <td>0</td>\n",
       "      <td>0</td>\n",
       "      <td>1</td>\n",
       "      <td>False</td>\n",
       "      <td>29919-R</td>\n",
       "    </tr>\n",
       "  </tbody>\n",
       "</table>\n",
       "</div>"
      ],
      "text/plain": [
       "   site_id  patient_id    image_id  laterality  view   age  cancer  biopsy  \\\n",
       "0        1       29919  1361547019           1     0  58.0       1       1   \n",
       "\n",
       "   invasive  BIRADS  implant  density  difficult_negative_case custom_id  \n",
       "0         1       0        0        1                    False   29919-R  "
      ]
     },
     "execution_count": 110,
     "metadata": {},
     "output_type": "execute_result"
    }
   ],
   "source": [
    "# Read no duplicate patient dataframe\n",
    "df = pd.read_csv(\"../../data/no_dubs_train.csv\")\n",
    "\n",
    "df.head(1)\n"
   ]
  },
  {
   "cell_type": "code",
   "execution_count": 111,
   "metadata": {},
   "outputs": [],
   "source": [
    "# Prepare X and y for no duplicate patient dataframe\n",
    "X = df[[\"patient_id\", \"image_id\", \"laterality\", \"view\", \"age\"]]\n",
    "y = df[\"cancer\"]\n"
   ]
  },
  {
   "attachments": {},
   "cell_type": "markdown",
   "metadata": {},
   "source": [
    "---\n",
    "\n",
    "Under Sampling\n"
   ]
  },
  {
   "cell_type": "code",
   "execution_count": 112,
   "metadata": {},
   "outputs": [
    {
     "name": "stdout",
     "output_type": "stream",
     "text": [
      "Counter({0: 53475, 1: 1156})\n",
      "Original dataset shape: Counter({0: 53475, 1: 1156})\n",
      "Resample dataset shape: Counter({0: 1156, 1: 1156})\n"
     ]
    },
    {
     "data": {
      "text/plain": [
       "Counter({1: 1156, 0: 53475})"
      ]
     },
     "execution_count": 112,
     "metadata": {},
     "output_type": "execute_result"
    }
   ],
   "source": [
    "# Initialize Near Miss object\n",
    "nm = NearMiss()\n",
    "# Fit and resample X and y prepared to under sample\n",
    "X_nm, y_nm = nm.fit_resample(X, y)\n",
    "\n",
    "# Check under sampling\n",
    "print(\"Original dataset shape:\", Counter(y))\n",
    "print(\"Resample dataset shape:\", Counter(y_nm))\n"
   ]
  },
  {
   "cell_type": "code",
   "execution_count": 113,
   "metadata": {},
   "outputs": [
    {
     "data": {
      "image/png": "[encoded data removed]",
      "text/plain": [
       "<Figure size 432x288 with 1 Axes>"
      ]
     },
     "metadata": {
      "needs_background": "light"
     },
     "output_type": "display_data"
    }
   ],
   "source": [
    "# Set up counter before under sampling\n",
    "counter = Counter(y)\n",
    "# Set up count after under sampling\n",
    "counter_yn = Counter(y_nm)\n",
    "# Plot under sampling\n",
    "for label, _ in collections.OrderedDict(sorted(counter.items())).items():\n",
    "    row_ix = np.where(y == label)[0]\n",
    "    plt.scatter(\n",
    "        np.log(df.iloc[row_ix, 1]), np.log(df.iloc[row_ix, 5]), label=str(label)\n",
    "    )\n",
    "plt.legend()\n",
    "plt.show()\n"
   ]
  },
  {
   "cell_type": "code",
   "execution_count": 114,
   "metadata": {},
   "outputs": [],
   "source": [
    "# Create dataframe for under sampled values\n",
    "under_sample_df = X_nm\n",
    "under_sample_df[\"cancer\"] = y_nm\n"
   ]
  },
  {
   "cell_type": "code",
   "execution_count": 115,
   "metadata": {},
   "outputs": [
    {
     "data": {
      "text/plain": [
       "<AxesSubplot: xlabel='age', ylabel='Count'>"
      ]
     },
     "execution_count": 115,
     "metadata": {},
     "output_type": "execute_result"
    },
    {
     "data": {
      "image/png": "[encoded data removed]",
      "text/plain": [
       "<Figure size 432x288 with 1 Axes>"
      ]
     },
     "metadata": {
      "needs_background": "light"
     },
     "output_type": "display_data"
    }
   ],
   "source": [
    "# Plot new dataframe distribution\n",
    "sns.histplot(data=under_sample_df, x=\"age\", hue=\"cancer\")\n"
   ]
  },
  {
   "cell_type": "code",
   "execution_count": 116,
   "metadata": {},
   "outputs": [],
   "source": [
    "# Store under sampled dataframe\n",
    "under_sample_df.to_csv('../../data/under_sampling_train.csv', index=False)"
   ]
  },
  {
   "cell_type": "code",
   "execution_count": 117,
   "metadata": {},
   "outputs": [],
   "source": [
    "# Create train, test, val sets for model\n",
    "df_train, df_test = train_test_split(under_sample_df, random_state=42, test_size=0.3)\n",
    "\n",
    "df_val, df_test = train_test_split(df_test, random_state=123, test_size=0.5)\n"
   ]
  },
  {
   "cell_type": "code",
   "execution_count": 118,
   "metadata": {},
   "outputs": [
    {
     "data": {
      "text/plain": [
       "1    810\n",
       "0    808\n",
       "Name: cancer, dtype: int64"
      ]
     },
     "execution_count": 118,
     "metadata": {},
     "output_type": "execute_result"
    }
   ],
   "source": [
    "# Check train after split cancer value counts for each classification\n",
    "df_train[\"cancer\"].value_counts()\n"
   ]
  },
  {
   "cell_type": "code",
   "execution_count": 119,
   "metadata": {},
   "outputs": [
    {
     "data": {
      "text/plain": [
       "0    178\n",
       "1    169\n",
       "Name: cancer, dtype: int64"
      ]
     },
     "execution_count": 119,
     "metadata": {},
     "output_type": "execute_result"
    }
   ],
   "source": [
    "# Check test after split cancer value counts for each classification\n",
    "df_test[\"cancer\"].value_counts()\n"
   ]
  },
  {
   "cell_type": "code",
   "execution_count": 120,
   "metadata": {},
   "outputs": [],
   "source": [
    "# Store generated under sampled dataframe train test split\n",
    "df_train.to_csv(\"../../data/under_train.csv\", index=False)\n",
    "df_val.to_csv(\"../../data/under_val.csv\", index=False)\n",
    "df_test.to_csv(\"../../data/under_test.csv\", index=False)\n"
   ]
  },
  {
   "attachments": {},
   "cell_type": "markdown",
   "metadata": {},
   "source": [
    "---\n",
    "\n",
    "Over Sampling\n"
   ]
  },
  {
   "cell_type": "code",
   "execution_count": 121,
   "metadata": {},
   "outputs": [
    {
     "name": "stdout",
     "output_type": "stream",
     "text": [
      "Original dataset shape Counter({0: 53475, 1: 1156})\n",
      "Resample dataset shape Counter({1: 53475, 0: 53475})\n"
     ]
    }
   ],
   "source": [
    "# Initialize Random Over Sampler\n",
    "ros = RandomOverSampler(random_state=42)\n",
    "\n",
    "# Fit and resample using random over sampler\n",
    "X_ros, y_ros = ros.fit_resample(X, y)\n",
    "\n",
    "# Print before and after over sampling\n",
    "print(\"Original dataset shape\", Counter(y))\n",
    "print(\"Resample dataset shape\", Counter(y_ros))\n"
   ]
  },
  {
   "cell_type": "code",
   "execution_count": 122,
   "metadata": {},
   "outputs": [],
   "source": [
    "# Create dataframe after oversampling\n",
    "over_sample_df = X_ros\n",
    "over_sample_df[\"cancer\"] = y_ros\n"
   ]
  },
  {
   "cell_type": "code",
   "execution_count": 123,
   "metadata": {},
   "outputs": [
    {
     "data": {
      "text/plain": [
       "<AxesSubplot: xlabel='age', ylabel='Count'>"
      ]
     },
     "execution_count": 123,
     "metadata": {},
     "output_type": "execute_result"
    },
    {
     "data": {
      "image/png": "[encoded data removed]",
      "text/plain": [
       "<Figure size 432x288 with 1 Axes>"
      ]
     },
     "metadata": {
      "needs_background": "light"
     },
     "output_type": "display_data"
    }
   ],
   "source": [
    "# Plot over sampling distribution\n",
    "sns.histplot(data=over_sample_df, x=\"age\", hue=\"cancer\", binwidth=3)\n"
   ]
  },
  {
   "cell_type": "code",
   "execution_count": 124,
   "metadata": {},
   "outputs": [],
   "source": [
    "# Store oversampling dataframe\n",
    "over_sample_df.to_csv(\"../../data/over_sampling_train.csv\", index=False)\n"
   ]
  },
  {
   "cell_type": "code",
   "execution_count": 125,
   "metadata": {},
   "outputs": [],
   "source": [
    "# Train test split over sampled dataframe\n",
    "df_train, df_test = train_test_split(over_sample_df, random_state=42, test_size=0.3)\n",
    "\n",
    "df_val, df_test = train_test_split(df_test, random_state=123, test_size=0.5)\n"
   ]
  },
  {
   "cell_type": "code",
   "execution_count": 126,
   "metadata": {},
   "outputs": [
    {
     "data": {
      "text/plain": [
       "1    37462\n",
       "0    37403\n",
       "Name: cancer, dtype: int64"
      ]
     },
     "execution_count": 126,
     "metadata": {},
     "output_type": "execute_result"
    }
   ],
   "source": [
    "# Check train cancer classification split\n",
    "df_train[\"cancer\"].value_counts()\n"
   ]
  },
  {
   "cell_type": "code",
   "execution_count": 127,
   "metadata": {},
   "outputs": [
    {
     "data": {
      "text/plain": [
       "0    8089\n",
       "1    7954\n",
       "Name: cancer, dtype: int64"
      ]
     },
     "execution_count": 127,
     "metadata": {},
     "output_type": "execute_result"
    }
   ],
   "source": [
    "# Check test cancer classification split\n",
    "df_test[\"cancer\"].value_counts()\n"
   ]
  },
  {
   "cell_type": "code",
   "execution_count": 128,
   "metadata": {},
   "outputs": [],
   "source": [
    "# Store over sampled dataframe\n",
    "df_train.to_csv(\"../../data/over_train.csv\", index=False)\n",
    "df_val.to_csv(\"../../data/over_val.csv\", index=False)\n",
    "df_test.to_csv(\"../../data/over_test.csv\", index=False)\n"
   ]
  }
 ],
 "metadata": {
  "kernelspec": {
   "display_name": "Python 3",
   "language": "python",
   "name": "python3"
  },
  "language_info": {
   "codemirror_mode": {
    "name": "ipython",
    "version": 3
   },
   "file_extension": ".py",
   "mimetype": "text/x-python",
   "name": "python",
   "nbconvert_exporter": "python",
   "pygments_lexer": "ipython3",
   "version": "3.9.13"
  },
  "orig_nbformat": 4,
  "vscode": {
   "interpreter": {
    "hash": "7af3ebbd7de8183e54c3a867989fd0d9f9e8343647e0895fccfd06c308b7a095"
   }
  }
 },
 "nbformat": 4,
 "nbformat_minor": 2
}
