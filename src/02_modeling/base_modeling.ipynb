{
  "cells": [
    {
      "cell_type": "code",
      "source": [
        "!pip install pydicom"
      ],
      "metadata": {
        "colab": {
          "base_uri": "https://localhost:8080/"
        },
        "id": "jOiELGGgj4nh",
        "outputId": "a9498f8e-d60d-4eeb-f0c4-1f1a6a79e0da"
      },
      "execution_count": 1,
      "outputs": [
        {
          "output_type": "stream",
          "name": "stdout",
          "text": [
            "Looking in indexes: https://pypi.org/simple, https://us-python.pkg.dev/colab-wheels/public/simple/\n",
            "Collecting pydicom\n",
            "  Downloading pydicom-2.3.1-py3-none-any.whl (2.0 MB)\n",
            "\u001b[2K     \u001b[90m━━━━━━━━━━━━━━━━━━━━━━━━━━━━━━━━━━━━━━━━\u001b[0m \u001b[32m2.0/2.0 MB\u001b[0m \u001b[31m23.1 MB/s\u001b[0m eta \u001b[36m0:00:00\u001b[0m\n",
            "\u001b[?25hInstalling collected packages: pydicom\n",
            "Successfully installed pydicom-2.3.1\n"
          ]
        }
      ]
    },
    {
      "cell_type": "code",
      "source": [
        "from google.colab import drive\n",
        "drive.mount('/content/drive')"
      ],
      "metadata": {
        "colab": {
          "base_uri": "https://localhost:8080/"
        },
        "id": "W6PSSlVNkmfr",
        "outputId": "6a5e01bf-b082-4ae6-d372-6eb6baa4da5e"
      },
      "execution_count": 3,
      "outputs": [
        {
          "output_type": "stream",
          "name": "stdout",
          "text": [
            "Mounted at /content/drive\n"
          ]
        }
      ]
    },
    {
      "cell_type": "code",
      "execution_count": 24,
      "metadata": {
        "id": "AEWOUYTUjsQI"
      },
      "outputs": [],
      "source": [
        "# imports\n",
        "import matplotlib.pyplot as plt\n",
        "import numpy as np\n",
        "import os\n",
        "import pandas as pd\n",
        "\n",
        "from tensorflow.keras.layers import Dense, Dropout, Flatten, Conv2D, MaxPooling2D\n",
        "from tensorflow.keras.models import Sequential\n",
        "from tensorflow.keras.preprocessing import image_dataset_from_directory\n",
        "from tensorflow.keras import layers\n",
        "\n",
        "from sklearn.model_selection import train_test_split\n",
        "from tensorflow.keras.applications.xception import Xception\n",
        "from tensorflow.keras.applications import VGG19\n",
        "\n",
        "from tensorflow.keras.callbacks import EarlyStopping\n",
        "# For reproducibility\n",
        "np.random.seed(42)\n",
        "from scipy import sparse\n"
      ]
    },
    {
      "cell_type": "code",
      "source": [
        "!ls"
      ],
      "metadata": {
        "colab": {
          "base_uri": "https://localhost:8080/"
        },
        "id": "dExkiUjulI5k",
        "outputId": "24cadeaf-0e24-4713-8dab-d9f7f6a99526"
      },
      "execution_count": 3,
      "outputs": [
        {
          "output_type": "stream",
          "name": "stdout",
          "text": [
            "drive  sample_data\n"
          ]
        }
      ]
    },
    {
      "cell_type": "code",
      "source": [
        "MAX_IMAGE = 300"
      ],
      "metadata": {
        "id": "SNZCxJGHmwKb"
      },
      "execution_count": 5,
      "outputs": []
    },
    {
      "cell_type": "code",
      "source": [
        "target_path = '/content/drive/MyDrive/General Assembly/breast_cancer_project/breast_imaging_500px/cancer'\n",
        "\n",
        "list_of_dirs = [x for x in os.listdir(target_path)]\n",
        "\n",
        "image_count = 0\n",
        "sparse_dir_cancer_list = []\n",
        "for dir_name in list_of_dirs:\n",
        "  path = f'{target_path}/{dir_name}'\n",
        "  for dirs in os.listdir(path):\n",
        "    image_count += 1\n",
        "    sparse_dir_cancer_list.append(f'{path}/{dirs}')\n",
        "    if image_count >= MAX_IMAGE:\n",
        "      break\n",
        "  if image_count >= MAX_IMAGE:\n",
        "    break"
      ],
      "metadata": {
        "id": "OHg7BkWrlGM1"
      },
      "execution_count": 6,
      "outputs": []
    },
    {
      "cell_type": "code",
      "source": [
        "target_path = '/content/drive/MyDrive/General Assembly/breast_cancer_project/breast_imaging_500px/no_cancer'\n",
        "\n",
        "list_of_dirs = [x for x in os.listdir(target_path)]\n",
        "\n",
        "image_count = 0\n",
        "sparse_dir_no_cancer_list = []\n",
        "for dir_name in list_of_dirs:\n",
        "  path = f'{target_path}/{dir_name}'\n",
        "  for dirs in os.listdir(path):\n",
        "    image_count += 1\n",
        "    sparse_dir_no_cancer_list.append(f'{path}/{dirs}')\n",
        "    if image_count >= MAX_IMAGE:\n",
        "      break\n",
        "\n",
        "  if image_count >= MAX_IMAGE:\n",
        "    break"
      ],
      "metadata": {
        "id": "rJneVLFdlv2A"
      },
      "execution_count": 7,
      "outputs": []
    },
    {
      "cell_type": "code",
      "execution_count": 15,
      "metadata": {
        "colab": {
          "base_uri": "https://localhost:8080/"
        },
        "id": "r-8TqRibjsQJ",
        "outputId": "429b0f95-63a3-4630-e25d-6527a4c89975"
      },
      "outputs": [
        {
          "output_type": "execute_result",
          "data": {
            "text/plain": [
              "(600, 500, 500, 3)"
            ]
          },
          "metadata": {},
          "execution_count": 15
        }
      ],
      "source": [
        "from PIL import Image, ImageDraw\n",
        "from tensorflow.keras.preprocessing.image import img_to_array, load_img, smart_resize\n",
        "\n",
        "def apply_ct_window(img, window):\n",
        "    # window = (window width, window level)\n",
        "    R = (img-window[1]+0.5*window[0])/window[0]\n",
        "    R[R<0] = 0\n",
        "    R[R>1] = 1\n",
        "\n",
        "    # print(R)\n",
        "    return R\n",
        "\n",
        "def convert_image_to_rgb(arr):\n",
        "\n",
        "  display_img = apply_ct_window(arr, [400,50])\n",
        "\n",
        "  img_bbox = Image.fromarray((255*display_img).astype('uint8'))\n",
        "  img_bbox = img_bbox.convert('RGB')\n",
        "\n",
        "  return img_to_array(img_bbox) / 255\n",
        "\n",
        "X = []\n",
        "\n",
        "for cancer_sparse_path in sparse_dir_cancer_list:\n",
        "  sparse_matrix = sparse.load_npz(cancer_sparse_path)\n",
        "  rgb_image = convert_image_to_rgb(sparse_matrix.todense())\n",
        "  X.append(rgb_image)\n",
        "\n",
        "for no_cancer_sparse_path in sparse_dir_no_cancer_list:\n",
        "  sparse_matrix = sparse.load_npz(no_cancer_sparse_path)\n",
        "  rgb_image = convert_image_to_rgb(sparse_matrix.todense())\n",
        "  X.append(rgb_image)\n",
        "\n",
        "X = np.array(X)\n",
        "\n",
        "X.shape"
      ]
    },
    {
      "cell_type": "code",
      "source": [
        "y = [1] * MAX_IMAGE + [0] * MAX_IMAGE\n"
      ],
      "metadata": {
        "id": "F3cKgLGAmqv1"
      },
      "execution_count": 16,
      "outputs": []
    },
    {
      "cell_type": "code",
      "execution_count": 17,
      "metadata": {
        "id": "D67Z8u9ejsQJ"
      },
      "outputs": [],
      "source": [
        "X_train, X_test, y_train, y_test = train_test_split(X, np.array(y), random_state=42)\n"
      ]
    },
    {
      "cell_type": "code",
      "execution_count": null,
      "metadata": {
        "id": "cTmSUvEVjsQJ"
      },
      "outputs": [],
      "source": [
        "# model = Sequential()\n",
        "\n",
        "# model.add(layers.Input(shape=(1000,1000, 1)))\n",
        "\n",
        "# # First Convolution\n",
        "# model.add(Conv2D(16, (3,3), activation='relu'))\n",
        "# model.add(MaxPooling2D(pool_size=(2,2)))\n",
        "\n",
        "# # Flatten\n",
        "# model.add(Flatten())\n",
        "\n",
        "# # Fully Connected\n",
        "# model.add(Dense(16, activation='relu'))\n",
        "# model.add(Dense(1, activation='sigmoid'))\n",
        "\n",
        "# # Compile\n",
        "# model.compile(optimizer='adam',\n",
        "#               loss='binary_crossentropy',\n",
        "#               metrics=['accuracy'])"
      ]
    },
    {
      "cell_type": "code",
      "execution_count": null,
      "metadata": {
        "id": "3K7yPNDnjsQK"
      },
      "outputs": [],
      "source": [
        "# h = model.fit(\n",
        "#     X_train, y_train, epochs=5, batch_size=64, validation_data=(X_test, y_test)\n",
        "# )\n"
      ]
    },
    {
      "cell_type": "code",
      "execution_count": null,
      "metadata": {
        "id": "zPyI0gehjsQM"
      },
      "outputs": [],
      "source": [
        "# plt.plot(h.history['loss'], label = 'Train Loss')\n",
        "# plt.plot(h.history['val_loss'], label = 'Test Loss')\n",
        "# plt.legend();"
      ]
    },
    {
      "cell_type": "code",
      "source": [
        "import tensorflow as tf\n",
        "\n",
        "\n",
        "# resize_and_rescale = Sequential([\n",
        "#   layers.Resizing(300, 300),\n",
        "#   layers.Rescaling(1./255)\n",
        "# ])\n",
        "\n",
        "data_augmentation = Sequential([\n",
        "  # layers.RandomFlip(\"horizontal_and_vertical\"),\n",
        "  layers.RandomRotation(0.2),\n",
        "  # layers.RandomBrightness(\n",
        "  #   0.2, value_range=(0, 255)\n",
        "  # ),\n",
        "  # layers.RandomContrast(\n",
        "  #     0.2\n",
        "  # ),\n",
        "  # layers.RandomZoom(\n",
        "  #     height_factor=0.2,\n",
        "  #     width_factor=0.2,\n",
        "  #     fill_mode='reflect',\n",
        "  #     interpolation='bilinear',\n",
        "  #     fill_value=0.0,\n",
        "  # )\n",
        "])\n",
        "\n",
        "\n",
        "model_builder = Xception\n",
        "xception = model_builder(weights=\"imagenet\")\n",
        "\n",
        "xception = model_builder(\n",
        "    include_top=False,\n",
        "    weights=\"imagenet\",\n",
        "    input_shape=(500,500,3),\n",
        "    classes=2,\n",
        "    classifier_activation=\"softmax\",\n",
        ")\n",
        "\n",
        "xception.trainable = False\n",
        "\n",
        "model = Sequential()\n",
        "\n",
        "# model.add(resize_and_rescale)\n",
        "model.add(data_augmentation)\n",
        "model.add(xception)\n",
        "model.add(layers.GlobalAveragePooling2D())\n",
        "\n",
        "# # First Conv\n",
        "# model.add(Conv2D(\n",
        "#   filters=64,\n",
        "#   kernel_size=(3,3),\n",
        "#   strides=(1,1),\n",
        "#   activation='relu'\n",
        "# ))\n",
        "\n",
        "# model.add(MaxPooling2D(\n",
        "#   pool_size = (2, 2)\n",
        "# ))\n",
        "\n",
        "# # Second Conv\n",
        "# model.add(Conv2D(\n",
        "#   filters=64,\n",
        "#   kernel_size=(3,3),\n",
        "#   strides=(1,1),\n",
        "#   activation='relu'\n",
        "# ))\n",
        "\n",
        "# model.add(MaxPooling2D(\n",
        "#   pool_size = (2, 2)\n",
        "# ))\n",
        "\n",
        "# # Flatten\n",
        "# model.add(Flatten())\n",
        "\n",
        "#Just use a single output layer\n",
        "model.add(Dense(1, activation='sigmoid'))\n",
        "\n",
        "\n",
        "#Compile the model\n",
        "model.compile(optimizer='adam',\n",
        "              loss='bce',\n",
        "              metrics=['acc'])"
      ],
      "metadata": {
        "id": "RzBM8sKwujBM"
      },
      "execution_count": 50,
      "outputs": []
    },
    {
      "cell_type": "code",
      "source": [
        "es = EarlyStopping( patience = 4)\n",
        "\n",
        "\n",
        "res = model.fit(\n",
        "      X_train, \n",
        "      y_train, \n",
        "      epochs=32,\n",
        "      validation_data = (X_test, y_test),\n",
        "      callbacks = [es],\n",
        "    )\n",
        "\n"
      ],
      "metadata": {
        "colab": {
          "base_uri": "https://localhost:8080/"
        },
        "id": "BPpmnWv187yg",
        "outputId": "427a56c9-961c-4212-c9be-7dc0b32d46d0"
      },
      "execution_count": 54,
      "outputs": [
        {
          "output_type": "stream",
          "name": "stdout",
          "text": [
            "Epoch 1/32\n",
            "15/15 [==============================] - 3s 191ms/step - loss: 0.6976 - acc: 0.4911 - val_loss: 0.6858 - val_acc: 0.5467\n",
            "Epoch 2/32\n",
            "15/15 [==============================] - 2s 167ms/step - loss: 0.6930 - acc: 0.4978 - val_loss: 0.6912 - val_acc: 0.5000\n",
            "Epoch 3/32\n",
            "15/15 [==============================] - 3s 170ms/step - loss: 0.6913 - acc: 0.5356 - val_loss: 0.6928 - val_acc: 0.5133\n",
            "Epoch 4/32\n",
            "15/15 [==============================] - 3s 170ms/step - loss: 0.6889 - acc: 0.5378 - val_loss: 0.6874 - val_acc: 0.5533\n",
            "Epoch 5/32\n",
            "15/15 [==============================] - 3s 171ms/step - loss: 0.6902 - acc: 0.5356 - val_loss: 0.6985 - val_acc: 0.5067\n"
          ]
        }
      ]
    },
    {
      "cell_type": "code",
      "source": [
        "plt.plot(res.history['acc'], label = 'Train acc')\n",
        "plt.plot(res.history['val_acc'], label = 'Test acc')\n",
        "plt.legend();"
      ],
      "metadata": {
        "colab": {
          "base_uri": "https://localhost:8080/",
          "height": 265
        },
        "id": "5uPP7mHy88Se",
        "outputId": "25a0282e-8d75-4ece-dbb6-815e5cb96531"
      },
      "execution_count": 55,
      "outputs": [
        {
          "output_type": "display_data",
          "data": {
            "text/plain": [
              "<Figure size 432x288 with 1 Axes>"
            ],
            "image/png": "[encoded data removed]"
          },
          "metadata": {
            "needs_background": "light"
          }
        }
      ]
    },
    {
      "cell_type": "code",
      "source": [
        "plt.plot(res.history['loss'], label = 'Train Loss')\n",
        "plt.plot(res.history['val_loss'], label = 'Test Loss')\n",
        "plt.legend();"
      ],
      "metadata": {
        "colab": {
          "base_uri": "https://localhost:8080/",
          "height": 265
        },
        "id": "SxEDg1ph24Hq",
        "outputId": "0e146fe0-1b00-4049-a310-ff4e7d5bde7d"
      },
      "execution_count": 56,
      "outputs": [
        {
          "output_type": "display_data",
          "data": {
            "text/plain": [
              "<Figure size 432x288 with 1 Axes>"
            ],
            "image/png": "[encoded data removed]"
          },
          "metadata": {
            "needs_background": "light"
          }
        }
      ]
    },
    {
      "cell_type": "code",
      "source": [
        "# from sklearn.preprocessing import MinMaxScaler\n",
        "\n",
        "# scalar = MinMaxScaler()\n",
        "# scalar.fit(X_train)\n",
        "# X = scalar.transform(X_train)"
      ],
      "metadata": {
        "id": "s78cYv7rFgfX"
      },
      "execution_count": 63,
      "outputs": []
    },
    {
      "cell_type": "code",
      "source": [
        "pred_proba = model.predict(X_test)\n",
        "\n",
        "predict_classes=np.argmax(pred_proba,axis=1)\n",
        "\n",
        "for pred in pred_proba:\n",
        "  print(f\"{pred}\")"
      ],
      "metadata": {
        "colab": {
          "base_uri": "https://localhost:8080/"
        },
        "id": "6xFQs-VNFGcu",
        "outputId": "fad473d4-3c41-4231-d9e9-31fb223b9097"
      },
      "execution_count": 66,
      "outputs": [
        {
          "output_type": "stream",
          "name": "stdout",
          "text": [
            "5/5 [==============================] - 0s 91ms/step\n",
            "[0.43822467]\n",
            "[0.48038766]\n",
            "[0.44427723]\n",
            "[0.46240523]\n",
            "[0.45121667]\n",
            "[0.44809723]\n",
            "[0.4420055]\n",
            "[0.44091988]\n",
            "[0.4310834]\n",
            "[0.43709818]\n",
            "[0.49366975]\n",
            "[0.4440891]\n",
            "[0.47765055]\n",
            "[0.43762347]\n",
            "[0.44737825]\n",
            "[0.4485166]\n",
            "[0.44496188]\n",
            "[0.4838089]\n",
            "[0.44289675]\n",
            "[0.49923477]\n",
            "[0.4338071]\n",
            "[0.44436893]\n",
            "[0.44287506]\n",
            "[0.45930004]\n",
            "[0.45193276]\n",
            "[0.43665296]\n",
            "[0.45179492]\n",
            "[0.45133188]\n",
            "[0.44879323]\n",
            "[0.43572345]\n",
            "[0.51881444]\n",
            "[0.43682563]\n",
            "[0.46796617]\n",
            "[0.46014595]\n",
            "[0.46051133]\n",
            "[0.4772837]\n",
            "[0.44022667]\n",
            "[0.44675288]\n",
            "[0.43722957]\n",
            "[0.44259727]\n",
            "[0.4632535]\n",
            "[0.5018103]\n",
            "[0.4445398]\n",
            "[0.45204693]\n",
            "[0.43668178]\n",
            "[0.44625536]\n",
            "[0.49605855]\n",
            "[0.4633948]\n",
            "[0.5003043]\n",
            "[0.44748148]\n",
            "[0.4649119]\n",
            "[0.48579675]\n",
            "[0.47306094]\n",
            "[0.45045564]\n",
            "[0.4339988]\n",
            "[0.43294463]\n",
            "[0.46226773]\n",
            "[0.46937743]\n",
            "[0.44921964]\n",
            "[0.50399375]\n",
            "[0.4619536]\n",
            "[0.44105545]\n",
            "[0.47609586]\n",
            "[0.43903655]\n",
            "[0.44144315]\n",
            "[0.4654749]\n",
            "[0.4417086]\n",
            "[0.43084744]\n",
            "[0.46834463]\n",
            "[0.46762913]\n",
            "[0.44513905]\n",
            "[0.45235682]\n",
            "[0.46587786]\n",
            "[0.43740445]\n",
            "[0.44904068]\n",
            "[0.4386693]\n",
            "[0.445029]\n",
            "[0.44646403]\n",
            "[0.48048192]\n",
            "[0.449702]\n",
            "[0.47135052]\n",
            "[0.45077893]\n",
            "[0.49211788]\n",
            "[0.46574384]\n",
            "[0.45839468]\n",
            "[0.43823808]\n",
            "[0.4865379]\n",
            "[0.43608496]\n",
            "[0.46793833]\n",
            "[0.5192779]\n",
            "[0.43897763]\n",
            "[0.44941983]\n",
            "[0.504913]\n",
            "[0.48724473]\n",
            "[0.45803276]\n",
            "[0.5169441]\n",
            "[0.45195687]\n",
            "[0.4994426]\n",
            "[0.46016857]\n",
            "[0.45962825]\n",
            "[0.45530123]\n",
            "[0.4511573]\n",
            "[0.46003795]\n",
            "[0.45507684]\n",
            "[0.43114167]\n",
            "[0.44311714]\n",
            "[0.44584677]\n",
            "[0.51490575]\n",
            "[0.4498684]\n",
            "[0.4560426]\n",
            "[0.506365]\n",
            "[0.43489772]\n",
            "[0.4374452]\n",
            "[0.47253767]\n",
            "[0.47042263]\n",
            "[0.48858485]\n",
            "[0.44844726]\n",
            "[0.43800333]\n",
            "[0.44645318]\n",
            "[0.45355496]\n",
            "[0.4656412]\n",
            "[0.44548354]\n",
            "[0.4455741]\n",
            "[0.43655515]\n",
            "[0.50073916]\n",
            "[0.4484696]\n",
            "[0.46215078]\n",
            "[0.45220262]\n",
            "[0.46432772]\n",
            "[0.47844517]\n",
            "[0.47635567]\n",
            "[0.43173623]\n",
            "[0.44036362]\n",
            "[0.45049107]\n",
            "[0.47223994]\n",
            "[0.4513389]\n",
            "[0.4474959]\n",
            "[0.44786486]\n",
            "[0.4688997]\n",
            "[0.47729188]\n",
            "[0.44960192]\n",
            "[0.44591063]\n",
            "[0.46993235]\n",
            "[0.46421322]\n",
            "[0.43991998]\n",
            "[0.44461095]\n",
            "[0.43808374]\n",
            "[0.4837059]\n",
            "[0.44441167]\n",
            "[0.46466497]\n"
          ]
        }
      ]
    },
    {
      "cell_type": "code",
      "source": [
        "scores = model.evaluate(X_test, y_test, verbose=0)\n",
        "for score in scores:\n",
        "  print(f\"{model.metrics_names[0]}: {round(score*100, 2)}%\")"
      ],
      "metadata": {
        "colab": {
          "base_uri": "https://localhost:8080/"
        },
        "id": "xKkb_JO6DNhe",
        "outputId": "7dc6c370-d915-4f14-b827-5ec06afd375c"
      },
      "execution_count": 60,
      "outputs": [
        {
          "output_type": "stream",
          "name": "stdout",
          "text": [
            "loss: 69.85%\n",
            "loss: 50.67%\n"
          ]
        }
      ]
    }
  ],
  "metadata": {
    "kernelspec": {
      "display_name": "Python 3",
      "language": "python",
      "name": "python3"
    },
    "language_info": {
      "codemirror_mode": {
        "name": "ipython",
        "version": 3
      },
      "file_extension": ".py",
      "mimetype": "text/x-python",
      "name": "python",
      "nbconvert_exporter": "python",
      "pygments_lexer": "ipython3",
      "version": "3.9.13"
    },
    "orig_nbformat": 4,
    "vscode": {
      "interpreter": {
        "hash": "7af3ebbd7de8183e54c3a867989fd0d9f9e8343647e0895fccfd06c308b7a095"
      }
    },
    "colab": {
      "provenance": [],
      "machine_shape": "hm"
    },
    "accelerator": "GPU",
    "gpuClass": "premium"
  },
  "nbformat": 4,
  "nbformat_minor": 0
}