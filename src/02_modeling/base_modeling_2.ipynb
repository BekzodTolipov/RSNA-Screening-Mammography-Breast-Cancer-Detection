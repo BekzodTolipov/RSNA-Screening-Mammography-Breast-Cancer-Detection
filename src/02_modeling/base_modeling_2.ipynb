{
  "cells": [
    {
      "cell_type": "code",
      "source": [
        "!pip install pydicom"
      ],
      "metadata": {
        "colab": {
          "base_uri": "https://localhost:8080/"
        },
        "id": "jOiELGGgj4nh",
        "outputId": "d5095b6b-c2f6-4c05-f0ad-1c98455e8afc"
      },
      "execution_count": 1,
      "outputs": [
        {
          "output_type": "stream",
          "name": "stdout",
          "text": [
            "Looking in indexes: https://pypi.org/simple, https://us-python.pkg.dev/colab-wheels/public/simple/\n",
            "Collecting pydicom\n",
            "  Downloading pydicom-2.3.1-py3-none-any.whl (2.0 MB)\n",
            "\u001b[2K     \u001b[90m━━━━━━━━━━━━━━━━━━━━━━━━━━━━━━━━━━━━━━━━\u001b[0m \u001b[32m2.0/2.0 MB\u001b[0m \u001b[31m25.9 MB/s\u001b[0m eta \u001b[36m0:00:00\u001b[0m\n",
            "\u001b[?25hInstalling collected packages: pydicom\n",
            "Successfully installed pydicom-2.3.1\n"
          ]
        }
      ]
    },
    {
      "cell_type": "code",
      "source": [
        "from google.colab import drive\n",
        "drive.mount('/content/drive')"
      ],
      "metadata": {
        "colab": {
          "base_uri": "https://localhost:8080/"
        },
        "id": "W6PSSlVNkmfr",
        "outputId": "fd5e306f-4db2-4939-a8a9-da0319ed9346"
      },
      "execution_count": 2,
      "outputs": [
        {
          "output_type": "stream",
          "name": "stdout",
          "text": [
            "Mounted at /content/drive\n"
          ]
        }
      ]
    },
    {
      "cell_type": "code",
      "execution_count": 1,
      "metadata": {
        "id": "AEWOUYTUjsQI"
      },
      "outputs": [],
      "source": [
        "# imports\n",
        "import matplotlib.pyplot as plt\n",
        "import numpy as np\n",
        "import os\n",
        "import pandas as pd\n",
        "\n",
        "from tensorflow.keras.layers import Dense, Dropout, Flatten, Conv2D, MaxPooling2D\n",
        "from tensorflow.keras.models import Sequential\n",
        "from tensorflow.keras.preprocessing import image_dataset_from_directory\n",
        "from tensorflow.keras import layers\n",
        "\n",
        "from sklearn.model_selection import train_test_split\n",
        "from tensorflow.keras.applications.xception import Xception\n",
        "from tensorflow.keras.applications import VGG19\n",
        "\n",
        "from tensorflow.keras.callbacks import EarlyStopping\n",
        "from keras.models import load_model\n",
        "\n",
        "# For reproducibility\n",
        "np.random.seed(42)\n",
        "from scipy import sparse\n"
      ]
    },
    {
      "cell_type": "code",
      "source": [
        "df = pd.read_csv('/content/drive/MyDrive/General Assembly/breast_cancer_project/no_dubs_train.csv')\n",
        "\n",
        "cancer_only = df[df['cancer'] == 1]['patient_id'].tolist()\n",
        "no_cancer_only = df[df['cancer'] == 0]['patient_id'].tolist()\n"
      ],
      "metadata": {
        "id": "LqFDMV9dQFWP"
      },
      "execution_count": 2,
      "outputs": []
    },
    {
      "cell_type": "code",
      "source": [
        "MAX_IMAGE = 300"
      ],
      "metadata": {
        "id": "SNZCxJGHmwKb"
      },
      "execution_count": 3,
      "outputs": []
    },
    {
      "cell_type": "code",
      "source": [
        "target_path = '/content/drive/MyDrive/General Assembly/breast_cancer_project/breast_imaging_340px/cancer'\n",
        "\n",
        "list_of_dirs = [x for x in os.listdir(target_path)]\n",
        "print(f'Total mammograms: {len(list_of_dirs)}')\n",
        "\n",
        "image_count = 0\n",
        "sparse_dir_cancer_list = []\n",
        "count = 0\n",
        "for dir_name in list_of_dirs:\n",
        "\n",
        "  path = f'{target_path}/{dir_name}'\n",
        "  for dirs in os.listdir(path):\n",
        "    count += len(os.listdir(path))\n",
        "    if count < 2400:\n",
        "      continue\n",
        "\n",
        "    image_count += 1\n",
        "    sparse_dir_cancer_list.append(f'{path}/{dirs}')\n",
        "    if image_count >= MAX_IMAGE:\n",
        "      break\n",
        "  if image_count >= MAX_IMAGE:\n",
        "    break\n",
        "\n",
        "print(len(sparse_dir_cancer_list))"
      ],
      "metadata": {
        "id": "OHg7BkWrlGM1",
        "colab": {
          "base_uri": "https://localhost:8080/"
        },
        "outputId": "d1a613ca-8205-4e12-dcae-ed82add38fbe"
      },
      "execution_count": 4,
      "outputs": [
        {
          "output_type": "stream",
          "name": "stdout",
          "text": [
            "Total mammograms: 486\n",
            "226\n"
          ]
        }
      ]
    },
    {
      "cell_type": "code",
      "source": [
        "MAX_IMAGE = 1800"
      ],
      "metadata": {
        "id": "lyucFHxn87yW"
      },
      "execution_count": 5,
      "outputs": []
    },
    {
      "cell_type": "code",
      "source": [
        "target_path = '/content/drive/MyDrive/General Assembly/breast_cancer_project/breast_imaging_340px/no_cancer'\n",
        "\n",
        "list_of_dirs = [x for x in os.listdir(target_path)]\n",
        "print(f'Total mammograms: {len(list_of_dirs)}')\n",
        "\n",
        "image_count = 0\n",
        "sparse_dir_no_cancer_list = []\n",
        "count = 0\n",
        "for dir_name in list_of_dirs:\n",
        "\n",
        "  path = f'{target_path}/{dir_name}'\n",
        "  for dirs in os.listdir(path):\n",
        "    count += len(os.listdir(path))\n",
        "    if count < 11600:\n",
        "      continue\n",
        "\n",
        "    image_count += 1\n",
        "    sparse_dir_no_cancer_list.append(f'{path}/{dirs}')\n",
        "    if image_count >= MAX_IMAGE:\n",
        "      break\n",
        "\n",
        "  if image_count >= MAX_IMAGE:\n",
        "    break"
      ],
      "metadata": {
        "id": "rJneVLFdlv2A",
        "colab": {
          "base_uri": "https://localhost:8080/"
        },
        "outputId": "d3e44f6f-0444-4b52-f58e-2baf264626d6"
      },
      "execution_count": 18,
      "outputs": [
        {
          "output_type": "stream",
          "name": "stdout",
          "text": [
            "Total mammograms: 10292\n"
          ]
        }
      ]
    },
    {
      "cell_type": "code",
      "execution_count": 19,
      "metadata": {
        "id": "r-8TqRibjsQJ",
        "colab": {
          "base_uri": "https://localhost:8080/"
        },
        "outputId": "0b4e984e-29e9-44f0-9fd7-f700b9d6f394"
      },
      "outputs": [
        {
          "output_type": "execute_result",
          "data": {
            "text/plain": [
              "(2026, 340, 340, 3)"
            ]
          },
          "metadata": {},
          "execution_count": 19
        }
      ],
      "source": [
        "def convert_image_to_rgb(arr):\n",
        "  img2 = np.zeros( ( np.array(arr).shape[0], np.array(arr).shape[1], 3 ) )\n",
        "  img2[:,:,0] = arr # same value in each channel\n",
        "  img2[:,:,1] = arr\n",
        "  img2[:,:,2] = arr\n",
        "\n",
        "  return img2\n",
        "\n",
        "X = []\n",
        "\n",
        "for cancer_sparse_path in sparse_dir_cancer_list:\n",
        "  sparse_matrix = sparse.load_npz(cancer_sparse_path)\n",
        "  rgb_image = convert_image_to_rgb(sparse_matrix.todense())\n",
        "  X.append(rgb_image)\n",
        "\n",
        "for no_cancer_sparse_path in sparse_dir_no_cancer_list:\n",
        "  sparse_matrix = sparse.load_npz(no_cancer_sparse_path)\n",
        "  rgb_image = convert_image_to_rgb(sparse_matrix.todense())\n",
        "  X.append(rgb_image)\n",
        "\n",
        "X = np.array(X)\n",
        "\n",
        "X.shape"
      ]
    },
    {
      "cell_type": "code",
      "source": [
        "y = [1] * 226 + [0] * 1800\n",
        "y = np.array(y)"
      ],
      "metadata": {
        "id": "F3cKgLGAmqv1"
      },
      "execution_count": 20,
      "outputs": []
    },
    {
      "cell_type": "code",
      "execution_count": 21,
      "metadata": {
        "id": "D67Z8u9ejsQJ"
      },
      "outputs": [],
      "source": [
        "X_train, X_test, y_train, y_test = train_test_split(X, y, random_state=42, stratify=y)\n"
      ]
    },
    {
      "cell_type": "markdown",
      "source": [
        "----"
      ],
      "metadata": {
        "id": "fB9ovLxgb6tM"
      }
    },
    {
      "cell_type": "code",
      "execution_count": 15,
      "metadata": {
        "id": "cTmSUvEVjsQJ"
      },
      "outputs": [],
      "source": [
        "\n",
        "data_augmentation = Sequential([\n",
        "  layers.RandomFlip(\"horizontal_and_vertical\"),\n",
        "  layers.RandomRotation(0.4),\n",
        "  layers.RandomBrightness(\n",
        "    0.4, value_range=(0, 255)\n",
        "  ),\n",
        "  layers.RandomContrast(\n",
        "      0.4\n",
        "  ),\n",
        "  layers.RandomZoom(\n",
        "      height_factor=0.4,\n",
        "      width_factor=0.2,\n",
        "      fill_mode='reflect',\n",
        "      interpolation='bilinear',\n",
        "      fill_value=0.0,\n",
        "  )\n",
        "])\n",
        "\n",
        "model = Sequential()\n",
        "\n",
        "model.add(layers.Input(shape=(500,500, 3)))\n",
        "\n",
        "# First Convolution\n",
        "model.add(Conv2D(128, (3,3), activation='relu'))\n",
        "model.add(MaxPooling2D(pool_size=(2,2)))\n",
        "\n",
        "# Flatten\n",
        "model.add(Flatten())\n",
        "\n",
        "# Fully Connected\n",
        "model.add(Dense(64, activation='relu'))\n",
        "Dropout(rate=.4)\n",
        "\n",
        "model.add(Dense(64, activation='relu'))\n",
        "\n",
        "model.add(Dense(1, activation='sigmoid'))\n",
        "\n",
        "# Compile\n",
        "model.compile(optimizer='adam',\n",
        "              loss='bce',\n",
        "              metrics=['accuracy'])"
      ]
    },
    {
      "cell_type": "code",
      "execution_count": null,
      "metadata": {
        "id": "3K7yPNDnjsQK",
        "colab": {
          "base_uri": "https://localhost:8080/"
        },
        "outputId": "4ff42966-c88e-4a6d-c6e9-84875b109e22"
      },
      "outputs": [
        {
          "output_type": "stream",
          "name": "stdout",
          "text": [
            "Epoch 1/32\n"
          ]
        }
      ],
      "source": [
        "es = EarlyStopping( patience = 4)\n",
        "\n",
        "h = model.fit(\n",
        "    X_train, \n",
        "    y_train, \n",
        "    epochs=32, \n",
        "    batch_size=64, \n",
        "    validation_data=(X_test, y_test), \n",
        "    callbacks = [es],\n",
        ")\n"
      ]
    },
    {
      "cell_type": "code",
      "execution_count": null,
      "metadata": {
        "id": "zPyI0gehjsQM"
      },
      "outputs": [],
      "source": [
        "plt.plot(h.history['loss'], label = 'Train Loss')\n",
        "plt.plot(h.history['val_loss'], label = 'Test Loss')\n",
        "plt.legend();"
      ]
    },
    {
      "cell_type": "markdown",
      "source": [
        "-----"
      ],
      "metadata": {
        "id": "ge0aIyomb4Ph"
      }
    },
    {
      "cell_type": "code",
      "source": [
        "model_builder = Xception\n",
        "\n",
        "xception = model_builder(\n",
        "    include_top=False,\n",
        "    weights=\"imagenet\",\n",
        "    input_shape=(340,340,3),\n",
        "    classes=2,\n",
        "    classifier_activation=\"softmax\",\n",
        ")\n",
        "\n",
        "xception.trainable = False\n",
        "\n",
        "model = Sequential()\n",
        "\n",
        "# model.add(resize_and_rescale)\n",
        "# model.add(data_augmentation)\n",
        "model.add(xception)\n",
        "model.add(layers.GlobalAveragePooling2D())\n",
        "\n",
        "model.add(Dense(64, activation='relu'))\n",
        "\n",
        "#Just use a single output layer\n",
        "model.add(Dense(1, activation='sigmoid'))\n",
        "\n",
        "\n",
        "#Compile the model\n",
        "model.compile(optimizer='adam',\n",
        "              loss='bce',\n",
        "              metrics=['acc'])"
      ],
      "metadata": {
        "id": "RzBM8sKwujBM",
        "colab": {
          "base_uri": "https://localhost:8080/"
        },
        "outputId": "db0ea79b-c901-44eb-a2f5-1fc8bbe399c6"
      },
      "execution_count": 12,
      "outputs": [
        {
          "output_type": "stream",
          "name": "stdout",
          "text": [
            "Downloading data from https://storage.googleapis.com/tensorflow/keras-applications/xception/xception_weights_tf_dim_ordering_tf_kernels_notop.h5\n",
            "83683744/83683744 [==============================] - 0s 0us/step\n"
          ]
        }
      ]
    },
    {
      "cell_type": "code",
      "source": [
        "es = EarlyStopping( patience = 4)\n",
        "\n",
        "\n",
        "res = model.fit(\n",
        "      X_train, \n",
        "      y_train, \n",
        "      epochs=32,\n",
        "      validation_data = (X_test, y_test),\n",
        "      callbacks = [es],\n",
        "    )\n",
        "\n"
      ],
      "metadata": {
        "colab": {
          "base_uri": "https://localhost:8080/"
        },
        "id": "BPpmnWv187yg",
        "outputId": "8040120f-09de-44bd-9885-204de9f097a0"
      },
      "execution_count": 13,
      "outputs": [
        {
          "output_type": "stream",
          "name": "stdout",
          "text": [
            "Epoch 1/32\n",
            "24/24 [==============================] - 41s 2s/step - loss: 0.6390 - acc: 0.6693 - val_loss: 0.6100 - val_acc: 0.6920\n",
            "Epoch 2/32\n",
            "24/24 [==============================] - 37s 2s/step - loss: 0.5804 - acc: 0.7120 - val_loss: 0.6001 - val_acc: 0.6560\n",
            "Epoch 3/32\n",
            "24/24 [==============================] - 36s 2s/step - loss: 0.5964 - acc: 0.6680 - val_loss: 0.6406 - val_acc: 0.6800\n",
            "Epoch 4/32\n",
            "24/24 [==============================] - 37s 2s/step - loss: 0.5963 - acc: 0.7080 - val_loss: 0.5888 - val_acc: 0.6840\n",
            "Epoch 5/32\n",
            "24/24 [==============================] - 37s 2s/step - loss: 0.5617 - acc: 0.7173 - val_loss: 0.6203 - val_acc: 0.6760\n",
            "Epoch 6/32\n",
            "24/24 [==============================] - 37s 2s/step - loss: 0.5581 - acc: 0.7280 - val_loss: 0.6079 - val_acc: 0.6760\n",
            "Epoch 7/32\n",
            "24/24 [==============================] - 37s 2s/step - loss: 0.5490 - acc: 0.7187 - val_loss: 0.5946 - val_acc: 0.6800\n",
            "Epoch 8/32\n",
            "24/24 [==============================] - 36s 2s/step - loss: 0.5561 - acc: 0.7160 - val_loss: 0.6045 - val_acc: 0.6680\n"
          ]
        }
      ]
    },
    {
      "cell_type": "code",
      "source": [
        "plt.plot(res.history['acc'], label = 'Train acc')\n",
        "plt.plot(res.history['val_acc'], label = 'Test acc')\n",
        "plt.legend();"
      ],
      "metadata": {
        "colab": {
          "base_uri": "https://localhost:8080/",
          "height": 265
        },
        "id": "5uPP7mHy88Se",
        "outputId": "22e90bc1-6a8d-4a18-829b-14eb9c2cf87c"
      },
      "execution_count": 14,
      "outputs": [
        {
          "output_type": "display_data",
          "data": {
            "text/plain": [
              "<Figure size 432x288 with 1 Axes>"
            ],
            "image/png": "[encoded data removed]"
          },
          "metadata": {
            "needs_background": "light"
          }
        }
      ]
    },
    {
      "cell_type": "code",
      "source": [
        "plt.plot(res.history['loss'], label = 'Train Loss')\n",
        "plt.plot(res.history['val_loss'], label = 'Test Loss')\n",
        "plt.legend();"
      ],
      "metadata": {
        "colab": {
          "base_uri": "https://localhost:8080/",
          "height": 265
        },
        "id": "SxEDg1ph24Hq",
        "outputId": "cd452cdd-0980-4b3a-8d5c-8c29c86a4f5b"
      },
      "execution_count": 15,
      "outputs": [
        {
          "output_type": "display_data",
          "data": {
            "text/plain": [
              "<Figure size 432x288 with 1 Axes>"
            ],
            "image/png": "[encoded data removed]"
          },
          "metadata": {
            "needs_background": "light"
          }
        }
      ]
    },
    {
      "cell_type": "code",
      "source": [
        "model.save('/content/drive/MyDrive/General Assembly/breast_cancer_project/xception_model_v12.h5')"
      ],
      "metadata": {
        "id": "TxzDRtzva_Fl"
      },
      "execution_count": 27,
      "outputs": []
    },
    {
      "cell_type": "code",
      "source": [],
      "metadata": {
        "id": "hm5yTntbbqXR"
      },
      "execution_count": 142,
      "outputs": []
    },
    {
      "cell_type": "code",
      "source": [
        "model = load_model('/content/drive/MyDrive/General Assembly/breast_cancer_project/xception_model_v12.h5')"
      ],
      "metadata": {
        "id": "0hCnFQDmbZEz"
      },
      "execution_count": 17,
      "outputs": []
    },
    {
      "cell_type": "code",
      "source": [
        "es = EarlyStopping( patience = 4)\n",
        "\n",
        "\n",
        "res = model.fit(\n",
        "      X_train, \n",
        "      y_train, \n",
        "      epochs=32,\n",
        "      validation_data = (X_test, y_test),\n",
        "      callbacks = [es],\n",
        "    )\n",
        "\n"
      ],
      "metadata": {
        "colab": {
          "base_uri": "https://localhost:8080/"
        },
        "id": "-IaFprhybYlt",
        "outputId": "4b0ee973-f3ea-4e0d-9cc2-7704d21a06c4"
      },
      "execution_count": 22,
      "outputs": [
        {
          "output_type": "stream",
          "name": "stdout",
          "text": [
            "Epoch 1/32\n",
            "48/48 [==============================] - 77s 2s/step - loss: 0.2353 - acc: 0.9026 - val_loss: 0.3670 - val_acc: 0.8876\n",
            "Epoch 2/32\n",
            "48/48 [==============================] - 76s 2s/step - loss: 0.2416 - acc: 0.9085 - val_loss: 0.3275 - val_acc: 0.8895\n",
            "Epoch 3/32\n",
            "48/48 [==============================] - 75s 2s/step - loss: 0.2272 - acc: 0.9092 - val_loss: 0.3279 - val_acc: 0.8895\n",
            "Epoch 4/32\n",
            "48/48 [==============================] - 76s 2s/step - loss: 0.2307 - acc: 0.9184 - val_loss: 0.3764 - val_acc: 0.8876\n",
            "Epoch 5/32\n",
            "48/48 [==============================] - 75s 2s/step - loss: 0.2322 - acc: 0.9138 - val_loss: 0.3309 - val_acc: 0.8935\n",
            "Epoch 6/32\n",
            "48/48 [==============================] - 76s 2s/step - loss: 0.2125 - acc: 0.9190 - val_loss: 0.3720 - val_acc: 0.8876\n"
          ]
        }
      ]
    },
    {
      "cell_type": "code",
      "source": [
        "plt.plot(res.history['acc'], label = 'Train acc')\n",
        "plt.plot(res.history['val_acc'], label = 'Test acc')\n",
        "plt.legend();"
      ],
      "metadata": {
        "colab": {
          "base_uri": "https://localhost:8080/",
          "height": 266
        },
        "id": "lPt4xPb4bzSm",
        "outputId": "8386d20e-cdeb-41a2-8fd6-67427b18c7ae"
      },
      "execution_count": 25,
      "outputs": [
        {
          "output_type": "display_data",
          "data": {
            "text/plain": [
              "<Figure size 432x288 with 1 Axes>"
            ],
            "image/png": "[encoded data removed]"
          },
          "metadata": {
            "needs_background": "light"
          }
        }
      ]
    },
    {
      "cell_type": "code",
      "source": [
        "plt.plot(res.history['loss'], label = 'Train Loss')\n",
        "plt.plot(res.history['val_loss'], label = 'Test Loss')\n",
        "plt.legend();"
      ],
      "metadata": {
        "colab": {
          "base_uri": "https://localhost:8080/",
          "height": 265
        },
        "id": "zbRGab_ibz8X",
        "outputId": "749b23ad-debd-44b2-b63c-1d268b977d76"
      },
      "execution_count": 26,
      "outputs": [
        {
          "output_type": "display_data",
          "data": {
            "text/plain": [
              "<Figure size 432x288 with 1 Axes>"
            ],
            "image/png": "[encoded data removed]"
          },
          "metadata": {
            "needs_background": "light"
          }
        }
      ]
    },
    {
      "cell_type": "markdown",
      "source": [
        "-----\n"
      ],
      "metadata": {
        "id": "vhW2a_Obb1sD"
      }
    },
    {
      "cell_type": "code",
      "source": [
        "from tensorflow.keras.applications.resnet_v2 import ResNet50V2\n",
        "\n",
        "model_builder = ResNet50V2\n",
        "\n",
        "resnet = model_builder(\n",
        "    include_top=False,\n",
        "    weights=\"imagenet\",\n",
        "    input_shape=(340,340,3),\n",
        "    classes=2,\n",
        "    classifier_activation=\"softmax\",\n",
        ")\n",
        "\n",
        "resnet.trainable = False\n",
        "\n",
        "model = Sequential()\n",
        "\n",
        "# model.add(resize_and_rescale)\n",
        "# model.add(data_augmentation)\n",
        "model.add(resnet)\n",
        "model.add(layers.GlobalAveragePooling2D())\n",
        "\n",
        "model.add(Dense(64, activation='relu'))\n",
        "\n",
        "#Just use a single output layer\n",
        "model.add(Dense(1, activation='sigmoid'))\n",
        "\n",
        "\n",
        "#Compile the model\n",
        "model.compile(optimizer='adam',\n",
        "              loss='bce',\n",
        "              metrics=['acc'])\n",
        "\n",
        "es = EarlyStopping( patience = 4)\n",
        "\n",
        "\n",
        "res = model.fit(\n",
        "      X_train, \n",
        "      y_train, \n",
        "      epochs=32,\n",
        "      validation_data = (X_test, y_test),\n",
        "      callbacks = [es],\n",
        "    )\n",
        "\n"
      ],
      "metadata": {
        "id": "s78cYv7rFgfX",
        "colab": {
          "base_uri": "https://localhost:8080/",
          "height": 626
        },
        "outputId": "af5f9922-5f4d-4f56-ca9a-7c087c3663e2"
      },
      "execution_count": 138,
      "outputs": [
        {
          "output_type": "stream",
          "name": "stdout",
          "text": [
            "Downloading data from https://storage.googleapis.com/tensorflow/keras-applications/resnet/resnet50v2_weights_tf_dim_ordering_tf_kernels_notop.h5\n",
            "94668760/94668760 [==============================] - 0s 0us/step\n",
            "Epoch 1/32\n",
            "48/48 [==============================] - 65s 1s/step - loss: 0.4961 - acc: 0.8769 - val_loss: 0.3476 - val_acc: 0.8876\n",
            "Epoch 2/32\n",
            "48/48 [==============================] - 59s 1s/step - loss: 0.3761 - acc: 0.8848 - val_loss: 0.3441 - val_acc: 0.8876\n",
            "Epoch 3/32\n",
            "48/48 [==============================] - 58s 1s/step - loss: 0.3486 - acc: 0.8881 - val_loss: 0.3442 - val_acc: 0.8876\n",
            "Epoch 4/32\n",
            "48/48 [==============================] - 60s 1s/step - loss: 0.3413 - acc: 0.8881 - val_loss: 0.3452 - val_acc: 0.8876\n",
            "Epoch 5/32\n",
            " 3/48 [>.............................] - ETA: 43s - loss: 0.3657 - acc: 0.8750"
          ]
        },
        {
          "output_type": "error",
          "ename": "KeyboardInterrupt",
          "evalue": "ignored",
          "traceback": [
            "\u001b[0;31m---------------------------------------------------------------------------\u001b[0m",
            "\u001b[0;31mKeyboardInterrupt\u001b[0m                         Traceback (most recent call last)",
            "\u001b[0;32m<ipython-input-138-b8ea83bc1486>\u001b[0m in \u001b[0;36m<module>\u001b[0;34m\u001b[0m\n\u001b[1;32m     34\u001b[0m \u001b[0;34m\u001b[0m\u001b[0m\n\u001b[1;32m     35\u001b[0m \u001b[0;34m\u001b[0m\u001b[0m\n\u001b[0;32m---> 36\u001b[0;31m res = model.fit(\n\u001b[0m\u001b[1;32m     37\u001b[0m       \u001b[0mX_train\u001b[0m\u001b[0;34m,\u001b[0m\u001b[0;34m\u001b[0m\u001b[0;34m\u001b[0m\u001b[0m\n\u001b[1;32m     38\u001b[0m       \u001b[0my_train\u001b[0m\u001b[0;34m,\u001b[0m\u001b[0;34m\u001b[0m\u001b[0;34m\u001b[0m\u001b[0m\n",
            "\u001b[0;32m/usr/local/lib/python3.8/dist-packages/keras/utils/traceback_utils.py\u001b[0m in \u001b[0;36merror_handler\u001b[0;34m(*args, **kwargs)\u001b[0m\n\u001b[1;32m     63\u001b[0m         \u001b[0mfiltered_tb\u001b[0m \u001b[0;34m=\u001b[0m \u001b[0;32mNone\u001b[0m\u001b[0;34m\u001b[0m\u001b[0;34m\u001b[0m\u001b[0m\n\u001b[1;32m     64\u001b[0m         \u001b[0;32mtry\u001b[0m\u001b[0;34m:\u001b[0m\u001b[0;34m\u001b[0m\u001b[0;34m\u001b[0m\u001b[0m\n\u001b[0;32m---> 65\u001b[0;31m             \u001b[0;32mreturn\u001b[0m \u001b[0mfn\u001b[0m\u001b[0;34m(\u001b[0m\u001b[0;34m*\u001b[0m\u001b[0margs\u001b[0m\u001b[0;34m,\u001b[0m \u001b[0;34m**\u001b[0m\u001b[0mkwargs\u001b[0m\u001b[0;34m)\u001b[0m\u001b[0;34m\u001b[0m\u001b[0;34m\u001b[0m\u001b[0m\n\u001b[0m\u001b[1;32m     66\u001b[0m         \u001b[0;32mexcept\u001b[0m \u001b[0mException\u001b[0m \u001b[0;32mas\u001b[0m \u001b[0me\u001b[0m\u001b[0;34m:\u001b[0m\u001b[0;34m\u001b[0m\u001b[0;34m\u001b[0m\u001b[0m\n\u001b[1;32m     67\u001b[0m             \u001b[0mfiltered_tb\u001b[0m \u001b[0;34m=\u001b[0m \u001b[0m_process_traceback_frames\u001b[0m\u001b[0;34m(\u001b[0m\u001b[0me\u001b[0m\u001b[0;34m.\u001b[0m\u001b[0m__traceback__\u001b[0m\u001b[0;34m)\u001b[0m\u001b[0;34m\u001b[0m\u001b[0;34m\u001b[0m\u001b[0m\n",
            "\u001b[0;32m/usr/local/lib/python3.8/dist-packages/keras/engine/training.py\u001b[0m in \u001b[0;36mfit\u001b[0;34m(self, x, y, batch_size, epochs, verbose, callbacks, validation_split, validation_data, shuffle, class_weight, sample_weight, initial_epoch, steps_per_epoch, validation_steps, validation_batch_size, validation_freq, max_queue_size, workers, use_multiprocessing)\u001b[0m\n\u001b[1;32m   1648\u001b[0m                         ):\n\u001b[1;32m   1649\u001b[0m                             \u001b[0mcallbacks\u001b[0m\u001b[0;34m.\u001b[0m\u001b[0mon_train_batch_begin\u001b[0m\u001b[0;34m(\u001b[0m\u001b[0mstep\u001b[0m\u001b[0;34m)\u001b[0m\u001b[0;34m\u001b[0m\u001b[0;34m\u001b[0m\u001b[0m\n\u001b[0;32m-> 1650\u001b[0;31m                             \u001b[0mtmp_logs\u001b[0m \u001b[0;34m=\u001b[0m \u001b[0mself\u001b[0m\u001b[0;34m.\u001b[0m\u001b[0mtrain_function\u001b[0m\u001b[0;34m(\u001b[0m\u001b[0miterator\u001b[0m\u001b[0;34m)\u001b[0m\u001b[0;34m\u001b[0m\u001b[0;34m\u001b[0m\u001b[0m\n\u001b[0m\u001b[1;32m   1651\u001b[0m                             \u001b[0;32mif\u001b[0m \u001b[0mdata_handler\u001b[0m\u001b[0;34m.\u001b[0m\u001b[0mshould_sync\u001b[0m\u001b[0;34m:\u001b[0m\u001b[0;34m\u001b[0m\u001b[0;34m\u001b[0m\u001b[0m\n\u001b[1;32m   1652\u001b[0m                                 \u001b[0mcontext\u001b[0m\u001b[0;34m.\u001b[0m\u001b[0masync_wait\u001b[0m\u001b[0;34m(\u001b[0m\u001b[0;34m)\u001b[0m\u001b[0;34m\u001b[0m\u001b[0;34m\u001b[0m\u001b[0m\n",
            "\u001b[0;32m/usr/local/lib/python3.8/dist-packages/tensorflow/python/util/traceback_utils.py\u001b[0m in \u001b[0;36merror_handler\u001b[0;34m(*args, **kwargs)\u001b[0m\n\u001b[1;32m    148\u001b[0m     \u001b[0mfiltered_tb\u001b[0m \u001b[0;34m=\u001b[0m \u001b[0;32mNone\u001b[0m\u001b[0;34m\u001b[0m\u001b[0;34m\u001b[0m\u001b[0m\n\u001b[1;32m    149\u001b[0m     \u001b[0;32mtry\u001b[0m\u001b[0;34m:\u001b[0m\u001b[0;34m\u001b[0m\u001b[0;34m\u001b[0m\u001b[0m\n\u001b[0;32m--> 150\u001b[0;31m       \u001b[0;32mreturn\u001b[0m \u001b[0mfn\u001b[0m\u001b[0;34m(\u001b[0m\u001b[0;34m*\u001b[0m\u001b[0margs\u001b[0m\u001b[0;34m,\u001b[0m \u001b[0;34m**\u001b[0m\u001b[0mkwargs\u001b[0m\u001b[0;34m)\u001b[0m\u001b[0;34m\u001b[0m\u001b[0;34m\u001b[0m\u001b[0m\n\u001b[0m\u001b[1;32m    151\u001b[0m     \u001b[0;32mexcept\u001b[0m \u001b[0mException\u001b[0m \u001b[0;32mas\u001b[0m \u001b[0me\u001b[0m\u001b[0;34m:\u001b[0m\u001b[0;34m\u001b[0m\u001b[0;34m\u001b[0m\u001b[0m\n\u001b[1;32m    152\u001b[0m       \u001b[0mfiltered_tb\u001b[0m \u001b[0;34m=\u001b[0m \u001b[0m_process_traceback_frames\u001b[0m\u001b[0;34m(\u001b[0m\u001b[0me\u001b[0m\u001b[0;34m.\u001b[0m\u001b[0m__traceback__\u001b[0m\u001b[0;34m)\u001b[0m\u001b[0;34m\u001b[0m\u001b[0;34m\u001b[0m\u001b[0m\n",
            "\u001b[0;32m/usr/local/lib/python3.8/dist-packages/tensorflow/python/eager/polymorphic_function/polymorphic_function.py\u001b[0m in \u001b[0;36m__call__\u001b[0;34m(self, *args, **kwds)\u001b[0m\n\u001b[1;32m    878\u001b[0m \u001b[0;34m\u001b[0m\u001b[0m\n\u001b[1;32m    879\u001b[0m       \u001b[0;32mwith\u001b[0m \u001b[0mOptionalXlaContext\u001b[0m\u001b[0;34m(\u001b[0m\u001b[0mself\u001b[0m\u001b[0;34m.\u001b[0m\u001b[0m_jit_compile\u001b[0m\u001b[0;34m)\u001b[0m\u001b[0;34m:\u001b[0m\u001b[0;34m\u001b[0m\u001b[0;34m\u001b[0m\u001b[0m\n\u001b[0;32m--> 880\u001b[0;31m         \u001b[0mresult\u001b[0m \u001b[0;34m=\u001b[0m \u001b[0mself\u001b[0m\u001b[0;34m.\u001b[0m\u001b[0m_call\u001b[0m\u001b[0;34m(\u001b[0m\u001b[0;34m*\u001b[0m\u001b[0margs\u001b[0m\u001b[0;34m,\u001b[0m \u001b[0;34m**\u001b[0m\u001b[0mkwds\u001b[0m\u001b[0;34m)\u001b[0m\u001b[0;34m\u001b[0m\u001b[0;34m\u001b[0m\u001b[0m\n\u001b[0m\u001b[1;32m    881\u001b[0m \u001b[0;34m\u001b[0m\u001b[0m\n\u001b[1;32m    882\u001b[0m       \u001b[0mnew_tracing_count\u001b[0m \u001b[0;34m=\u001b[0m \u001b[0mself\u001b[0m\u001b[0;34m.\u001b[0m\u001b[0mexperimental_get_tracing_count\u001b[0m\u001b[0;34m(\u001b[0m\u001b[0;34m)\u001b[0m\u001b[0;34m\u001b[0m\u001b[0;34m\u001b[0m\u001b[0m\n",
            "\u001b[0;32m/usr/local/lib/python3.8/dist-packages/tensorflow/python/eager/polymorphic_function/polymorphic_function.py\u001b[0m in \u001b[0;36m_call\u001b[0;34m(self, *args, **kwds)\u001b[0m\n\u001b[1;32m    910\u001b[0m       \u001b[0;31m# In this case we have created variables on the first call, so we run the\u001b[0m\u001b[0;34m\u001b[0m\u001b[0;34m\u001b[0m\u001b[0;34m\u001b[0m\u001b[0m\n\u001b[1;32m    911\u001b[0m       \u001b[0;31m# defunned version which is guaranteed to never create variables.\u001b[0m\u001b[0;34m\u001b[0m\u001b[0;34m\u001b[0m\u001b[0;34m\u001b[0m\u001b[0m\n\u001b[0;32m--> 912\u001b[0;31m       \u001b[0;32mreturn\u001b[0m \u001b[0mself\u001b[0m\u001b[0;34m.\u001b[0m\u001b[0m_no_variable_creation_fn\u001b[0m\u001b[0;34m(\u001b[0m\u001b[0;34m*\u001b[0m\u001b[0margs\u001b[0m\u001b[0;34m,\u001b[0m \u001b[0;34m**\u001b[0m\u001b[0mkwds\u001b[0m\u001b[0;34m)\u001b[0m  \u001b[0;31m# pylint: disable=not-callable\u001b[0m\u001b[0;34m\u001b[0m\u001b[0;34m\u001b[0m\u001b[0m\n\u001b[0m\u001b[1;32m    913\u001b[0m     \u001b[0;32melif\u001b[0m \u001b[0mself\u001b[0m\u001b[0;34m.\u001b[0m\u001b[0m_variable_creation_fn\u001b[0m \u001b[0;32mis\u001b[0m \u001b[0;32mnot\u001b[0m \u001b[0;32mNone\u001b[0m\u001b[0;34m:\u001b[0m\u001b[0;34m\u001b[0m\u001b[0;34m\u001b[0m\u001b[0m\n\u001b[1;32m    914\u001b[0m       \u001b[0;31m# Release the lock early so that multiple threads can perform the call\u001b[0m\u001b[0;34m\u001b[0m\u001b[0;34m\u001b[0m\u001b[0;34m\u001b[0m\u001b[0m\n",
            "\u001b[0;32m/usr/local/lib/python3.8/dist-packages/tensorflow/python/eager/polymorphic_function/tracing_compiler.py\u001b[0m in \u001b[0;36m__call__\u001b[0;34m(self, *args, **kwargs)\u001b[0m\n\u001b[1;32m    132\u001b[0m       (concrete_function,\n\u001b[1;32m    133\u001b[0m        filtered_flat_args) = self._maybe_define_function(args, kwargs)\n\u001b[0;32m--> 134\u001b[0;31m     return concrete_function._call_flat(\n\u001b[0m\u001b[1;32m    135\u001b[0m         filtered_flat_args, captured_inputs=concrete_function.captured_inputs)  # pylint: disable=protected-access\n\u001b[1;32m    136\u001b[0m \u001b[0;34m\u001b[0m\u001b[0m\n",
            "\u001b[0;32m/usr/local/lib/python3.8/dist-packages/tensorflow/python/eager/polymorphic_function/monomorphic_function.py\u001b[0m in \u001b[0;36m_call_flat\u001b[0;34m(self, args, captured_inputs, cancellation_manager)\u001b[0m\n\u001b[1;32m   1743\u001b[0m         and executing_eagerly):\n\u001b[1;32m   1744\u001b[0m       \u001b[0;31m# No tape is watching; skip to running the function.\u001b[0m\u001b[0;34m\u001b[0m\u001b[0;34m\u001b[0m\u001b[0;34m\u001b[0m\u001b[0m\n\u001b[0;32m-> 1745\u001b[0;31m       return self._build_call_outputs(self._inference_function.call(\n\u001b[0m\u001b[1;32m   1746\u001b[0m           ctx, args, cancellation_manager=cancellation_manager))\n\u001b[1;32m   1747\u001b[0m     forward_backward = self._select_forward_and_backward_functions(\n",
            "\u001b[0;32m/usr/local/lib/python3.8/dist-packages/tensorflow/python/eager/polymorphic_function/monomorphic_function.py\u001b[0m in \u001b[0;36mcall\u001b[0;34m(self, ctx, args, cancellation_manager)\u001b[0m\n\u001b[1;32m    376\u001b[0m       \u001b[0;32mwith\u001b[0m \u001b[0m_InterpolateFunctionError\u001b[0m\u001b[0;34m(\u001b[0m\u001b[0mself\u001b[0m\u001b[0;34m)\u001b[0m\u001b[0;34m:\u001b[0m\u001b[0;34m\u001b[0m\u001b[0;34m\u001b[0m\u001b[0m\n\u001b[1;32m    377\u001b[0m         \u001b[0;32mif\u001b[0m \u001b[0mcancellation_manager\u001b[0m \u001b[0;32mis\u001b[0m \u001b[0;32mNone\u001b[0m\u001b[0;34m:\u001b[0m\u001b[0;34m\u001b[0m\u001b[0;34m\u001b[0m\u001b[0m\n\u001b[0;32m--> 378\u001b[0;31m           outputs = execute.execute(\n\u001b[0m\u001b[1;32m    379\u001b[0m               \u001b[0mstr\u001b[0m\u001b[0;34m(\u001b[0m\u001b[0mself\u001b[0m\u001b[0;34m.\u001b[0m\u001b[0msignature\u001b[0m\u001b[0;34m.\u001b[0m\u001b[0mname\u001b[0m\u001b[0;34m)\u001b[0m\u001b[0;34m,\u001b[0m\u001b[0;34m\u001b[0m\u001b[0;34m\u001b[0m\u001b[0m\n\u001b[1;32m    380\u001b[0m               \u001b[0mnum_outputs\u001b[0m\u001b[0;34m=\u001b[0m\u001b[0mself\u001b[0m\u001b[0;34m.\u001b[0m\u001b[0m_num_outputs\u001b[0m\u001b[0;34m,\u001b[0m\u001b[0;34m\u001b[0m\u001b[0;34m\u001b[0m\u001b[0m\n",
            "\u001b[0;32m/usr/local/lib/python3.8/dist-packages/tensorflow/python/eager/execute.py\u001b[0m in \u001b[0;36mquick_execute\u001b[0;34m(op_name, num_outputs, inputs, attrs, ctx, name)\u001b[0m\n\u001b[1;32m     50\u001b[0m   \u001b[0;32mtry\u001b[0m\u001b[0;34m:\u001b[0m\u001b[0;34m\u001b[0m\u001b[0;34m\u001b[0m\u001b[0m\n\u001b[1;32m     51\u001b[0m     \u001b[0mctx\u001b[0m\u001b[0;34m.\u001b[0m\u001b[0mensure_initialized\u001b[0m\u001b[0;34m(\u001b[0m\u001b[0;34m)\u001b[0m\u001b[0;34m\u001b[0m\u001b[0;34m\u001b[0m\u001b[0m\n\u001b[0;32m---> 52\u001b[0;31m     tensors = pywrap_tfe.TFE_Py_Execute(ctx._handle, device_name, op_name,\n\u001b[0m\u001b[1;32m     53\u001b[0m                                         inputs, attrs, num_outputs)\n\u001b[1;32m     54\u001b[0m   \u001b[0;32mexcept\u001b[0m \u001b[0mcore\u001b[0m\u001b[0;34m.\u001b[0m\u001b[0m_NotOkStatusException\u001b[0m \u001b[0;32mas\u001b[0m \u001b[0me\u001b[0m\u001b[0;34m:\u001b[0m\u001b[0;34m\u001b[0m\u001b[0;34m\u001b[0m\u001b[0m\n",
            "\u001b[0;31mKeyboardInterrupt\u001b[0m: "
          ]
        }
      ]
    },
    {
      "cell_type": "code",
      "source": [
        "plt.plot(res.history['acc'], label = 'Train acc')\n",
        "plt.plot(res.history['val_acc'], label = 'Test acc')\n",
        "plt.legend();"
      ],
      "metadata": {
        "id": "Num1zyeDGwoQ"
      },
      "execution_count": null,
      "outputs": []
    },
    {
      "cell_type": "code",
      "source": [
        "plt.plot(res.history['loss'], label = 'Train Loss')\n",
        "plt.plot(res.history['val_loss'], label = 'Test Loss')\n",
        "plt.legend();"
      ],
      "metadata": {
        "id": "_AemOWurGv_A"
      },
      "execution_count": null,
      "outputs": []
    },
    {
      "cell_type": "code",
      "source": [
        "pred_proba = model.predict(X_test)\n",
        "\n",
        "predict_classes=np.argmax(pred_proba,axis=1)\n",
        "\n",
        "for pred in pred_proba:\n",
        "  print(f\"{pred}\")"
      ],
      "metadata": {
        "colab": {
          "base_uri": "https://localhost:8080/"
        },
        "id": "6xFQs-VNFGcu",
        "outputId": "fad473d4-3c41-4231-d9e9-31fb223b9097"
      },
      "execution_count": null,
      "outputs": [
        {
          "output_type": "stream",
          "name": "stdout",
          "text": [
            "5/5 [==============================] - 0s 91ms/step\n",
            "[0.43822467]\n",
            "[0.48038766]\n",
            "[0.44427723]\n",
            "[0.46240523]\n",
            "[0.45121667]\n",
            "[0.44809723]\n",
            "[0.4420055]\n",
            "[0.44091988]\n",
            "[0.4310834]\n",
            "[0.43709818]\n",
            "[0.49366975]\n",
            "[0.4440891]\n",
            "[0.47765055]\n",
            "[0.43762347]\n",
            "[0.44737825]\n",
            "[0.4485166]\n",
            "[0.44496188]\n",
            "[0.4838089]\n",
            "[0.44289675]\n",
            "[0.49923477]\n",
            "[0.4338071]\n",
            "[0.44436893]\n",
            "[0.44287506]\n",
            "[0.45930004]\n",
            "[0.45193276]\n",
            "[0.43665296]\n",
            "[0.45179492]\n",
            "[0.45133188]\n",
            "[0.44879323]\n",
            "[0.43572345]\n",
            "[0.51881444]\n",
            "[0.43682563]\n",
            "[0.46796617]\n",
            "[0.46014595]\n",
            "[0.46051133]\n",
            "[0.4772837]\n",
            "[0.44022667]\n",
            "[0.44675288]\n",
            "[0.43722957]\n",
            "[0.44259727]\n",
            "[0.4632535]\n",
            "[0.5018103]\n",
            "[0.4445398]\n",
            "[0.45204693]\n",
            "[0.43668178]\n",
            "[0.44625536]\n",
            "[0.49605855]\n",
            "[0.4633948]\n",
            "[0.5003043]\n",
            "[0.44748148]\n",
            "[0.4649119]\n",
            "[0.48579675]\n",
            "[0.47306094]\n",
            "[0.45045564]\n",
            "[0.4339988]\n",
            "[0.43294463]\n",
            "[0.46226773]\n",
            "[0.46937743]\n",
            "[0.44921964]\n",
            "[0.50399375]\n",
            "[0.4619536]\n",
            "[0.44105545]\n",
            "[0.47609586]\n",
            "[0.43903655]\n",
            "[0.44144315]\n",
            "[0.4654749]\n",
            "[0.4417086]\n",
            "[0.43084744]\n",
            "[0.46834463]\n",
            "[0.46762913]\n",
            "[0.44513905]\n",
            "[0.45235682]\n",
            "[0.46587786]\n",
            "[0.43740445]\n",
            "[0.44904068]\n",
            "[0.4386693]\n",
            "[0.445029]\n",
            "[0.44646403]\n",
            "[0.48048192]\n",
            "[0.449702]\n",
            "[0.47135052]\n",
            "[0.45077893]\n",
            "[0.49211788]\n",
            "[0.46574384]\n",
            "[0.45839468]\n",
            "[0.43823808]\n",
            "[0.4865379]\n",
            "[0.43608496]\n",
            "[0.46793833]\n",
            "[0.5192779]\n",
            "[0.43897763]\n",
            "[0.44941983]\n",
            "[0.504913]\n",
            "[0.48724473]\n",
            "[0.45803276]\n",
            "[0.5169441]\n",
            "[0.45195687]\n",
            "[0.4994426]\n",
            "[0.46016857]\n",
            "[0.45962825]\n",
            "[0.45530123]\n",
            "[0.4511573]\n",
            "[0.46003795]\n",
            "[0.45507684]\n",
            "[0.43114167]\n",
            "[0.44311714]\n",
            "[0.44584677]\n",
            "[0.51490575]\n",
            "[0.4498684]\n",
            "[0.4560426]\n",
            "[0.506365]\n",
            "[0.43489772]\n",
            "[0.4374452]\n",
            "[0.47253767]\n",
            "[0.47042263]\n",
            "[0.48858485]\n",
            "[0.44844726]\n",
            "[0.43800333]\n",
            "[0.44645318]\n",
            "[0.45355496]\n",
            "[0.4656412]\n",
            "[0.44548354]\n",
            "[0.4455741]\n",
            "[0.43655515]\n",
            "[0.50073916]\n",
            "[0.4484696]\n",
            "[0.46215078]\n",
            "[0.45220262]\n",
            "[0.46432772]\n",
            "[0.47844517]\n",
            "[0.47635567]\n",
            "[0.43173623]\n",
            "[0.44036362]\n",
            "[0.45049107]\n",
            "[0.47223994]\n",
            "[0.4513389]\n",
            "[0.4474959]\n",
            "[0.44786486]\n",
            "[0.4688997]\n",
            "[0.47729188]\n",
            "[0.44960192]\n",
            "[0.44591063]\n",
            "[0.46993235]\n",
            "[0.46421322]\n",
            "[0.43991998]\n",
            "[0.44461095]\n",
            "[0.43808374]\n",
            "[0.4837059]\n",
            "[0.44441167]\n",
            "[0.46466497]\n"
          ]
        }
      ]
    },
    {
      "cell_type": "code",
      "source": [
        "scores = model.evaluate(X_test, y_test, verbose=0)\n",
        "for score in scores:\n",
        "  print(f\"{model.metrics_names[0]}: {round(score*100, 2)}%\")"
      ],
      "metadata": {
        "colab": {
          "base_uri": "https://localhost:8080/"
        },
        "id": "xKkb_JO6DNhe",
        "outputId": "7dc6c370-d915-4f14-b827-5ec06afd375c"
      },
      "execution_count": null,
      "outputs": [
        {
          "output_type": "stream",
          "name": "stdout",
          "text": [
            "loss: 69.85%\n",
            "loss: 50.67%\n"
          ]
        }
      ]
    }
  ],
  "metadata": {
    "kernelspec": {
      "display_name": "Python 3",
      "language": "python",
      "name": "python3"
    },
    "language_info": {
      "codemirror_mode": {
        "name": "ipython",
        "version": 3
      },
      "file_extension": ".py",
      "mimetype": "text/x-python",
      "name": "python",
      "nbconvert_exporter": "python",
      "pygments_lexer": "ipython3",
      "version": "3.9.13"
    },
    "orig_nbformat": 4,
    "vscode": {
      "interpreter": {
        "hash": "7af3ebbd7de8183e54c3a867989fd0d9f9e8343647e0895fccfd06c308b7a095"
      }
    },
    "colab": {
      "provenance": [],
      "machine_shape": "hm"
    },
    "accelerator": "TPU",
    "gpuClass": "premium"
  },
  "nbformat": 4,
  "nbformat_minor": 0
}